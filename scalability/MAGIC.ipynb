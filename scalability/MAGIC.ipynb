{
 "cells": [
  {
   "cell_type": "code",
   "execution_count": 1,
   "id": "626113b9",
   "metadata": {},
   "outputs": [],
   "source": [
    "import numpy as np\n",
    "import pandas as pd\n",
    "import polars as pl\n",
    "\n",
    "from sklearn.metrics import adjusted_rand_score, adjusted_mutual_info_score, normalized_mutual_info_score\n",
    "from sklearn.cluster import KMeans, SpectralClustering\n",
    "from sklearn.cluster import SpectralClustering\n",
    "\n",
    "from sklearn.decomposition import PCA, SparsePCA, KernelPCA\n",
    "from sklearn.manifold import TSNE\n",
    "\n",
    "import magic\n",
    "import scprep\n",
    "\n",
    "%matplotlib inline\n",
    "\n",
    "# from sklearnex import patch_sklearn\n",
    "# patch_sklearn()\n",
    "\n",
    "import warnings\n",
    "\n",
    "from sklearn.cluster import KMeans\n",
    "from tqdm import tqdm\n",
    "\n",
    "# r('''library(Seurat)''')"
   ]
  },
  {
   "cell_type": "code",
   "execution_count": 2,
   "id": "0cc81a91",
   "metadata": {},
   "outputs": [],
   "source": [
    "def get_cluster_metrics(pred, labels):\n",
    "    ari_res = []\n",
    "    ami_res = []\n",
    "    nmi_res = []\n",
    "    \n",
    "    pred_ = KMeans(n_clusters=len(np.unique(labels)), random_state=42).fit_predict(pred)\n",
    "\n",
    "    ari_res.append(adjusted_rand_score(labels, pred_))\n",
    "    ami_res.append(adjusted_mutual_info_score(labels, pred_))\n",
    "    nmi_res.append(normalized_mutual_info_score(labels, pred_))\n",
    "\n",
    "    warnings.filterwarnings(\"error\")\n",
    "\n",
    "    affinities = ['cosine', 'linear', 'poly']\n",
    "\n",
    "    for i in tqdm(affinities):\n",
    "        try:\n",
    "            pred_ = SpectralClustering(\n",
    "                n_clusters=len(np.unique(labels)), \n",
    "                random_state=42, \n",
    "                affinity=i\n",
    "            ).fit_predict(pred)\n",
    "            ari_res.append(adjusted_rand_score(labels, pred_))\n",
    "            ami_res.append(adjusted_mutual_info_score(labels, pred_))\n",
    "            nmi_res.append(normalized_mutual_info_score(labels, pred_))\n",
    "        except:\n",
    "            ari_res.append(0)\n",
    "            ami_res.append(0)\n",
    "            nmi_res.append(0)\n",
    "\n",
    "    warnings.resetwarnings()\n",
    "    \n",
    "    return max(ari_res), max(ami_res), max(nmi_res)"
   ]
  },
  {
   "cell_type": "code",
   "execution_count": 3,
   "id": "deedf56f",
   "metadata": {},
   "outputs": [],
   "source": [
    "def get_data():\n",
    "    df =pl.read_csv('../data/pbmc40k/data.csv.gz')\n",
    "    tmp = np.sign(df[:, 1:])\n",
    "    tmp = np.sum(tmp, axis=0) > df.shape[0] *0.001\n",
    "    cols = [i for i, j in zip(df.columns[1:], tmp) if j]\n",
    "    labels = np.array(df[''])\n",
    "    df = df[:, cols]\n",
    "    df = np.log(df + 1)\n",
    "    df_norm = df\n",
    "    df_norm = scprep.normalize.library_size_normalize(df_norm)    \n",
    "    df_norm = scprep.transform.sqrt(df_norm)\n",
    "    return df_norm, labels"
   ]
  },
  {
   "cell_type": "code",
   "execution_count": 4,
   "id": "2823df15",
   "metadata": {},
   "outputs": [],
   "source": [
    "X_norm, labels = get_data()"
   ]
  },
  {
   "cell_type": "code",
   "execution_count": null,
   "id": "4ab6d4a5",
   "metadata": {},
   "outputs": [
    {
     "name": "stdout",
     "output_type": "stream",
     "text": [
      "Calculating MAGIC...\n",
      "  Running MAGIC on 40000 cells and 11908 genes.\n",
      "  Calculating graph and diffusion operator...\n",
      "    Calculating PCA...\n",
      "    Calculated PCA in 26.23 seconds.\n",
      "    Calculating KNN search...\n"
     ]
    }
   ],
   "source": [
    "pred = magic.MAGIC().fit_transform(X_norm)\n",
    "(get_cluster_metrics(pred, labels))"
   ]
  },
  {
   "cell_type": "code",
   "execution_count": null,
   "id": "350a502e",
   "metadata": {},
   "outputs": [],
   "source": []
  }
 ],
 "metadata": {
  "kernelspec": {
   "display_name": "cluster3",
   "language": "python",
   "name": "cluster3"
  },
  "language_info": {
   "codemirror_mode": {
    "name": "ipython",
    "version": 3
   },
   "file_extension": ".py",
   "mimetype": "text/x-python",
   "name": "python",
   "nbconvert_exporter": "python",
   "pygments_lexer": "ipython3",
   "version": "3.10.11"
  }
 },
 "nbformat": 4,
 "nbformat_minor": 5
}
