{
 "cells": [
  {
   "cell_type": "code",
   "execution_count": 2,
   "id": "1bd2becb",
   "metadata": {},
   "outputs": [],
   "source": [
    "import numpy as np\n",
    "import pandas as pd\n",
    "import polars as pl\n",
    "\n",
    "from sklearn.metrics import adjusted_rand_score, adjusted_mutual_info_score, normalized_mutual_info_score\n",
    "from sklearn.cluster import KMeans, SpectralClustering\n",
    "from sklearn.cluster import SpectralClustering\n",
    "\n",
    "from sklearn.decomposition import PCA, SparsePCA, KernelPCA\n",
    "from sklearn.manifold import TSNE\n",
    "\n",
    "from rpy2.robjects import r, pandas2ri\n",
    "from rpy2.robjects.vectors import StrVector\n",
    "\n",
    "pandas2ri.activate()\n",
    "\n",
    "import magic\n",
    "import scprep\n",
    "\n",
    "%matplotlib inline\n",
    "\n",
    "# from sklearnex import patch_sklearn\n",
    "# patch_sklearn()\n",
    "\n",
    "import warnings\n",
    "\n",
    "from sklearn.cluster import KMeans\n",
    "from tqdm import tqdm\n",
    "\n",
    "r('''\n",
    "    source('../../imputation2/notebooks/repos/ALRA/alra.R')\n",
    "''')"
   ]
  },
  {
   "cell_type": "code",
   "execution_count": 3,
   "id": "3830ca42",
   "metadata": {},
   "outputs": [],
   "source": [
    "def get_cluster_metrics(pred, labels):\n",
    "    ari_res = []\n",
    "    ami_res = []\n",
    "    nmi_res = []\n",
    "    \n",
    "    pred_ = KMeans(n_clusters=len(np.unique(labels)), random_state=42).fit_predict(pred)\n",
    "\n",
    "    ari_res.append(adjusted_rand_score(labels, pred_))\n",
    "    ami_res.append(adjusted_mutual_info_score(labels, pred_))\n",
    "    nmi_res.append(normalized_mutual_info_score(labels, pred_))\n",
    "\n",
    "    warnings.filterwarnings(\"error\")\n",
    "\n",
    "    affinities = ['cosine', 'linear', 'poly']\n",
    "\n",
    "    for i in tqdm(affinities):\n",
    "        try:\n",
    "            pred_ = SpectralClustering(\n",
    "                n_clusters=len(np.unique(labels)), \n",
    "                random_state=42, \n",
    "                affinity=i\n",
    "            ).fit_predict(pred)\n",
    "            ari_res.append(adjusted_rand_score(labels, pred_))\n",
    "            ami_res.append(adjusted_mutual_info_score(labels, pred_))\n",
    "            nmi_res.append(normalized_mutual_info_score(labels, pred_))\n",
    "        except:\n",
    "            ari_res.append(0)\n",
    "            ami_res.append(0)\n",
    "            nmi_res.append(0)\n",
    "\n",
    "    warnings.resetwarnings()\n",
    "    \n",
    "    return max(ari_res), max(ami_res), max(nmi_res)"
   ]
  },
  {
   "cell_type": "code",
   "execution_count": 4,
   "id": "ce1cd69f",
   "metadata": {},
   "outputs": [],
   "source": [
    "def get_data():\n",
    "    df =pl.read_csv('../data/pbmc40k/data.csv.gz')\n",
    "    tmp = np.sign(df[:, 1:])\n",
    "    tmp = np.sum(tmp, axis=0) > df.shape[0] *0.001\n",
    "    cols = [i for i, j in zip(df.columns[1:], tmp) if j]\n",
    "    labels = np.array(df[''])\n",
    "    df = df[:, cols]\n",
    "    df = np.log(df + 1)\n",
    "    df_norm = df\n",
    "    df_norm = scprep.normalize.library_size_normalize(df_norm)    \n",
    "    df_norm = scprep.transform.sqrt(df_norm)\n",
    "    return df_norm, labels"
   ]
  },
  {
   "cell_type": "code",
   "execution_count": 5,
   "id": "24da6836",
   "metadata": {},
   "outputs": [],
   "source": [
    "X_norm, labels = get_data()"
   ]
  },
  {
   "cell_type": "code",
   "execution_count": null,
   "id": "064f0cb2",
   "metadata": {},
   "outputs": [],
   "source": [
    "r.assign(\"A\", X_norm)\n",
    "r('''\n",
    "    A = as.matrix(A)\n",
    "''')\n",
    "r('''\n",
    "    # Library and log normalize the data\n",
    "    A_norm <- normalize_data(A)\n",
    "    # Choose k. \n",
    "    k_choice <- choose_k(A_norm)\n",
    "''')\n",
    "pred = r('''\n",
    "    A_norm_completed <- alra(A_norm,k=k_choice$k)[[3]]\n",
    "''')\n",
    "\n",
    "get_cluster_metrics(pred, labels)"
   ]
  },
  {
   "cell_type": "code",
   "execution_count": null,
   "id": "56ba2805",
   "metadata": {},
   "outputs": [],
   "source": []
  },
  {
   "cell_type": "code",
   "execution_count": null,
   "id": "f5bd3360",
   "metadata": {},
   "outputs": [],
   "source": []
  },
  {
   "cell_type": "code",
   "execution_count": null,
   "id": "86d6f066",
   "metadata": {},
   "outputs": [],
   "source": []
  },
  {
   "cell_type": "code",
   "execution_count": null,
   "id": "0a55b876",
   "metadata": {},
   "outputs": [],
   "source": []
  },
  {
   "cell_type": "code",
   "execution_count": null,
   "id": "85240e5b",
   "metadata": {},
   "outputs": [],
   "source": []
  },
  {
   "cell_type": "code",
   "execution_count": null,
   "id": "7f374110",
   "metadata": {},
   "outputs": [],
   "source": []
  }
 ],
 "metadata": {
  "kernelspec": {
   "display_name": "gpu1",
   "language": "python",
   "name": "gpu1"
  },
  "language_info": {
   "codemirror_mode": {
    "name": "ipython",
    "version": 3
   },
   "file_extension": ".py",
   "mimetype": "text/x-python",
   "name": "python",
   "nbconvert_exporter": "python",
   "pygments_lexer": "ipython3",
   "version": "3.10.11"
  }
 },
 "nbformat": 4,
 "nbformat_minor": 5
}
