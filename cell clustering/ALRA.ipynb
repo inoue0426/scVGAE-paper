{
 "cells": [
  {
   "cell_type": "code",
   "execution_count": 1,
   "id": "249be191",
   "metadata": {},
   "outputs": [
    {
     "data": {
      "text/html": [
       "\n",
       "        <span>ListVector with 2 elements.</span>\n",
       "        <table>\n",
       "        <tbody>\n",
       "        \n",
       "          <tr>\n",
       "            <th>\n",
       "            value\n",
       "            </th>\n",
       "            <td>\n",
       "            <rpy2.rinterface.SexpClosure object at 0x7fd57bd91840> [RTYPES.CLOSXP]\n",
       "            </td>\n",
       "          </tr>\n",
       "        \n",
       "          <tr>\n",
       "            <th>\n",
       "            visible\n",
       "            </th>\n",
       "            <td>\n",
       "            <rpy2.rinterface.BoolSexpVector object at 0x7fd57bd91c80> [RTYPES.LGLSXP]\n",
       "            </td>\n",
       "          </tr>\n",
       "        \n",
       "        </tbody>\n",
       "        </table>\n",
       "        "
      ],
      "text/plain": [
       "<rpy2.robjects.vectors.ListVector object at 0x7fd57bd8c900> [RTYPES.VECSXP]\n",
       "R classes: ('list',)\n",
       "[SexpClosure, BoolSexpVector]\n",
       "  value: <class 'rpy2.rinterface.SexpClosure'>\n",
       "  <rpy2.rinterface.SexpClosure object at 0x7fd58f71cb40> [RTYPES.CLOSXP]\n",
       "  visible: <class 'rpy2.rinterface.BoolSexpVector'>\n",
       "  <rpy2.rinterface.BoolSexpVector object at 0x7fd57bd91840> [RTYPES.LGLSXP]"
      ]
     },
     "execution_count": 1,
     "metadata": {},
     "output_type": "execute_result"
    }
   ],
   "source": [
    "import tqdm\n",
    "# ^^^ pyforest auto-imports - don't write above this line\n",
    "import numpy as np\n",
    "import pandas as pd\n",
    "\n",
    "from sklearn.metrics import adjusted_rand_score, adjusted_mutual_info_score, normalized_mutual_info_score\n",
    "from sklearn.cluster import KMeans, SpectralClustering\n",
    "from sklearn.cluster import SpectralClustering\n",
    "\n",
    "from sklearn.decomposition import PCA, SparsePCA, KernelPCA\n",
    "from sklearn.manifold import TSNE\n",
    "\n",
    "from rpy2.robjects import r, pandas2ri\n",
    "from rpy2.robjects.vectors import StrVector\n",
    "\n",
    "pandas2ri.activate()\n",
    "\n",
    "import magic\n",
    "import scprep\n",
    "\n",
    "%matplotlib inline\n",
    "\n",
    "# from sklearnex import patch_sklearn\n",
    "# patch_sklearn()\n",
    "\n",
    "import warnings\n",
    "\n",
    "from sklearn.cluster import KMeans\n",
    "from tqdm import tqdm\n",
    "\n",
    "r('''\n",
    "    source('../../imputation2/notebooks/repos/ALRA/alra.R')\n",
    "''')"
   ]
  },
  {
   "cell_type": "code",
   "execution_count": 2,
   "id": "32627c1b",
   "metadata": {},
   "outputs": [],
   "source": [
    "def get_cluster_metrics(pred, labels):\n",
    "    ari_res = []\n",
    "    ami_res = []\n",
    "    nmi_res = []\n",
    "\n",
    "#     try:\n",
    "#         r.assign(\"data\", pred.T)\n",
    "#         seurat = r('''\n",
    "#             countsData = data.frame(data)\n",
    "#             pbmc <- CreateSeuratObject(counts = countsData, project = \"thal_single_cell\", min.cells = 1, min.features = 1)\n",
    "#             pbmc <- FindVariableFeatures(pbmc, selection.method = \"vst\", verbose=FALSE)\n",
    "#             all.genes <- rownames(pbmc)\n",
    "#             pbmc <- ScaleData(pbmc, features = all.genes, verbose=FALSE)\n",
    "#             pbmc <- RunPCA(pbmc, verbose=FALSE)\n",
    "#             pbmc <- FindNeighbors(pbmc, verbose=FALSE)\n",
    "#             pbmc <- FindClusters(pbmc, verbose=FALSE)\n",
    "#             Idents(pbmc)\n",
    "#         ''')\n",
    "#         ari_res.append(adjusted_rand_score(labels, seurat))\n",
    "#         ami_res.append(adjusted_mutual_info_score(labels, seurat))\n",
    "#         nmi_res.append(normalized_mutual_info_score(labels, seurat))\n",
    "#     except Exception as e:\n",
    "#         pass\n",
    "\n",
    "    pred_ = KMeans(n_clusters=len(np.unique(labels)), random_state=42).fit_predict(pred)\n",
    "\n",
    "    ari_res.append(adjusted_rand_score(labels, pred_))\n",
    "    ami_res.append(adjusted_mutual_info_score(labels, pred_))\n",
    "    nmi_res.append(normalized_mutual_info_score(labels, pred_))\n",
    "\n",
    "    warnings.filterwarnings(\"error\")\n",
    "\n",
    "    affinities = ['cosine', 'linear', 'poly']\n",
    "\n",
    "    for i in affinities:\n",
    "        try:\n",
    "            pred_ = SpectralClustering(\n",
    "                n_clusters=len(np.unique(labels)), \n",
    "                random_state=42, \n",
    "                affinity=i\n",
    "            ).fit_predict(pred)\n",
    "            ari_res.append(adjusted_rand_score(labels, pred_))\n",
    "            ami_res.append(adjusted_mutual_info_score(labels, pred_))\n",
    "            nmi_res.append(normalized_mutual_info_score(labels, pred_))\n",
    "        except:\n",
    "            ari_res.append(0)\n",
    "            ami_res.append(0)\n",
    "            nmi_res.append(0)\n",
    "\n",
    "    warnings.resetwarnings()\n",
    "    \n",
    "    return max(ari_res), max(ami_res), max(nmi_res)"
   ]
  },
  {
   "cell_type": "code",
   "execution_count": 3,
   "id": "30ec3cad",
   "metadata": {},
   "outputs": [],
   "source": [
    "def get_data(i):\n",
    "    df = pd.read_csv('../data/{}/data.csv.gz'.format(i), index_col=0)\n",
    "    tmp = np.sign(df)\n",
    "    cols = (np.sum(tmp) > int((df.shape[0])*0.05))\n",
    "    rows = (np.sum(tmp, axis=1) > int((df.shape[1])*0.05))\n",
    "    df = np.log(df.loc[rows, cols] + 1)\n",
    "    df_norm = df.copy()\n",
    "    df_norm = scprep.normalize.library_size_normalize(df_norm)    \n",
    "    df_norm = scprep.transform.sqrt(df_norm)\n",
    "    X_norm = pd.DataFrame(df_norm, columns=df.columns)\n",
    "    labels = df.index\n",
    "    return X_norm, labels"
   ]
  },
  {
   "cell_type": "code",
   "execution_count": 4,
   "id": "fb197f0b",
   "metadata": {},
   "outputs": [
    {
     "data": {
      "text/plain": [
       "['baron',\n",
       " 'bmcite',\n",
       " 'brosens',\n",
       " 'carey',\n",
       " 'cbmc',\n",
       " 'chang',\n",
       " 'Fujii',\n",
       " 'hcabm40k',\n",
       " 'hrvatin',\n",
       " 'jakel',\n",
       " 'jiang',\n",
       " 'loureiro',\n",
       " 'manno',\n",
       " 'mingyao',\n",
       " 'pbmc3k',\n",
       " 'Selewa',\n",
       " 'Xu']"
      ]
     },
     "execution_count": 4,
     "metadata": {},
     "output_type": "execute_result"
    }
   ],
   "source": [
    "dir_list = !ls ../data/ | grep -v zip\n",
    "dir_list"
   ]
  },
  {
   "cell_type": "code",
   "execution_count": 5,
   "id": "35eeef44",
   "metadata": {},
   "outputs": [
    {
     "data": {
      "text/plain": [
       "17"
      ]
     },
     "execution_count": 5,
     "metadata": {},
     "output_type": "execute_result"
    }
   ],
   "source": [
    "len(dir_list)"
   ]
  },
  {
   "cell_type": "code",
   "execution_count": 6,
   "id": "5ca5b0b2",
   "metadata": {
    "scrolled": true
   },
   "outputs": [
    {
     "name": "stderr",
     "output_type": "stream",
     "text": [
      "\r",
      "  0%|          | 0/17 [00:00<?, ?it/s]"
     ]
    },
    {
     "name": "stdout",
     "output_type": "stream",
     "text": [
      "Read matrix with 1791 cells and 8669 genes\n",
      "Getting nonzeros\n",
      "Randomized SVD\n",
      "Find the 0.001000 quantile of each gene\n",
      "Sweep\n",
      "Scaling all except for 0 columns\n",
      "0.00% of the values became negative in the scaling process and were set to zero\n",
      "The matrix went from 21.79% nonzero to 77.80% nonzero\n"
     ]
    },
    {
     "name": "stderr",
     "output_type": "stream",
     "text": [
      "\r",
      "  6%|▌         | 1/17 [01:08<18:10, 68.15s/it]"
     ]
    },
    {
     "name": "stdout",
     "output_type": "stream",
     "text": [
      "Read matrix with 5445 cells and 5421 genes\n",
      "Getting nonzeros\n",
      "Randomized SVD\n",
      "Find the 0.001000 quantile of each gene\n",
      "Sweep\n",
      "Scaling all except for 0 columns\n",
      "0.00% of the values became negative in the scaling process and were set to zero\n",
      "The matrix went from 23.76% nonzero to 76.38% nonzero\n"
     ]
    },
    {
     "name": "stderr",
     "output_type": "stream",
     "text": [
      "\r",
      " 12%|█▏        | 2/17 [03:50<30:57, 123.80s/it]"
     ]
    },
    {
     "name": "stdout",
     "output_type": "stream",
     "text": [
      "Read matrix with 3567 cells and 8102 genes\n",
      "Getting nonzeros\n",
      "Randomized SVD\n",
      "Find the 0.001000 quantile of each gene\n",
      "Sweep\n",
      "Scaling all except for 0 columns\n",
      "0.00% of the values became negative in the scaling process and were set to zero\n",
      "The matrix went from 26.43% nonzero to 81.39% nonzero\n"
     ]
    },
    {
     "name": "stderr",
     "output_type": "stream",
     "text": [
      "\r",
      " 18%|█▊        | 3/17 [05:29<26:13, 112.37s/it]"
     ]
    },
    {
     "name": "stdout",
     "output_type": "stream",
     "text": [
      "Read matrix with 5362 cells and 9582 genes\n",
      "Getting nonzeros\n",
      "Randomized SVD\n",
      "Find the 0.001000 quantile of each gene\n",
      "Sweep\n",
      "Scaling all except for 0 columns\n",
      "0.00% of the values became negative in the scaling process and were set to zero\n",
      "The matrix went from 24.47% nonzero to 81.32% nonzero\n"
     ]
    },
    {
     "name": "stderr",
     "output_type": "stream",
     "text": [
      "\r",
      " 24%|██▎       | 4/17 [10:03<38:11, 176.25s/it]"
     ]
    },
    {
     "name": "stdout",
     "output_type": "stream",
     "text": [
      "Read matrix with 2492 cells and 4531 genes\n",
      "Getting nonzeros\n",
      "Randomized SVD\n",
      "Find the 0.001000 quantile of each gene\n",
      "Sweep\n",
      "Scaling all except for 0 columns\n",
      "0.00% of the values became negative in the scaling process and were set to zero\n",
      "The matrix went from 24.66% nonzero to 87.31% nonzero\n"
     ]
    },
    {
     "name": "stderr",
     "output_type": "stream",
     "text": [
      "\r",
      " 29%|██▉       | 5/17 [11:57<30:43, 153.60s/it]"
     ]
    },
    {
     "name": "stdout",
     "output_type": "stream",
     "text": [
      "Read matrix with 1471 cells and 1002 genes\n",
      "Getting nonzeros\n",
      "Randomized SVD\n",
      "Find the 0.001000 quantile of each gene\n",
      "Sweep\n",
      "Scaling all except for 0 columns\n",
      "0.00% of the values became negative in the scaling process and were set to zero\n",
      "The matrix went from 44.83% nonzero to 75.83% nonzero\n"
     ]
    },
    {
     "name": "stderr",
     "output_type": "stream",
     "text": [
      "\r",
      " 35%|███▌      | 6/17 [13:21<23:51, 130.13s/it]"
     ]
    },
    {
     "name": "stdout",
     "output_type": "stream",
     "text": [
      "Read matrix with 2482 cells and 10689 genes\n",
      "Getting nonzeros\n",
      "Randomized SVD\n",
      "Find the 0.001000 quantile of each gene\n",
      "Sweep\n",
      "Scaling all except for 0 columns\n",
      "0.00% of the values became negative in the scaling process and were set to zero\n",
      "The matrix went from 36.12% nonzero to 79.49% nonzero\n"
     ]
    },
    {
     "name": "stderr",
     "output_type": "stream",
     "text": [
      "\r",
      " 41%|████      | 7/17 [15:37<21:59, 131.94s/it]"
     ]
    },
    {
     "name": "stdout",
     "output_type": "stream",
     "text": [
      "Read matrix with 4064 cells and 5125 genes\n",
      "Getting nonzeros\n",
      "Randomized SVD\n",
      "Find the 0.001000 quantile of each gene\n",
      "Sweep\n",
      "Scaling all except for 0 columns\n",
      "0.00% of the values became negative in the scaling process and were set to zero\n",
      "The matrix went from 25.67% nonzero to 76.42% nonzero\n"
     ]
    },
    {
     "name": "stderr",
     "output_type": "stream",
     "text": [
      "\r",
      " 47%|████▋     | 8/17 [18:39<22:11, 147.91s/it]"
     ]
    },
    {
     "name": "stdout",
     "output_type": "stream",
     "text": [
      "Read matrix with 4533 cells and 7992 genes\n",
      "Getting nonzeros\n",
      "Randomized SVD\n",
      "Find the 0.001000 quantile of each gene\n",
      "Sweep\n",
      "Scaling all except for 0 columns\n",
      "0.00% of the values became negative in the scaling process and were set to zero\n",
      "The matrix went from 22.01% nonzero to 76.14% nonzero\n"
     ]
    },
    {
     "name": "stderr",
     "output_type": "stream",
     "text": [
      "\r",
      " 53%|█████▎    | 9/17 [21:11<19:52, 149.01s/it]"
     ]
    },
    {
     "name": "stdout",
     "output_type": "stream",
     "text": [
      "Read matrix with 2913 cells and 6286 genes\n",
      "Getting nonzeros\n",
      "Randomized SVD\n",
      "Find the 0.001000 quantile of each gene\n",
      "Sweep\n",
      "Scaling all except for 0 columns\n",
      "0.00% of the values became negative in the scaling process and were set to zero\n",
      "The matrix went from 23.24% nonzero to 82.76% nonzero\n"
     ]
    },
    {
     "name": "stderr",
     "output_type": "stream",
     "text": [
      "\r",
      " 59%|█████▉    | 10/17 [22:42<15:18, 131.22s/it]"
     ]
    },
    {
     "name": "stdout",
     "output_type": "stream",
     "text": [
      "Read matrix with 1014 cells and 14568 genes\n",
      "Getting nonzeros\n",
      "Randomized SVD\n",
      "Find the 0.001000 quantile of each gene\n",
      "Sweep\n",
      "Scaling all except for 0 columns\n",
      "0.00% of the values became negative in the scaling process and were set to zero\n",
      "The matrix went from 41.85% nonzero to 68.91% nonzero\n"
     ]
    },
    {
     "name": "stderr",
     "output_type": "stream",
     "text": [
      "\r",
      " 65%|██████▍   | 11/17 [23:57<11:24, 114.15s/it]"
     ]
    },
    {
     "name": "stdout",
     "output_type": "stream",
     "text": [
      "Read matrix with 6656 cells and 10124 genes\n",
      "Getting nonzeros\n",
      "Randomized SVD\n",
      "Find the 0.001000 quantile of each gene\n",
      "Sweep\n",
      "Scaling all except for 0 columns\n",
      "0.00% of the values became negative in the scaling process and were set to zero\n",
      "The matrix went from 32.43% nonzero to 91.50% nonzero\n"
     ]
    },
    {
     "name": "stderr",
     "output_type": "stream",
     "text": [
      "\r",
      " 71%|███████   | 12/17 [26:56<11:08, 133.61s/it]"
     ]
    },
    {
     "name": "stdout",
     "output_type": "stream",
     "text": [
      "Read matrix with 1943 cells and 10502 genes\n",
      "Getting nonzeros\n",
      "Randomized SVD\n",
      "Find the 0.001000 quantile of each gene\n",
      "Sweep\n",
      "Scaling all except for 1 columns\n",
      "0.00% of the values became negative in the scaling process and were set to zero\n",
      "The matrix went from 20.74% nonzero to 68.92% nonzero\n"
     ]
    },
    {
     "name": "stderr",
     "output_type": "stream",
     "text": [
      "\r",
      " 76%|███████▋  | 13/17 [28:53<08:34, 128.73s/it]"
     ]
    },
    {
     "name": "stdout",
     "output_type": "stream",
     "text": [
      "Read matrix with 6600 cells and 5564 genes\n",
      "Getting nonzeros\n",
      "Randomized SVD\n",
      "Find the 0.001000 quantile of each gene\n",
      "Sweep\n",
      "Scaling all except for 0 columns\n",
      "0.00% of the values became negative in the scaling process and were set to zero\n",
      "The matrix went from 21.25% nonzero to 90.74% nonzero\n"
     ]
    },
    {
     "name": "stderr",
     "output_type": "stream",
     "text": [
      "\r",
      " 82%|████████▏ | 14/17 [31:34<06:55, 138.51s/it]"
     ]
    },
    {
     "name": "stdout",
     "output_type": "stream",
     "text": [
      "Read matrix with 2024 cells and 3857 genes\n",
      "Getting nonzeros\n",
      "Randomized SVD\n",
      "Find the 0.001000 quantile of each gene\n",
      "Sweep\n",
      "Scaling all except for 0 columns\n",
      "0.00% of the values became negative in the scaling process and were set to zero\n",
      "The matrix went from 20.11% nonzero to 91.26% nonzero\n"
     ]
    },
    {
     "name": "stderr",
     "output_type": "stream",
     "text": [
      "\r",
      " 88%|████████▊ | 15/17 [32:29<03:46, 113.38s/it]"
     ]
    },
    {
     "name": "stdout",
     "output_type": "stream",
     "text": [
      "Read matrix with 479 cells and 4021 genes\n",
      "Getting nonzeros\n",
      "Randomized SVD\n",
      "Find the 0.001000 quantile of each gene\n",
      "Sweep\n",
      "Scaling all except for 0 columns\n",
      "0.00% of the values became negative in the scaling process and were set to zero\n",
      "The matrix went from 25.36% nonzero to 85.02% nonzero\n"
     ]
    },
    {
     "name": "stderr",
     "output_type": "stream",
     "text": [
      "\r",
      " 94%|█████████▍| 16/17 [33:26<01:36, 96.25s/it] "
     ]
    },
    {
     "name": "stdout",
     "output_type": "stream",
     "text": [
      "Read matrix with 4252 cells and 7389 genes\n",
      "Getting nonzeros\n",
      "Randomized SVD\n",
      "Find the 0.001000 quantile of each gene\n",
      "Sweep\n",
      "Scaling all except for 0 columns\n",
      "0.00% of the values became negative in the scaling process and were set to zero\n",
      "The matrix went from 26.24% nonzero to 71.87% nonzero\n"
     ]
    },
    {
     "name": "stderr",
     "output_type": "stream",
     "text": [
      "100%|██████████| 17/17 [36:40<00:00, 129.46s/it]\n"
     ]
    }
   ],
   "source": [
    "res = []\n",
    "for i in tqdm(dir_list):\n",
    "    X_norm, labels = get_data(i)\n",
    "    r.assign(\"A\", X_norm)\n",
    "    r('''\n",
    "        A = as.matrix(A)\n",
    "    ''')\n",
    "    r('''\n",
    "        # Library and log normalize the data\n",
    "        A_norm <- normalize_data(A)\n",
    "        # Choose k. \n",
    "        k_choice <- choose_k(A_norm)\n",
    "    ''')\n",
    "    pred = r('''\n",
    "        A_norm_completed <- alra(A_norm,k=k_choice$k)[[3]]\n",
    "    ''')\n",
    "\n",
    "    res.append(get_cluster_metrics(pred, labels))"
   ]
  },
  {
   "cell_type": "code",
   "execution_count": 8,
   "id": "6a26d088",
   "metadata": {},
   "outputs": [
    {
     "data": {
      "text/html": [
       "<div>\n",
       "<style scoped>\n",
       "    .dataframe tbody tr th:only-of-type {\n",
       "        vertical-align: middle;\n",
       "    }\n",
       "\n",
       "    .dataframe tbody tr th {\n",
       "        vertical-align: top;\n",
       "    }\n",
       "\n",
       "    .dataframe thead th {\n",
       "        text-align: right;\n",
       "    }\n",
       "</style>\n",
       "<table border=\"1\" class=\"dataframe\">\n",
       "  <thead>\n",
       "    <tr style=\"text-align: right;\">\n",
       "      <th></th>\n",
       "      <th>ARI</th>\n",
       "      <th>AMI</th>\n",
       "      <th>NMI</th>\n",
       "    </tr>\n",
       "  </thead>\n",
       "  <tbody>\n",
       "    <tr>\n",
       "      <th>baron</th>\n",
       "      <td>0.423489</td>\n",
       "      <td>0.714292</td>\n",
       "      <td>0.720415</td>\n",
       "    </tr>\n",
       "    <tr>\n",
       "      <th>bmcite</th>\n",
       "      <td>0.602631</td>\n",
       "      <td>0.693220</td>\n",
       "      <td>0.693521</td>\n",
       "    </tr>\n",
       "    <tr>\n",
       "      <th>brosens</th>\n",
       "      <td>0.496716</td>\n",
       "      <td>0.629648</td>\n",
       "      <td>0.632098</td>\n",
       "    </tr>\n",
       "    <tr>\n",
       "      <th>carey</th>\n",
       "      <td>0.651048</td>\n",
       "      <td>0.708789</td>\n",
       "      <td>0.709792</td>\n",
       "    </tr>\n",
       "    <tr>\n",
       "      <th>cbmc</th>\n",
       "      <td>0.469919</td>\n",
       "      <td>0.643651</td>\n",
       "      <td>0.650052</td>\n",
       "    </tr>\n",
       "    <tr>\n",
       "      <th>chang</th>\n",
       "      <td>0.135111</td>\n",
       "      <td>0.255810</td>\n",
       "      <td>0.279506</td>\n",
       "    </tr>\n",
       "    <tr>\n",
       "      <th>Fujii</th>\n",
       "      <td>0.346217</td>\n",
       "      <td>0.474879</td>\n",
       "      <td>0.478305</td>\n",
       "    </tr>\n",
       "    <tr>\n",
       "      <th>hcabm40k</th>\n",
       "      <td>0.089482</td>\n",
       "      <td>0.131142</td>\n",
       "      <td>0.133736</td>\n",
       "    </tr>\n",
       "    <tr>\n",
       "      <th>hrvatin</th>\n",
       "      <td>0.602051</td>\n",
       "      <td>0.797942</td>\n",
       "      <td>0.805445</td>\n",
       "    </tr>\n",
       "    <tr>\n",
       "      <th>jakel</th>\n",
       "      <td>0.441871</td>\n",
       "      <td>0.598558</td>\n",
       "      <td>0.600341</td>\n",
       "    </tr>\n",
       "    <tr>\n",
       "      <th>jiang</th>\n",
       "      <td>0.343518</td>\n",
       "      <td>0.535990</td>\n",
       "      <td>0.542240</td>\n",
       "    </tr>\n",
       "    <tr>\n",
       "      <th>loureiro</th>\n",
       "      <td>0.477543</td>\n",
       "      <td>0.647233</td>\n",
       "      <td>0.647421</td>\n",
       "    </tr>\n",
       "    <tr>\n",
       "      <th>manno</th>\n",
       "      <td>0.285770</td>\n",
       "      <td>0.457382</td>\n",
       "      <td>0.488789</td>\n",
       "    </tr>\n",
       "    <tr>\n",
       "      <th>mingyao</th>\n",
       "      <td>0.201954</td>\n",
       "      <td>0.310451</td>\n",
       "      <td>0.311751</td>\n",
       "    </tr>\n",
       "    <tr>\n",
       "      <th>pbmc3k</th>\n",
       "      <td>0.636954</td>\n",
       "      <td>0.738920</td>\n",
       "      <td>0.741050</td>\n",
       "    </tr>\n",
       "    <tr>\n",
       "      <th>Selewa</th>\n",
       "      <td>0.776700</td>\n",
       "      <td>0.794963</td>\n",
       "      <td>0.797292</td>\n",
       "    </tr>\n",
       "    <tr>\n",
       "      <th>Xu</th>\n",
       "      <td>0.662947</td>\n",
       "      <td>0.741415</td>\n",
       "      <td>0.743650</td>\n",
       "    </tr>\n",
       "  </tbody>\n",
       "</table>\n",
       "</div>"
      ],
      "text/plain": [
       "               ARI       AMI       NMI\n",
       "baron     0.423489  0.714292  0.720415\n",
       "bmcite    0.602631  0.693220  0.693521\n",
       "brosens   0.496716  0.629648  0.632098\n",
       "carey     0.651048  0.708789  0.709792\n",
       "cbmc      0.469919  0.643651  0.650052\n",
       "chang     0.135111  0.255810  0.279506\n",
       "Fujii     0.346217  0.474879  0.478305\n",
       "hcabm40k  0.089482  0.131142  0.133736\n",
       "hrvatin   0.602051  0.797942  0.805445\n",
       "jakel     0.441871  0.598558  0.600341\n",
       "jiang     0.343518  0.535990  0.542240\n",
       "loureiro  0.477543  0.647233  0.647421\n",
       "manno     0.285770  0.457382  0.488789\n",
       "mingyao   0.201954  0.310451  0.311751\n",
       "pbmc3k    0.636954  0.738920  0.741050\n",
       "Selewa    0.776700  0.794963  0.797292\n",
       "Xu        0.662947  0.741415  0.743650"
      ]
     },
     "execution_count": 8,
     "metadata": {},
     "output_type": "execute_result"
    }
   ],
   "source": [
    "pd.DataFrame(res, columns=['ARI', 'AMI', 'NMI'], index=dir_list)"
   ]
  },
  {
   "cell_type": "code",
   "execution_count": null,
   "id": "f6b2c618",
   "metadata": {},
   "outputs": [],
   "source": []
  },
  {
   "cell_type": "code",
   "execution_count": null,
   "id": "997b0a2e",
   "metadata": {},
   "outputs": [],
   "source": []
  },
  {
   "cell_type": "code",
   "execution_count": null,
   "id": "6ef37fdc",
   "metadata": {},
   "outputs": [],
   "source": []
  },
  {
   "cell_type": "code",
   "execution_count": null,
   "id": "c621d382",
   "metadata": {},
   "outputs": [],
   "source": []
  },
  {
   "cell_type": "code",
   "execution_count": null,
   "id": "832fdf8e",
   "metadata": {},
   "outputs": [],
   "source": []
  },
  {
   "cell_type": "code",
   "execution_count": null,
   "id": "1a1025fe",
   "metadata": {},
   "outputs": [],
   "source": []
  }
 ],
 "metadata": {
  "kernelspec": {
   "display_name": "gpu",
   "language": "python",
   "name": "gpu"
  },
  "language_info": {
   "codemirror_mode": {
    "name": "ipython",
    "version": 3
   },
   "file_extension": ".py",
   "mimetype": "text/x-python",
   "name": "python",
   "nbconvert_exporter": "python",
   "pygments_lexer": "ipython3",
   "version": "3.8.13"
  }
 },
 "nbformat": 4,
 "nbformat_minor": 5
}
