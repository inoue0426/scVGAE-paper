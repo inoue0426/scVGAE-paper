{
 "cells": [
  {
   "cell_type": "code",
   "execution_count": 1,
   "id": "b63f0401",
   "metadata": {},
   "outputs": [],
   "source": [
    "import numpy as np\n",
    "import pandas as pd\n",
    "\n",
    "from sklearn.metrics import adjusted_rand_score, adjusted_mutual_info_score, normalized_mutual_info_score\n",
    "from sklearn.cluster import KMeans, SpectralClustering\n",
    "from sklearn.cluster import SpectralClustering\n",
    "\n",
    "from sklearn.decomposition import PCA, SparsePCA, KernelPCA\n",
    "from sklearn.manifold import TSNE\n",
    "\n",
    "from rpy2.robjects import r, pandas2ri\n",
    "from rpy2.robjects.vectors import StrVector\n",
    "\n",
    "pandas2ri.activate()\n",
    "\n",
    "import magic\n",
    "import scprep\n",
    "\n",
    "%matplotlib inline\n",
    "\n",
    "# from sklearnex import patch_sklearn\n",
    "# patch_sklearn()\n",
    "\n",
    "import warnings\n",
    "\n",
    "from sklearn.cluster import KMeans\n",
    "from tqdm import tqdm\n",
    "\n",
    "# r('''library(Seurat)''')"
   ]
  },
  {
   "cell_type": "code",
   "execution_count": 2,
   "id": "f06d988c",
   "metadata": {},
   "outputs": [],
   "source": [
    "def get_cluster_metrics(pred, labels):\n",
    "    ari_res = []\n",
    "    ami_res = []\n",
    "    nmi_res = []\n",
    "\n",
    "#     try:\n",
    "#         r.assign(\"data\", pred.T)\n",
    "#         seurat = r('''\n",
    "#             countsData = data.frame(data)\n",
    "#             pbmc <- CreateSeuratObject(counts = countsData, project = \"thal_single_cell\", min.cells = 1, min.features = 1)\n",
    "#             pbmc <- FindVariableFeatures(pbmc, selection.method = \"vst\", verbose=FALSE)\n",
    "#             all.genes <- rownames(pbmc)\n",
    "#             pbmc <- ScaleData(pbmc, features = all.genes, verbose=FALSE)\n",
    "#             pbmc <- RunPCA(pbmc, verbose=FALSE)\n",
    "#             pbmc <- FindNeighbors(pbmc, verbose=FALSE)\n",
    "#             pbmc <- FindClusters(pbmc, verbose=FALSE)\n",
    "#             Idents(pbmc)\n",
    "#         ''')\n",
    "#         ari_res.append(adjusted_rand_score(labels, seurat))\n",
    "#         ami_res.append(adjusted_mutual_info_score(labels, seurat))\n",
    "#         nmi_res.append(normalized_mutual_info_score(labels, seurat))\n",
    "#     except Exception as e:\n",
    "#         pass\n",
    "\n",
    "    pred_ = KMeans(n_clusters=len(np.unique(labels)), random_state=42).fit_predict(pred)\n",
    "\n",
    "    ari_res.append(adjusted_rand_score(labels, pred_))\n",
    "    ami_res.append(adjusted_mutual_info_score(labels, pred_))\n",
    "    nmi_res.append(normalized_mutual_info_score(labels, pred_))\n",
    "\n",
    "    warnings.filterwarnings(\"error\")\n",
    "\n",
    "    affinities = ['cosine', 'linear', 'poly']\n",
    "\n",
    "    for i in affinities:\n",
    "        try:\n",
    "            pred_ = SpectralClustering(\n",
    "                n_clusters=len(np.unique(labels)), \n",
    "                random_state=42, \n",
    "                affinity=i\n",
    "            ).fit_predict(pred)\n",
    "            ari_res.append(adjusted_rand_score(labels, pred_))\n",
    "            ami_res.append(adjusted_mutual_info_score(labels, pred_))\n",
    "            nmi_res.append(normalized_mutual_info_score(labels, pred_))\n",
    "        except:\n",
    "            ari_res.append(0)\n",
    "            ami_res.append(0)\n",
    "            nmi_res.append(0)\n",
    "\n",
    "    warnings.resetwarnings()\n",
    "    \n",
    "    return max(ari_res), max(ami_res), max(nmi_res)"
   ]
  },
  {
   "cell_type": "code",
   "execution_count": 3,
   "id": "b943a651",
   "metadata": {},
   "outputs": [],
   "source": [
    "def get_data(i):\n",
    "    df = pd.read_csv('../data/{}/data.csv.gz'.format(i), index_col=0)\n",
    "    tmp = np.sign(df)\n",
    "    cols = (np.sum(tmp) > int((df.shape[0])*0.05))\n",
    "    rows = (np.sum(tmp, axis=1) > int((df.shape[1])*0.05))\n",
    "    df = np.log(df.loc[rows, cols] + 1)\n",
    "    df_norm = df.copy()\n",
    "    df_norm = scprep.normalize.library_size_normalize(df_norm)    \n",
    "    df_norm = scprep.transform.sqrt(df_norm)\n",
    "    X_norm = pd.DataFrame(df_norm, columns=df.columns)\n",
    "    labels = df.index\n",
    "    return X_norm, labels"
   ]
  },
  {
   "cell_type": "code",
   "execution_count": 4,
   "id": "618db1e4",
   "metadata": {},
   "outputs": [
    {
     "data": {
      "text/plain": [
       "['baron',\n",
       " 'bmcite',\n",
       " 'brosens',\n",
       " 'carey',\n",
       " 'cbmc',\n",
       " 'chang',\n",
       " 'Fujii',\n",
       " 'hcabm40k',\n",
       " 'hrvatin',\n",
       " 'jakel',\n",
       " 'jiang',\n",
       " 'loureiro',\n",
       " 'manno',\n",
       " 'mingyao',\n",
       " 'pbmc3k',\n",
       " 'Selewa',\n",
       " 'Xu']"
      ]
     },
     "execution_count": 4,
     "metadata": {},
     "output_type": "execute_result"
    }
   ],
   "source": [
    "dir_list = !ls ../data/ | grep -v zip\n",
    "dir_list"
   ]
  },
  {
   "cell_type": "code",
   "execution_count": 5,
   "id": "08270852",
   "metadata": {},
   "outputs": [
    {
     "data": {
      "text/plain": [
       "17"
      ]
     },
     "execution_count": 5,
     "metadata": {},
     "output_type": "execute_result"
    }
   ],
   "source": [
    "len(dir_list)"
   ]
  },
  {
   "cell_type": "code",
   "execution_count": 6,
   "id": "43ca3b56",
   "metadata": {
    "scrolled": true
   },
   "outputs": [
    {
     "name": "stderr",
     "output_type": "stream",
     "text": [
      "\r",
      "  0%|          | 0/17 [00:00<?, ?it/s]"
     ]
    },
    {
     "name": "stdout",
     "output_type": "stream",
     "text": [
      "Calculating MAGIC...\n",
      "  Running MAGIC on 1791 cells and 8669 genes.\n",
      "  Calculating graph and diffusion operator...\n",
      "    Calculating PCA...\n",
      "    Calculated PCA in 1.07 seconds.\n",
      "    Calculating KNN search...\n",
      "    Calculated KNN search in 0.25 seconds.\n",
      "    Calculating affinities...\n",
      "    Calculated affinities in 0.24 seconds.\n",
      "  Calculated graph and diffusion operator in 1.59 seconds.\n",
      "  Running MAGIC with `solver='exact'` on 8669-dimensional data may take a long time. Consider denoising specific genes with `genes=<list-like>` or using `solver='approximate'`.\n",
      "  Calculating imputation...\n",
      "  Calculated imputation in 0.26 seconds.\n",
      "Calculated MAGIC in 1.89 seconds.\n"
     ]
    },
    {
     "name": "stderr",
     "output_type": "stream",
     "text": [
      "\r",
      "  6%|▌         | 1/17 [00:15<04:01, 15.10s/it]"
     ]
    },
    {
     "name": "stdout",
     "output_type": "stream",
     "text": [
      "Calculating MAGIC...\n",
      "  Running MAGIC on 5445 cells and 5421 genes.\n",
      "  Calculating graph and diffusion operator...\n",
      "    Calculating PCA...\n"
     ]
    },
    {
     "name": "stderr",
     "output_type": "stream",
     "text": [
      "/export/scratch/inoue019/envs/gpu/lib/python3.8/site-packages/magic/magic.py:650: DeprecationWarning: Call to deprecated method task. (Use TaskLogger.log_task instead) -- Deprecated since version 1.1.0.\n",
      "  with _logger.task(\"MAGIC\"):\n",
      "/export/scratch/inoue019/envs/gpu/lib/python3.8/site-packages/magic/magic.py:381: DeprecationWarning: Call to deprecated method info. (Use TaskLogger.log_info instead) -- Deprecated since version 1.1.0.\n",
      "  _logger.info(\n",
      "/export/scratch/inoue019/envs/gpu/lib/python3.8/site-packages/magic/magic.py:436: DeprecationWarning: Call to deprecated method task. (Use TaskLogger.log_task instead) -- Deprecated since version 1.1.0.\n",
      "  with _logger.task(\"graph and diffusion operator\"):\n",
      "/export/scratch/inoue019/envs/gpu/lib/python3.8/site-packages/graphtools/api.py:258: DeprecationWarning: Call to deprecated method debug. (Use TaskLogger.log_debug instead) -- Deprecated since version 1.1.0.\n",
      "  _logger.debug(msg)\n",
      "/export/scratch/inoue019/envs/gpu/lib/python3.8/site-packages/graphtools/api.py:276: DeprecationWarning: Call to deprecated method debug. (Use TaskLogger.log_debug instead) -- Deprecated since version 1.1.0.\n",
      "  _logger.debug(\n",
      "/export/scratch/inoue019/envs/gpu/lib/python3.8/site-packages/graphtools/base.py:240: DeprecationWarning: Call to deprecated method task. (Use TaskLogger.log_task instead) -- Deprecated since version 1.1.0.\n",
      "  with _logger.task(\"PCA\"):\n"
     ]
    },
    {
     "name": "stdout",
     "output_type": "stream",
     "text": [
      "    Calculated PCA in 2.41 seconds.\n",
      "    Calculating KNN search...\n"
     ]
    },
    {
     "name": "stderr",
     "output_type": "stream",
     "text": [
      "/export/scratch/inoue019/envs/gpu/lib/python3.8/site-packages/graphtools/base.py:501: DeprecationWarning: Call to deprecated method debug. (Use TaskLogger.log_debug instead) -- Deprecated since version 1.1.0.\n",
      "  _logger.debug(\"Initializing kernel...\")\n",
      "/export/scratch/inoue019/envs/gpu/lib/python3.8/site-packages/graphtools/graphs.py:356: DeprecationWarning: Call to deprecated method task. (Use TaskLogger.log_task instead) -- Deprecated since version 1.1.0.\n",
      "  with _logger.task(\"KNN search\"):\n"
     ]
    },
    {
     "name": "stdout",
     "output_type": "stream",
     "text": [
      "    Calculated KNN search in 1.88 seconds.\n",
      "    Calculating affinities...\n"
     ]
    },
    {
     "name": "stderr",
     "output_type": "stream",
     "text": [
      "/export/scratch/inoue019/envs/gpu/lib/python3.8/site-packages/graphtools/graphs.py:362: DeprecationWarning: Call to deprecated method task. (Use TaskLogger.log_task instead) -- Deprecated since version 1.1.0.\n",
      "  with _logger.task(\"affinities\"):\n",
      "/export/scratch/inoue019/envs/gpu/lib/python3.8/site-packages/graphtools/graphs.py:373: DeprecationWarning: Call to deprecated method debug. (Use TaskLogger.log_debug instead) -- Deprecated since version 1.1.0.\n",
      "  _logger.debug(\n",
      "/export/scratch/inoue019/envs/gpu/lib/python3.8/site-packages/graphtools/graphs.py:415: DeprecationWarning: Call to deprecated method debug. (Use TaskLogger.log_debug instead) -- Deprecated since version 1.1.0.\n",
      "  _logger.debug(\n"
     ]
    },
    {
     "name": "stdout",
     "output_type": "stream",
     "text": [
      "    Calculated affinities in 1.84 seconds.\n",
      "  Calculated graph and diffusion operator in 6.15 seconds.\n",
      "  Calculating imputation...\n"
     ]
    },
    {
     "name": "stderr",
     "output_type": "stream",
     "text": [
      "/export/scratch/inoue019/envs/gpu/lib/python3.8/site-packages/graphtools/base.py:559: DeprecationWarning: Call to deprecated method debug. (Use TaskLogger.log_debug instead) -- Deprecated since version 1.1.0.\n",
      "  _logger.debug(\"Using addition symmetrization.\")\n",
      "/export/scratch/inoue019/envs/gpu/lib/python3.8/site-packages/magic/magic.py:748: DeprecationWarning: Call to deprecated method task. (Use TaskLogger.log_task instead) -- Deprecated since version 1.1.0.\n",
      "  with _logger.task(\"imputation\"):\n"
     ]
    },
    {
     "name": "stdout",
     "output_type": "stream",
     "text": [
      "  Calculated imputation in 1.39 seconds.\n",
      "Calculated MAGIC in 7.60 seconds.\n"
     ]
    },
    {
     "name": "stderr",
     "output_type": "stream",
     "text": [
      "\r",
      " 12%|█▏        | 2/17 [01:43<14:36, 58.44s/it]"
     ]
    },
    {
     "name": "stdout",
     "output_type": "stream",
     "text": [
      "Calculating MAGIC...\n",
      "  Running MAGIC on 3567 cells and 8102 genes.\n",
      "  Calculating graph and diffusion operator...\n",
      "    Calculating PCA...\n"
     ]
    },
    {
     "name": "stderr",
     "output_type": "stream",
     "text": [
      "/export/scratch/inoue019/envs/gpu/lib/python3.8/site-packages/magic/magic.py:650: DeprecationWarning: Call to deprecated method task. (Use TaskLogger.log_task instead) -- Deprecated since version 1.1.0.\n",
      "  with _logger.task(\"MAGIC\"):\n",
      "/export/scratch/inoue019/envs/gpu/lib/python3.8/site-packages/magic/magic.py:381: DeprecationWarning: Call to deprecated method info. (Use TaskLogger.log_info instead) -- Deprecated since version 1.1.0.\n",
      "  _logger.info(\n",
      "/export/scratch/inoue019/envs/gpu/lib/python3.8/site-packages/magic/magic.py:436: DeprecationWarning: Call to deprecated method task. (Use TaskLogger.log_task instead) -- Deprecated since version 1.1.0.\n",
      "  with _logger.task(\"graph and diffusion operator\"):\n",
      "/export/scratch/inoue019/envs/gpu/lib/python3.8/site-packages/graphtools/api.py:258: DeprecationWarning: Call to deprecated method debug. (Use TaskLogger.log_debug instead) -- Deprecated since version 1.1.0.\n",
      "  _logger.debug(msg)\n",
      "/export/scratch/inoue019/envs/gpu/lib/python3.8/site-packages/graphtools/api.py:276: DeprecationWarning: Call to deprecated method debug. (Use TaskLogger.log_debug instead) -- Deprecated since version 1.1.0.\n",
      "  _logger.debug(\n",
      "/export/scratch/inoue019/envs/gpu/lib/python3.8/site-packages/graphtools/base.py:240: DeprecationWarning: Call to deprecated method task. (Use TaskLogger.log_task instead) -- Deprecated since version 1.1.0.\n",
      "  with _logger.task(\"PCA\"):\n"
     ]
    },
    {
     "name": "stdout",
     "output_type": "stream",
     "text": [
      "    Calculated PCA in 2.18 seconds.\n",
      "    Calculating KNN search...\n"
     ]
    },
    {
     "name": "stderr",
     "output_type": "stream",
     "text": [
      "/export/scratch/inoue019/envs/gpu/lib/python3.8/site-packages/graphtools/base.py:501: DeprecationWarning: Call to deprecated method debug. (Use TaskLogger.log_debug instead) -- Deprecated since version 1.1.0.\n",
      "  _logger.debug(\"Initializing kernel...\")\n",
      "/export/scratch/inoue019/envs/gpu/lib/python3.8/site-packages/graphtools/graphs.py:356: DeprecationWarning: Call to deprecated method task. (Use TaskLogger.log_task instead) -- Deprecated since version 1.1.0.\n",
      "  with _logger.task(\"KNN search\"):\n"
     ]
    },
    {
     "name": "stdout",
     "output_type": "stream",
     "text": [
      "    Calculated KNN search in 0.87 seconds.\n",
      "    Calculating affinities...\n"
     ]
    },
    {
     "name": "stderr",
     "output_type": "stream",
     "text": [
      "/export/scratch/inoue019/envs/gpu/lib/python3.8/site-packages/graphtools/graphs.py:362: DeprecationWarning: Call to deprecated method task. (Use TaskLogger.log_task instead) -- Deprecated since version 1.1.0.\n",
      "  with _logger.task(\"affinities\"):\n",
      "/export/scratch/inoue019/envs/gpu/lib/python3.8/site-packages/graphtools/graphs.py:373: DeprecationWarning: Call to deprecated method debug. (Use TaskLogger.log_debug instead) -- Deprecated since version 1.1.0.\n",
      "  _logger.debug(\n",
      "/export/scratch/inoue019/envs/gpu/lib/python3.8/site-packages/graphtools/graphs.py:415: DeprecationWarning: Call to deprecated method debug. (Use TaskLogger.log_debug instead) -- Deprecated since version 1.1.0.\n",
      "  _logger.debug(\n"
     ]
    },
    {
     "name": "stdout",
     "output_type": "stream",
     "text": [
      "    Calculated affinities in 0.85 seconds.\n",
      "  Calculated graph and diffusion operator in 3.93 seconds.\n",
      "  Running MAGIC with `solver='exact'` on 8102-dimensional data may take a long time. Consider denoising specific genes with `genes=<list-like>` or using `solver='approximate'`.\n",
      "  Calculating imputation...\n"
     ]
    },
    {
     "name": "stderr",
     "output_type": "stream",
     "text": [
      "/export/scratch/inoue019/envs/gpu/lib/python3.8/site-packages/graphtools/base.py:559: DeprecationWarning: Call to deprecated method debug. (Use TaskLogger.log_debug instead) -- Deprecated since version 1.1.0.\n",
      "  _logger.debug(\"Using addition symmetrization.\")\n",
      "/export/scratch/inoue019/envs/gpu/lib/python3.8/site-packages/magic/magic.py:586: DeprecationWarning: Call to deprecated method warning. (Use TaskLogger.log_warning instead) -- Deprecated since version 1.1.0.\n",
      "  _logger.warning(\n",
      "/export/scratch/inoue019/envs/gpu/lib/python3.8/site-packages/magic/magic.py:748: DeprecationWarning: Call to deprecated method task. (Use TaskLogger.log_task instead) -- Deprecated since version 1.1.0.\n",
      "  with _logger.task(\"imputation\"):\n"
     ]
    },
    {
     "name": "stdout",
     "output_type": "stream",
     "text": [
      "  Calculated imputation in 1.23 seconds.\n",
      "Calculated MAGIC in 5.21 seconds.\n"
     ]
    },
    {
     "name": "stderr",
     "output_type": "stream",
     "text": [
      "\r",
      " 18%|█▊        | 3/17 [02:35<12:51, 55.11s/it]"
     ]
    },
    {
     "name": "stdout",
     "output_type": "stream",
     "text": [
      "Calculating MAGIC...\n",
      "  Running MAGIC on 5362 cells and 9582 genes.\n",
      "  Calculating graph and diffusion operator...\n",
      "    Calculating PCA...\n"
     ]
    },
    {
     "name": "stderr",
     "output_type": "stream",
     "text": [
      "/export/scratch/inoue019/envs/gpu/lib/python3.8/site-packages/magic/magic.py:650: DeprecationWarning: Call to deprecated method task. (Use TaskLogger.log_task instead) -- Deprecated since version 1.1.0.\n",
      "  with _logger.task(\"MAGIC\"):\n",
      "/export/scratch/inoue019/envs/gpu/lib/python3.8/site-packages/magic/magic.py:381: DeprecationWarning: Call to deprecated method info. (Use TaskLogger.log_info instead) -- Deprecated since version 1.1.0.\n",
      "  _logger.info(\n",
      "/export/scratch/inoue019/envs/gpu/lib/python3.8/site-packages/magic/magic.py:436: DeprecationWarning: Call to deprecated method task. (Use TaskLogger.log_task instead) -- Deprecated since version 1.1.0.\n",
      "  with _logger.task(\"graph and diffusion operator\"):\n",
      "/export/scratch/inoue019/envs/gpu/lib/python3.8/site-packages/graphtools/api.py:258: DeprecationWarning: Call to deprecated method debug. (Use TaskLogger.log_debug instead) -- Deprecated since version 1.1.0.\n",
      "  _logger.debug(msg)\n",
      "/export/scratch/inoue019/envs/gpu/lib/python3.8/site-packages/graphtools/api.py:276: DeprecationWarning: Call to deprecated method debug. (Use TaskLogger.log_debug instead) -- Deprecated since version 1.1.0.\n",
      "  _logger.debug(\n",
      "/export/scratch/inoue019/envs/gpu/lib/python3.8/site-packages/graphtools/base.py:240: DeprecationWarning: Call to deprecated method task. (Use TaskLogger.log_task instead) -- Deprecated since version 1.1.0.\n",
      "  with _logger.task(\"PCA\"):\n"
     ]
    },
    {
     "name": "stdout",
     "output_type": "stream",
     "text": [
      "    Calculated PCA in 9.07 seconds.\n",
      "    Calculating KNN search...\n"
     ]
    },
    {
     "name": "stderr",
     "output_type": "stream",
     "text": [
      "/export/scratch/inoue019/envs/gpu/lib/python3.8/site-packages/graphtools/base.py:501: DeprecationWarning: Call to deprecated method debug. (Use TaskLogger.log_debug instead) -- Deprecated since version 1.1.0.\n",
      "  _logger.debug(\"Initializing kernel...\")\n",
      "/export/scratch/inoue019/envs/gpu/lib/python3.8/site-packages/graphtools/graphs.py:356: DeprecationWarning: Call to deprecated method task. (Use TaskLogger.log_task instead) -- Deprecated since version 1.1.0.\n",
      "  with _logger.task(\"KNN search\"):\n"
     ]
    },
    {
     "name": "stdout",
     "output_type": "stream",
     "text": [
      "    Calculated KNN search in 3.40 seconds.\n",
      "    Calculating affinities...\n"
     ]
    },
    {
     "name": "stderr",
     "output_type": "stream",
     "text": [
      "/export/scratch/inoue019/envs/gpu/lib/python3.8/site-packages/graphtools/graphs.py:362: DeprecationWarning: Call to deprecated method task. (Use TaskLogger.log_task instead) -- Deprecated since version 1.1.0.\n",
      "  with _logger.task(\"affinities\"):\n",
      "/export/scratch/inoue019/envs/gpu/lib/python3.8/site-packages/graphtools/graphs.py:373: DeprecationWarning: Call to deprecated method debug. (Use TaskLogger.log_debug instead) -- Deprecated since version 1.1.0.\n",
      "  _logger.debug(\n",
      "/export/scratch/inoue019/envs/gpu/lib/python3.8/site-packages/graphtools/graphs.py:415: DeprecationWarning: Call to deprecated method debug. (Use TaskLogger.log_debug instead) -- Deprecated since version 1.1.0.\n",
      "  _logger.debug(\n"
     ]
    },
    {
     "name": "stdout",
     "output_type": "stream",
     "text": [
      "    Calculated affinities in 3.31 seconds.\n",
      "  Calculated graph and diffusion operator in 15.85 seconds.\n",
      "  Running MAGIC with `solver='exact'` on 9582-dimensional data may take a long time. Consider denoising specific genes with `genes=<list-like>` or using `solver='approximate'`.\n",
      "  Calculating imputation...\n"
     ]
    },
    {
     "name": "stderr",
     "output_type": "stream",
     "text": [
      "/export/scratch/inoue019/envs/gpu/lib/python3.8/site-packages/graphtools/base.py:559: DeprecationWarning: Call to deprecated method debug. (Use TaskLogger.log_debug instead) -- Deprecated since version 1.1.0.\n",
      "  _logger.debug(\"Using addition symmetrization.\")\n",
      "/export/scratch/inoue019/envs/gpu/lib/python3.8/site-packages/magic/magic.py:586: DeprecationWarning: Call to deprecated method warning. (Use TaskLogger.log_warning instead) -- Deprecated since version 1.1.0.\n",
      "  _logger.warning(\n",
      "/export/scratch/inoue019/envs/gpu/lib/python3.8/site-packages/magic/magic.py:748: DeprecationWarning: Call to deprecated method task. (Use TaskLogger.log_task instead) -- Deprecated since version 1.1.0.\n",
      "  with _logger.task(\"imputation\"):\n"
     ]
    },
    {
     "name": "stdout",
     "output_type": "stream",
     "text": [
      "  Calculated imputation in 5.27 seconds.\n",
      "Calculated MAGIC in 21.22 seconds.\n"
     ]
    },
    {
     "name": "stderr",
     "output_type": "stream",
     "text": [
      "\r",
      " 24%|██▎       | 4/17 [04:52<18:57, 87.48s/it]"
     ]
    },
    {
     "name": "stdout",
     "output_type": "stream",
     "text": [
      "Calculating MAGIC...\n",
      "  Running MAGIC on 2492 cells and 4531 genes.\n",
      "  Calculating graph and diffusion operator...\n",
      "    Calculating PCA...\n"
     ]
    },
    {
     "name": "stderr",
     "output_type": "stream",
     "text": [
      "/export/scratch/inoue019/envs/gpu/lib/python3.8/site-packages/magic/magic.py:650: DeprecationWarning: Call to deprecated method task. (Use TaskLogger.log_task instead) -- Deprecated since version 1.1.0.\n",
      "  with _logger.task(\"MAGIC\"):\n",
      "/export/scratch/inoue019/envs/gpu/lib/python3.8/site-packages/magic/magic.py:381: DeprecationWarning: Call to deprecated method info. (Use TaskLogger.log_info instead) -- Deprecated since version 1.1.0.\n",
      "  _logger.info(\n",
      "/export/scratch/inoue019/envs/gpu/lib/python3.8/site-packages/magic/magic.py:436: DeprecationWarning: Call to deprecated method task. (Use TaskLogger.log_task instead) -- Deprecated since version 1.1.0.\n",
      "  with _logger.task(\"graph and diffusion operator\"):\n",
      "/export/scratch/inoue019/envs/gpu/lib/python3.8/site-packages/graphtools/api.py:258: DeprecationWarning: Call to deprecated method debug. (Use TaskLogger.log_debug instead) -- Deprecated since version 1.1.0.\n",
      "  _logger.debug(msg)\n",
      "/export/scratch/inoue019/envs/gpu/lib/python3.8/site-packages/graphtools/api.py:276: DeprecationWarning: Call to deprecated method debug. (Use TaskLogger.log_debug instead) -- Deprecated since version 1.1.0.\n",
      "  _logger.debug(\n",
      "/export/scratch/inoue019/envs/gpu/lib/python3.8/site-packages/graphtools/base.py:240: DeprecationWarning: Call to deprecated method task. (Use TaskLogger.log_task instead) -- Deprecated since version 1.1.0.\n",
      "  with _logger.task(\"PCA\"):\n"
     ]
    },
    {
     "name": "stdout",
     "output_type": "stream",
     "text": [
      "    Calculated PCA in 1.91 seconds.\n",
      "    Calculating KNN search...\n"
     ]
    },
    {
     "name": "stderr",
     "output_type": "stream",
     "text": [
      "/export/scratch/inoue019/envs/gpu/lib/python3.8/site-packages/graphtools/base.py:501: DeprecationWarning: Call to deprecated method debug. (Use TaskLogger.log_debug instead) -- Deprecated since version 1.1.0.\n",
      "  _logger.debug(\"Initializing kernel...\")\n",
      "/export/scratch/inoue019/envs/gpu/lib/python3.8/site-packages/graphtools/graphs.py:356: DeprecationWarning: Call to deprecated method task. (Use TaskLogger.log_task instead) -- Deprecated since version 1.1.0.\n",
      "  with _logger.task(\"KNN search\"):\n"
     ]
    },
    {
     "name": "stdout",
     "output_type": "stream",
     "text": [
      "    Calculated KNN search in 0.48 seconds.\n",
      "    Calculating affinities...\n"
     ]
    },
    {
     "name": "stderr",
     "output_type": "stream",
     "text": [
      "/export/scratch/inoue019/envs/gpu/lib/python3.8/site-packages/graphtools/graphs.py:362: DeprecationWarning: Call to deprecated method task. (Use TaskLogger.log_task instead) -- Deprecated since version 1.1.0.\n",
      "  with _logger.task(\"affinities\"):\n",
      "/export/scratch/inoue019/envs/gpu/lib/python3.8/site-packages/graphtools/graphs.py:373: DeprecationWarning: Call to deprecated method debug. (Use TaskLogger.log_debug instead) -- Deprecated since version 1.1.0.\n",
      "  _logger.debug(\n",
      "/export/scratch/inoue019/envs/gpu/lib/python3.8/site-packages/graphtools/graphs.py:415: DeprecationWarning: Call to deprecated method debug. (Use TaskLogger.log_debug instead) -- Deprecated since version 1.1.0.\n",
      "  _logger.debug(\n"
     ]
    },
    {
     "name": "stdout",
     "output_type": "stream",
     "text": [
      "    Calculated affinities in 0.45 seconds.\n",
      "  Calculated graph and diffusion operator in 2.85 seconds.\n",
      "  Calculating imputation...\n"
     ]
    },
    {
     "name": "stderr",
     "output_type": "stream",
     "text": [
      "/export/scratch/inoue019/envs/gpu/lib/python3.8/site-packages/graphtools/base.py:559: DeprecationWarning: Call to deprecated method debug. (Use TaskLogger.log_debug instead) -- Deprecated since version 1.1.0.\n",
      "  _logger.debug(\"Using addition symmetrization.\")\n",
      "/export/scratch/inoue019/envs/gpu/lib/python3.8/site-packages/magic/magic.py:748: DeprecationWarning: Call to deprecated method task. (Use TaskLogger.log_task instead) -- Deprecated since version 1.1.0.\n",
      "  with _logger.task(\"imputation\"):\n"
     ]
    },
    {
     "name": "stdout",
     "output_type": "stream",
     "text": [
      "  Calculated imputation in 0.42 seconds.\n",
      "Calculated MAGIC in 3.30 seconds.\n"
     ]
    },
    {
     "name": "stderr",
     "output_type": "stream",
     "text": [
      "\r",
      " 29%|██▉       | 5/17 [05:45<15:02, 75.18s/it]"
     ]
    },
    {
     "name": "stdout",
     "output_type": "stream",
     "text": [
      "Calculating MAGIC...\n",
      "  Running MAGIC on 1471 cells and 1002 genes.\n",
      "  Calculating graph and diffusion operator...\n",
      "    Calculating PCA...\n"
     ]
    },
    {
     "name": "stderr",
     "output_type": "stream",
     "text": [
      "/export/scratch/inoue019/envs/gpu/lib/python3.8/site-packages/magic/magic.py:650: DeprecationWarning: Call to deprecated method task. (Use TaskLogger.log_task instead) -- Deprecated since version 1.1.0.\n",
      "  with _logger.task(\"MAGIC\"):\n",
      "/export/scratch/inoue019/envs/gpu/lib/python3.8/site-packages/magic/magic.py:381: DeprecationWarning: Call to deprecated method info. (Use TaskLogger.log_info instead) -- Deprecated since version 1.1.0.\n",
      "  _logger.info(\n",
      "/export/scratch/inoue019/envs/gpu/lib/python3.8/site-packages/magic/magic.py:436: DeprecationWarning: Call to deprecated method task. (Use TaskLogger.log_task instead) -- Deprecated since version 1.1.0.\n",
      "  with _logger.task(\"graph and diffusion operator\"):\n",
      "/export/scratch/inoue019/envs/gpu/lib/python3.8/site-packages/graphtools/api.py:258: DeprecationWarning: Call to deprecated method debug. (Use TaskLogger.log_debug instead) -- Deprecated since version 1.1.0.\n",
      "  _logger.debug(msg)\n",
      "/export/scratch/inoue019/envs/gpu/lib/python3.8/site-packages/graphtools/api.py:276: DeprecationWarning: Call to deprecated method debug. (Use TaskLogger.log_debug instead) -- Deprecated since version 1.1.0.\n",
      "  _logger.debug(\n",
      "/export/scratch/inoue019/envs/gpu/lib/python3.8/site-packages/graphtools/base.py:240: DeprecationWarning: Call to deprecated method task. (Use TaskLogger.log_task instead) -- Deprecated since version 1.1.0.\n",
      "  with _logger.task(\"PCA\"):\n"
     ]
    },
    {
     "name": "stdout",
     "output_type": "stream",
     "text": [
      "    Calculated PCA in 0.22 seconds.\n",
      "    Calculating KNN search...\n",
      "    Calculated KNN search in 0.19 seconds.\n",
      "    Calculating affinities...\n"
     ]
    },
    {
     "name": "stderr",
     "output_type": "stream",
     "text": [
      "/export/scratch/inoue019/envs/gpu/lib/python3.8/site-packages/graphtools/base.py:501: DeprecationWarning: Call to deprecated method debug. (Use TaskLogger.log_debug instead) -- Deprecated since version 1.1.0.\n",
      "  _logger.debug(\"Initializing kernel...\")\n",
      "/export/scratch/inoue019/envs/gpu/lib/python3.8/site-packages/graphtools/graphs.py:356: DeprecationWarning: Call to deprecated method task. (Use TaskLogger.log_task instead) -- Deprecated since version 1.1.0.\n",
      "  with _logger.task(\"KNN search\"):\n",
      "/export/scratch/inoue019/envs/gpu/lib/python3.8/site-packages/graphtools/graphs.py:362: DeprecationWarning: Call to deprecated method task. (Use TaskLogger.log_task instead) -- Deprecated since version 1.1.0.\n",
      "  with _logger.task(\"affinities\"):\n",
      "/export/scratch/inoue019/envs/gpu/lib/python3.8/site-packages/graphtools/graphs.py:373: DeprecationWarning: Call to deprecated method debug. (Use TaskLogger.log_debug instead) -- Deprecated since version 1.1.0.\n",
      "  _logger.debug(\n",
      "/export/scratch/inoue019/envs/gpu/lib/python3.8/site-packages/graphtools/graphs.py:415: DeprecationWarning: Call to deprecated method debug. (Use TaskLogger.log_debug instead) -- Deprecated since version 1.1.0.\n",
      "  _logger.debug(\n"
     ]
    },
    {
     "name": "stdout",
     "output_type": "stream",
     "text": [
      "    Calculated affinities in 0.16 seconds.\n",
      "  Calculated graph and diffusion operator in 0.57 seconds.\n",
      "  Calculating imputation...\n",
      "  Calculated imputation in 0.03 seconds.\n",
      "Calculated MAGIC in 0.61 seconds.\n"
     ]
    },
    {
     "name": "stderr",
     "output_type": "stream",
     "text": [
      "/export/scratch/inoue019/envs/gpu/lib/python3.8/site-packages/graphtools/base.py:559: DeprecationWarning: Call to deprecated method debug. (Use TaskLogger.log_debug instead) -- Deprecated since version 1.1.0.\n",
      "  _logger.debug(\"Using addition symmetrization.\")\n",
      "/export/scratch/inoue019/envs/gpu/lib/python3.8/site-packages/magic/magic.py:748: DeprecationWarning: Call to deprecated method task. (Use TaskLogger.log_task instead) -- Deprecated since version 1.1.0.\n",
      "  with _logger.task(\"imputation\"):\n",
      " 35%|███▌      | 6/17 [06:35<12:12, 66.58s/it]"
     ]
    },
    {
     "name": "stdout",
     "output_type": "stream",
     "text": [
      "Calculating MAGIC...\n",
      "  Running MAGIC on 2482 cells and 10689 genes.\n",
      "  Calculating graph and diffusion operator...\n",
      "    Calculating PCA...\n"
     ]
    },
    {
     "name": "stderr",
     "output_type": "stream",
     "text": [
      "/export/scratch/inoue019/envs/gpu/lib/python3.8/site-packages/magic/magic.py:650: DeprecationWarning: Call to deprecated method task. (Use TaskLogger.log_task instead) -- Deprecated since version 1.1.0.\n",
      "  with _logger.task(\"MAGIC\"):\n",
      "/export/scratch/inoue019/envs/gpu/lib/python3.8/site-packages/magic/magic.py:381: DeprecationWarning: Call to deprecated method info. (Use TaskLogger.log_info instead) -- Deprecated since version 1.1.0.\n",
      "  _logger.info(\n",
      "/export/scratch/inoue019/envs/gpu/lib/python3.8/site-packages/magic/magic.py:436: DeprecationWarning: Call to deprecated method task. (Use TaskLogger.log_task instead) -- Deprecated since version 1.1.0.\n",
      "  with _logger.task(\"graph and diffusion operator\"):\n",
      "/export/scratch/inoue019/envs/gpu/lib/python3.8/site-packages/graphtools/api.py:258: DeprecationWarning: Call to deprecated method debug. (Use TaskLogger.log_debug instead) -- Deprecated since version 1.1.0.\n",
      "  _logger.debug(msg)\n",
      "/export/scratch/inoue019/envs/gpu/lib/python3.8/site-packages/graphtools/api.py:276: DeprecationWarning: Call to deprecated method debug. (Use TaskLogger.log_debug instead) -- Deprecated since version 1.1.0.\n",
      "  _logger.debug(\n",
      "/export/scratch/inoue019/envs/gpu/lib/python3.8/site-packages/graphtools/base.py:240: DeprecationWarning: Call to deprecated method task. (Use TaskLogger.log_task instead) -- Deprecated since version 1.1.0.\n",
      "  with _logger.task(\"PCA\"):\n"
     ]
    },
    {
     "name": "stdout",
     "output_type": "stream",
     "text": [
      "    Calculated PCA in 4.23 seconds.\n",
      "    Calculating KNN search...\n"
     ]
    },
    {
     "name": "stderr",
     "output_type": "stream",
     "text": [
      "/export/scratch/inoue019/envs/gpu/lib/python3.8/site-packages/graphtools/base.py:501: DeprecationWarning: Call to deprecated method debug. (Use TaskLogger.log_debug instead) -- Deprecated since version 1.1.0.\n",
      "  _logger.debug(\"Initializing kernel...\")\n",
      "/export/scratch/inoue019/envs/gpu/lib/python3.8/site-packages/graphtools/graphs.py:356: DeprecationWarning: Call to deprecated method task. (Use TaskLogger.log_task instead) -- Deprecated since version 1.1.0.\n",
      "  with _logger.task(\"KNN search\"):\n"
     ]
    },
    {
     "name": "stdout",
     "output_type": "stream",
     "text": [
      "    Calculated KNN search in 0.47 seconds.\n",
      "    Calculating affinities...\n"
     ]
    },
    {
     "name": "stderr",
     "output_type": "stream",
     "text": [
      "/export/scratch/inoue019/envs/gpu/lib/python3.8/site-packages/graphtools/graphs.py:362: DeprecationWarning: Call to deprecated method task. (Use TaskLogger.log_task instead) -- Deprecated since version 1.1.0.\n",
      "  with _logger.task(\"affinities\"):\n",
      "/export/scratch/inoue019/envs/gpu/lib/python3.8/site-packages/graphtools/graphs.py:373: DeprecationWarning: Call to deprecated method debug. (Use TaskLogger.log_debug instead) -- Deprecated since version 1.1.0.\n",
      "  _logger.debug(\n",
      "/export/scratch/inoue019/envs/gpu/lib/python3.8/site-packages/graphtools/graphs.py:415: DeprecationWarning: Call to deprecated method debug. (Use TaskLogger.log_debug instead) -- Deprecated since version 1.1.0.\n",
      "  _logger.debug(\n"
     ]
    },
    {
     "name": "stdout",
     "output_type": "stream",
     "text": [
      "    Calculated affinities in 0.45 seconds.\n",
      "  Calculated graph and diffusion operator in 5.18 seconds.\n",
      "  Running MAGIC with `solver='exact'` on 10689-dimensional data may take a long time. Consider denoising specific genes with `genes=<list-like>` or using `solver='approximate'`.\n",
      "  Calculating imputation...\n"
     ]
    },
    {
     "name": "stderr",
     "output_type": "stream",
     "text": [
      "/export/scratch/inoue019/envs/gpu/lib/python3.8/site-packages/graphtools/base.py:559: DeprecationWarning: Call to deprecated method debug. (Use TaskLogger.log_debug instead) -- Deprecated since version 1.1.0.\n",
      "  _logger.debug(\"Using addition symmetrization.\")\n",
      "/export/scratch/inoue019/envs/gpu/lib/python3.8/site-packages/magic/magic.py:586: DeprecationWarning: Call to deprecated method warning. (Use TaskLogger.log_warning instead) -- Deprecated since version 1.1.0.\n",
      "  _logger.warning(\n",
      "/export/scratch/inoue019/envs/gpu/lib/python3.8/site-packages/magic/magic.py:748: DeprecationWarning: Call to deprecated method task. (Use TaskLogger.log_task instead) -- Deprecated since version 1.1.0.\n",
      "  with _logger.task(\"imputation\"):\n"
     ]
    },
    {
     "name": "stdout",
     "output_type": "stream",
     "text": [
      "  Calculated imputation in 0.68 seconds.\n",
      "Calculated MAGIC in 5.92 seconds.\n"
     ]
    },
    {
     "name": "stderr",
     "output_type": "stream",
     "text": [
      "\r",
      " 41%|████      | 7/17 [07:09<09:20, 56.05s/it]"
     ]
    },
    {
     "name": "stdout",
     "output_type": "stream",
     "text": [
      "Calculating MAGIC...\n",
      "  Running MAGIC on 4064 cells and 5125 genes.\n",
      "  Calculating graph and diffusion operator...\n",
      "    Calculating PCA...\n"
     ]
    },
    {
     "name": "stderr",
     "output_type": "stream",
     "text": [
      "/export/scratch/inoue019/envs/gpu/lib/python3.8/site-packages/magic/magic.py:650: DeprecationWarning: Call to deprecated method task. (Use TaskLogger.log_task instead) -- Deprecated since version 1.1.0.\n",
      "  with _logger.task(\"MAGIC\"):\n",
      "/export/scratch/inoue019/envs/gpu/lib/python3.8/site-packages/magic/magic.py:381: DeprecationWarning: Call to deprecated method info. (Use TaskLogger.log_info instead) -- Deprecated since version 1.1.0.\n",
      "  _logger.info(\n",
      "/export/scratch/inoue019/envs/gpu/lib/python3.8/site-packages/magic/magic.py:436: DeprecationWarning: Call to deprecated method task. (Use TaskLogger.log_task instead) -- Deprecated since version 1.1.0.\n",
      "  with _logger.task(\"graph and diffusion operator\"):\n",
      "/export/scratch/inoue019/envs/gpu/lib/python3.8/site-packages/graphtools/api.py:258: DeprecationWarning: Call to deprecated method debug. (Use TaskLogger.log_debug instead) -- Deprecated since version 1.1.0.\n",
      "  _logger.debug(msg)\n",
      "/export/scratch/inoue019/envs/gpu/lib/python3.8/site-packages/graphtools/api.py:276: DeprecationWarning: Call to deprecated method debug. (Use TaskLogger.log_debug instead) -- Deprecated since version 1.1.0.\n",
      "  _logger.debug(\n",
      "/export/scratch/inoue019/envs/gpu/lib/python3.8/site-packages/graphtools/base.py:240: DeprecationWarning: Call to deprecated method task. (Use TaskLogger.log_task instead) -- Deprecated since version 1.1.0.\n",
      "  with _logger.task(\"PCA\"):\n"
     ]
    },
    {
     "name": "stdout",
     "output_type": "stream",
     "text": [
      "    Calculated PCA in 10.81 seconds.\n",
      "    Calculating KNN search...\n"
     ]
    },
    {
     "name": "stderr",
     "output_type": "stream",
     "text": [
      "/export/scratch/inoue019/envs/gpu/lib/python3.8/site-packages/graphtools/base.py:501: DeprecationWarning: Call to deprecated method debug. (Use TaskLogger.log_debug instead) -- Deprecated since version 1.1.0.\n",
      "  _logger.debug(\"Initializing kernel...\")\n",
      "/export/scratch/inoue019/envs/gpu/lib/python3.8/site-packages/graphtools/graphs.py:356: DeprecationWarning: Call to deprecated method task. (Use TaskLogger.log_task instead) -- Deprecated since version 1.1.0.\n",
      "  with _logger.task(\"KNN search\"):\n"
     ]
    },
    {
     "name": "stdout",
     "output_type": "stream",
     "text": [
      "    Calculated KNN search in 1.77 seconds.\n",
      "    Calculating affinities...\n"
     ]
    },
    {
     "name": "stderr",
     "output_type": "stream",
     "text": [
      "/export/scratch/inoue019/envs/gpu/lib/python3.8/site-packages/graphtools/graphs.py:362: DeprecationWarning: Call to deprecated method task. (Use TaskLogger.log_task instead) -- Deprecated since version 1.1.0.\n",
      "  with _logger.task(\"affinities\"):\n",
      "/export/scratch/inoue019/envs/gpu/lib/python3.8/site-packages/graphtools/graphs.py:373: DeprecationWarning: Call to deprecated method debug. (Use TaskLogger.log_debug instead) -- Deprecated since version 1.1.0.\n",
      "  _logger.debug(\n",
      "/export/scratch/inoue019/envs/gpu/lib/python3.8/site-packages/graphtools/graphs.py:415: DeprecationWarning: Call to deprecated method debug. (Use TaskLogger.log_debug instead) -- Deprecated since version 1.1.0.\n",
      "  _logger.debug(\n"
     ]
    },
    {
     "name": "stdout",
     "output_type": "stream",
     "text": [
      "    Calculated affinities in 1.72 seconds.\n",
      "  Calculated graph and diffusion operator in 14.35 seconds.\n",
      "  Calculating imputation...\n"
     ]
    },
    {
     "name": "stderr",
     "output_type": "stream",
     "text": [
      "/export/scratch/inoue019/envs/gpu/lib/python3.8/site-packages/graphtools/base.py:559: DeprecationWarning: Call to deprecated method debug. (Use TaskLogger.log_debug instead) -- Deprecated since version 1.1.0.\n",
      "  _logger.debug(\"Using addition symmetrization.\")\n",
      "/export/scratch/inoue019/envs/gpu/lib/python3.8/site-packages/magic/magic.py:748: DeprecationWarning: Call to deprecated method task. (Use TaskLogger.log_task instead) -- Deprecated since version 1.1.0.\n",
      "  with _logger.task(\"imputation\"):\n"
     ]
    },
    {
     "name": "stdout",
     "output_type": "stream",
     "text": [
      "  Calculated imputation in 1.95 seconds.\n",
      "Calculated MAGIC in 16.37 seconds.\n"
     ]
    },
    {
     "name": "stderr",
     "output_type": "stream",
     "text": [
      "\r",
      " 47%|████▋     | 8/17 [09:19<11:54, 79.42s/it]"
     ]
    },
    {
     "name": "stdout",
     "output_type": "stream",
     "text": [
      "Calculating MAGIC...\n",
      "  Running MAGIC on 4533 cells and 7992 genes.\n",
      "  Calculating graph and diffusion operator...\n",
      "    Calculating PCA...\n"
     ]
    },
    {
     "name": "stderr",
     "output_type": "stream",
     "text": [
      "/export/scratch/inoue019/envs/gpu/lib/python3.8/site-packages/magic/magic.py:650: DeprecationWarning: Call to deprecated method task. (Use TaskLogger.log_task instead) -- Deprecated since version 1.1.0.\n",
      "  with _logger.task(\"MAGIC\"):\n",
      "/export/scratch/inoue019/envs/gpu/lib/python3.8/site-packages/magic/magic.py:381: DeprecationWarning: Call to deprecated method info. (Use TaskLogger.log_info instead) -- Deprecated since version 1.1.0.\n",
      "  _logger.info(\n",
      "/export/scratch/inoue019/envs/gpu/lib/python3.8/site-packages/magic/magic.py:436: DeprecationWarning: Call to deprecated method task. (Use TaskLogger.log_task instead) -- Deprecated since version 1.1.0.\n",
      "  with _logger.task(\"graph and diffusion operator\"):\n",
      "/export/scratch/inoue019/envs/gpu/lib/python3.8/site-packages/graphtools/api.py:258: DeprecationWarning: Call to deprecated method debug. (Use TaskLogger.log_debug instead) -- Deprecated since version 1.1.0.\n",
      "  _logger.debug(msg)\n",
      "/export/scratch/inoue019/envs/gpu/lib/python3.8/site-packages/graphtools/api.py:276: DeprecationWarning: Call to deprecated method debug. (Use TaskLogger.log_debug instead) -- Deprecated since version 1.1.0.\n",
      "  _logger.debug(\n",
      "/export/scratch/inoue019/envs/gpu/lib/python3.8/site-packages/graphtools/base.py:240: DeprecationWarning: Call to deprecated method task. (Use TaskLogger.log_task instead) -- Deprecated since version 1.1.0.\n",
      "  with _logger.task(\"PCA\"):\n"
     ]
    },
    {
     "name": "stdout",
     "output_type": "stream",
     "text": [
      "    Calculated PCA in 10.73 seconds.\n",
      "    Calculating KNN search...\n"
     ]
    },
    {
     "name": "stderr",
     "output_type": "stream",
     "text": [
      "/export/scratch/inoue019/envs/gpu/lib/python3.8/site-packages/graphtools/base.py:501: DeprecationWarning: Call to deprecated method debug. (Use TaskLogger.log_debug instead) -- Deprecated since version 1.1.0.\n",
      "  _logger.debug(\"Initializing kernel...\")\n",
      "/export/scratch/inoue019/envs/gpu/lib/python3.8/site-packages/graphtools/graphs.py:356: DeprecationWarning: Call to deprecated method task. (Use TaskLogger.log_task instead) -- Deprecated since version 1.1.0.\n",
      "  with _logger.task(\"KNN search\"):\n"
     ]
    },
    {
     "name": "stdout",
     "output_type": "stream",
     "text": [
      "    Calculated KNN search in 0.98 seconds.\n",
      "    Calculating affinities...\n"
     ]
    },
    {
     "name": "stderr",
     "output_type": "stream",
     "text": [
      "/export/scratch/inoue019/envs/gpu/lib/python3.8/site-packages/graphtools/graphs.py:362: DeprecationWarning: Call to deprecated method task. (Use TaskLogger.log_task instead) -- Deprecated since version 1.1.0.\n",
      "  with _logger.task(\"affinities\"):\n",
      "/export/scratch/inoue019/envs/gpu/lib/python3.8/site-packages/graphtools/graphs.py:373: DeprecationWarning: Call to deprecated method debug. (Use TaskLogger.log_debug instead) -- Deprecated since version 1.1.0.\n",
      "  _logger.debug(\n",
      "/export/scratch/inoue019/envs/gpu/lib/python3.8/site-packages/graphtools/graphs.py:415: DeprecationWarning: Call to deprecated method debug. (Use TaskLogger.log_debug instead) -- Deprecated since version 1.1.0.\n",
      "  _logger.debug(\n"
     ]
    },
    {
     "name": "stdout",
     "output_type": "stream",
     "text": [
      "    Calculated affinities in 0.91 seconds.\n",
      "  Calculated graph and diffusion operator in 12.67 seconds.\n",
      "  Running MAGIC with `solver='exact'` on 7992-dimensional data may take a long time. Consider denoising specific genes with `genes=<list-like>` or using `solver='approximate'`.\n",
      "  Calculating imputation...\n"
     ]
    },
    {
     "name": "stderr",
     "output_type": "stream",
     "text": [
      "/export/scratch/inoue019/envs/gpu/lib/python3.8/site-packages/graphtools/base.py:559: DeprecationWarning: Call to deprecated method debug. (Use TaskLogger.log_debug instead) -- Deprecated since version 1.1.0.\n",
      "  _logger.debug(\"Using addition symmetrization.\")\n",
      "/export/scratch/inoue019/envs/gpu/lib/python3.8/site-packages/magic/magic.py:586: DeprecationWarning: Call to deprecated method warning. (Use TaskLogger.log_warning instead) -- Deprecated since version 1.1.0.\n",
      "  _logger.warning(\n",
      "/export/scratch/inoue019/envs/gpu/lib/python3.8/site-packages/magic/magic.py:748: DeprecationWarning: Call to deprecated method task. (Use TaskLogger.log_task instead) -- Deprecated since version 1.1.0.\n",
      "  with _logger.task(\"imputation\"):\n"
     ]
    },
    {
     "name": "stdout",
     "output_type": "stream",
     "text": [
      "  Calculated imputation in 2.83 seconds.\n",
      "Calculated MAGIC in 15.59 seconds.\n"
     ]
    },
    {
     "name": "stderr",
     "output_type": "stream",
     "text": [
      "\r",
      " 53%|█████▎    | 9/17 [11:13<12:01, 90.19s/it]"
     ]
    },
    {
     "name": "stdout",
     "output_type": "stream",
     "text": [
      "Calculating MAGIC...\n",
      "  Running MAGIC on 2913 cells and 6286 genes.\n",
      "  Calculating graph and diffusion operator...\n",
      "    Calculating PCA...\n"
     ]
    },
    {
     "name": "stderr",
     "output_type": "stream",
     "text": [
      "/export/scratch/inoue019/envs/gpu/lib/python3.8/site-packages/magic/magic.py:650: DeprecationWarning: Call to deprecated method task. (Use TaskLogger.log_task instead) -- Deprecated since version 1.1.0.\n",
      "  with _logger.task(\"MAGIC\"):\n",
      "/export/scratch/inoue019/envs/gpu/lib/python3.8/site-packages/magic/magic.py:381: DeprecationWarning: Call to deprecated method info. (Use TaskLogger.log_info instead) -- Deprecated since version 1.1.0.\n",
      "  _logger.info(\n",
      "/export/scratch/inoue019/envs/gpu/lib/python3.8/site-packages/magic/magic.py:436: DeprecationWarning: Call to deprecated method task. (Use TaskLogger.log_task instead) -- Deprecated since version 1.1.0.\n",
      "  with _logger.task(\"graph and diffusion operator\"):\n",
      "/export/scratch/inoue019/envs/gpu/lib/python3.8/site-packages/graphtools/api.py:258: DeprecationWarning: Call to deprecated method debug. (Use TaskLogger.log_debug instead) -- Deprecated since version 1.1.0.\n",
      "  _logger.debug(msg)\n",
      "/export/scratch/inoue019/envs/gpu/lib/python3.8/site-packages/graphtools/api.py:276: DeprecationWarning: Call to deprecated method debug. (Use TaskLogger.log_debug instead) -- Deprecated since version 1.1.0.\n",
      "  _logger.debug(\n",
      "/export/scratch/inoue019/envs/gpu/lib/python3.8/site-packages/graphtools/base.py:240: DeprecationWarning: Call to deprecated method task. (Use TaskLogger.log_task instead) -- Deprecated since version 1.1.0.\n",
      "  with _logger.task(\"PCA\"):\n"
     ]
    },
    {
     "name": "stdout",
     "output_type": "stream",
     "text": [
      "    Calculated PCA in 4.71 seconds.\n",
      "    Calculating KNN search...\n"
     ]
    },
    {
     "name": "stderr",
     "output_type": "stream",
     "text": [
      "/export/scratch/inoue019/envs/gpu/lib/python3.8/site-packages/graphtools/base.py:501: DeprecationWarning: Call to deprecated method debug. (Use TaskLogger.log_debug instead) -- Deprecated since version 1.1.0.\n",
      "  _logger.debug(\"Initializing kernel...\")\n",
      "/export/scratch/inoue019/envs/gpu/lib/python3.8/site-packages/graphtools/graphs.py:356: DeprecationWarning: Call to deprecated method task. (Use TaskLogger.log_task instead) -- Deprecated since version 1.1.0.\n",
      "  with _logger.task(\"KNN search\"):\n"
     ]
    },
    {
     "name": "stdout",
     "output_type": "stream",
     "text": [
      "    Calculated KNN search in 0.47 seconds.\n",
      "    Calculating affinities...\n"
     ]
    },
    {
     "name": "stderr",
     "output_type": "stream",
     "text": [
      "/export/scratch/inoue019/envs/gpu/lib/python3.8/site-packages/graphtools/graphs.py:362: DeprecationWarning: Call to deprecated method task. (Use TaskLogger.log_task instead) -- Deprecated since version 1.1.0.\n",
      "  with _logger.task(\"affinities\"):\n",
      "/export/scratch/inoue019/envs/gpu/lib/python3.8/site-packages/graphtools/graphs.py:373: DeprecationWarning: Call to deprecated method debug. (Use TaskLogger.log_debug instead) -- Deprecated since version 1.1.0.\n",
      "  _logger.debug(\n",
      "/export/scratch/inoue019/envs/gpu/lib/python3.8/site-packages/graphtools/graphs.py:415: DeprecationWarning: Call to deprecated method debug. (Use TaskLogger.log_debug instead) -- Deprecated since version 1.1.0.\n",
      "  _logger.debug(\n"
     ]
    },
    {
     "name": "stdout",
     "output_type": "stream",
     "text": [
      "    Calculated affinities in 0.46 seconds.\n",
      "  Calculated graph and diffusion operator in 5.65 seconds.\n",
      "  Running MAGIC with `solver='exact'` on 6286-dimensional data may take a long time. Consider denoising specific genes with `genes=<list-like>` or using `solver='approximate'`.\n",
      "  Calculating imputation...\n"
     ]
    },
    {
     "name": "stderr",
     "output_type": "stream",
     "text": [
      "/export/scratch/inoue019/envs/gpu/lib/python3.8/site-packages/graphtools/base.py:559: DeprecationWarning: Call to deprecated method debug. (Use TaskLogger.log_debug instead) -- Deprecated since version 1.1.0.\n",
      "  _logger.debug(\"Using addition symmetrization.\")\n",
      "/export/scratch/inoue019/envs/gpu/lib/python3.8/site-packages/magic/magic.py:586: DeprecationWarning: Call to deprecated method warning. (Use TaskLogger.log_warning instead) -- Deprecated since version 1.1.0.\n",
      "  _logger.warning(\n",
      "/export/scratch/inoue019/envs/gpu/lib/python3.8/site-packages/magic/magic.py:748: DeprecationWarning: Call to deprecated method task. (Use TaskLogger.log_task instead) -- Deprecated since version 1.1.0.\n",
      "  with _logger.task(\"imputation\"):\n"
     ]
    },
    {
     "name": "stdout",
     "output_type": "stream",
     "text": [
      "  Calculated imputation in 0.95 seconds.\n",
      "Calculated MAGIC in 6.65 seconds.\n"
     ]
    },
    {
     "name": "stderr",
     "output_type": "stream",
     "text": [
      "\r",
      " 59%|█████▉    | 10/17 [12:37<10:19, 88.53s/it]"
     ]
    },
    {
     "name": "stdout",
     "output_type": "stream",
     "text": [
      "Calculating MAGIC...\n",
      "  Running MAGIC on 1014 cells and 14568 genes.\n",
      "  Calculating graph and diffusion operator...\n",
      "    Calculating PCA...\n"
     ]
    },
    {
     "name": "stderr",
     "output_type": "stream",
     "text": [
      "/export/scratch/inoue019/envs/gpu/lib/python3.8/site-packages/magic/magic.py:650: DeprecationWarning: Call to deprecated method task. (Use TaskLogger.log_task instead) -- Deprecated since version 1.1.0.\n",
      "  with _logger.task(\"MAGIC\"):\n",
      "/export/scratch/inoue019/envs/gpu/lib/python3.8/site-packages/magic/magic.py:381: DeprecationWarning: Call to deprecated method info. (Use TaskLogger.log_info instead) -- Deprecated since version 1.1.0.\n",
      "  _logger.info(\n",
      "/export/scratch/inoue019/envs/gpu/lib/python3.8/site-packages/magic/magic.py:436: DeprecationWarning: Call to deprecated method task. (Use TaskLogger.log_task instead) -- Deprecated since version 1.1.0.\n",
      "  with _logger.task(\"graph and diffusion operator\"):\n",
      "/export/scratch/inoue019/envs/gpu/lib/python3.8/site-packages/graphtools/api.py:258: DeprecationWarning: Call to deprecated method debug. (Use TaskLogger.log_debug instead) -- Deprecated since version 1.1.0.\n",
      "  _logger.debug(msg)\n",
      "/export/scratch/inoue019/envs/gpu/lib/python3.8/site-packages/graphtools/api.py:276: DeprecationWarning: Call to deprecated method debug. (Use TaskLogger.log_debug instead) -- Deprecated since version 1.1.0.\n",
      "  _logger.debug(\n",
      "/export/scratch/inoue019/envs/gpu/lib/python3.8/site-packages/graphtools/base.py:240: DeprecationWarning: Call to deprecated method task. (Use TaskLogger.log_task instead) -- Deprecated since version 1.1.0.\n",
      "  with _logger.task(\"PCA\"):\n"
     ]
    },
    {
     "name": "stdout",
     "output_type": "stream",
     "text": [
      "    Calculated PCA in 4.86 seconds.\n",
      "    Calculating KNN search...\n",
      "    Calculated KNN search in 0.11 seconds.\n",
      "    Calculating affinities...\n"
     ]
    },
    {
     "name": "stderr",
     "output_type": "stream",
     "text": [
      "/export/scratch/inoue019/envs/gpu/lib/python3.8/site-packages/graphtools/base.py:501: DeprecationWarning: Call to deprecated method debug. (Use TaskLogger.log_debug instead) -- Deprecated since version 1.1.0.\n",
      "  _logger.debug(\"Initializing kernel...\")\n",
      "/export/scratch/inoue019/envs/gpu/lib/python3.8/site-packages/graphtools/graphs.py:356: DeprecationWarning: Call to deprecated method task. (Use TaskLogger.log_task instead) -- Deprecated since version 1.1.0.\n",
      "  with _logger.task(\"KNN search\"):\n",
      "/export/scratch/inoue019/envs/gpu/lib/python3.8/site-packages/graphtools/graphs.py:362: DeprecationWarning: Call to deprecated method task. (Use TaskLogger.log_task instead) -- Deprecated since version 1.1.0.\n",
      "  with _logger.task(\"affinities\"):\n",
      "/export/scratch/inoue019/envs/gpu/lib/python3.8/site-packages/graphtools/graphs.py:373: DeprecationWarning: Call to deprecated method debug. (Use TaskLogger.log_debug instead) -- Deprecated since version 1.1.0.\n",
      "  _logger.debug(\n",
      "/export/scratch/inoue019/envs/gpu/lib/python3.8/site-packages/graphtools/graphs.py:415: DeprecationWarning: Call to deprecated method debug. (Use TaskLogger.log_debug instead) -- Deprecated since version 1.1.0.\n",
      "  _logger.debug(\n"
     ]
    },
    {
     "name": "stdout",
     "output_type": "stream",
     "text": [
      "    Calculated affinities in 0.13 seconds.\n",
      "  Calculated graph and diffusion operator in 5.15 seconds.\n",
      "  Running MAGIC with `solver='exact'` on 14568-dimensional data may take a long time. Consider denoising specific genes with `genes=<list-like>` or using `solver='approximate'`.\n",
      "  Calculating imputation...\n",
      "  Calculated imputation in 0.19 seconds.\n",
      "Calculated MAGIC in 5.40 seconds.\n"
     ]
    },
    {
     "name": "stderr",
     "output_type": "stream",
     "text": [
      "/export/scratch/inoue019/envs/gpu/lib/python3.8/site-packages/graphtools/base.py:559: DeprecationWarning: Call to deprecated method debug. (Use TaskLogger.log_debug instead) -- Deprecated since version 1.1.0.\n",
      "  _logger.debug(\"Using addition symmetrization.\")\n",
      "/export/scratch/inoue019/envs/gpu/lib/python3.8/site-packages/magic/magic.py:586: DeprecationWarning: Call to deprecated method warning. (Use TaskLogger.log_warning instead) -- Deprecated since version 1.1.0.\n",
      "  _logger.warning(\n",
      "/export/scratch/inoue019/envs/gpu/lib/python3.8/site-packages/magic/magic.py:748: DeprecationWarning: Call to deprecated method task. (Use TaskLogger.log_task instead) -- Deprecated since version 1.1.0.\n",
      "  with _logger.task(\"imputation\"):\n",
      " 65%|██████▍   | 11/17 [13:11<07:09, 71.65s/it]"
     ]
    },
    {
     "name": "stdout",
     "output_type": "stream",
     "text": [
      "Calculating MAGIC...\n",
      "  Running MAGIC on 6656 cells and 10124 genes.\n",
      "  Calculating graph and diffusion operator...\n"
     ]
    },
    {
     "name": "stderr",
     "output_type": "stream",
     "text": [
      "/export/scratch/inoue019/envs/gpu/lib/python3.8/site-packages/magic/magic.py:650: DeprecationWarning: Call to deprecated method task. (Use TaskLogger.log_task instead) -- Deprecated since version 1.1.0.\n",
      "  with _logger.task(\"MAGIC\"):\n",
      "/export/scratch/inoue019/envs/gpu/lib/python3.8/site-packages/magic/magic.py:381: DeprecationWarning: Call to deprecated method info. (Use TaskLogger.log_info instead) -- Deprecated since version 1.1.0.\n",
      "  _logger.info(\n",
      "/export/scratch/inoue019/envs/gpu/lib/python3.8/site-packages/magic/magic.py:436: DeprecationWarning: Call to deprecated method task. (Use TaskLogger.log_task instead) -- Deprecated since version 1.1.0.\n",
      "  with _logger.task(\"graph and diffusion operator\"):\n",
      "/export/scratch/inoue019/envs/gpu/lib/python3.8/site-packages/graphtools/api.py:258: DeprecationWarning: Call to deprecated method debug. (Use TaskLogger.log_debug instead) -- Deprecated since version 1.1.0.\n",
      "  _logger.debug(msg)\n",
      "/export/scratch/inoue019/envs/gpu/lib/python3.8/site-packages/graphtools/api.py:276: DeprecationWarning: Call to deprecated method debug. (Use TaskLogger.log_debug instead) -- Deprecated since version 1.1.0.\n",
      "  _logger.debug(\n"
     ]
    },
    {
     "name": "stdout",
     "output_type": "stream",
     "text": [
      "    Calculating PCA...\n"
     ]
    },
    {
     "name": "stderr",
     "output_type": "stream",
     "text": [
      "/export/scratch/inoue019/envs/gpu/lib/python3.8/site-packages/graphtools/base.py:240: DeprecationWarning: Call to deprecated method task. (Use TaskLogger.log_task instead) -- Deprecated since version 1.1.0.\n",
      "  with _logger.task(\"PCA\"):\n"
     ]
    },
    {
     "name": "stdout",
     "output_type": "stream",
     "text": [
      "    Calculated PCA in 13.85 seconds.\n",
      "    Calculating KNN search...\n"
     ]
    },
    {
     "name": "stderr",
     "output_type": "stream",
     "text": [
      "/export/scratch/inoue019/envs/gpu/lib/python3.8/site-packages/graphtools/base.py:501: DeprecationWarning: Call to deprecated method debug. (Use TaskLogger.log_debug instead) -- Deprecated since version 1.1.0.\n",
      "  _logger.debug(\"Initializing kernel...\")\n",
      "/export/scratch/inoue019/envs/gpu/lib/python3.8/site-packages/graphtools/graphs.py:356: DeprecationWarning: Call to deprecated method task. (Use TaskLogger.log_task instead) -- Deprecated since version 1.1.0.\n",
      "  with _logger.task(\"KNN search\"):\n"
     ]
    },
    {
     "name": "stdout",
     "output_type": "stream",
     "text": [
      "    Calculated KNN search in 4.08 seconds.\n",
      "    Calculating affinities...\n"
     ]
    },
    {
     "name": "stderr",
     "output_type": "stream",
     "text": [
      "/export/scratch/inoue019/envs/gpu/lib/python3.8/site-packages/graphtools/graphs.py:362: DeprecationWarning: Call to deprecated method task. (Use TaskLogger.log_task instead) -- Deprecated since version 1.1.0.\n",
      "  with _logger.task(\"affinities\"):\n",
      "/export/scratch/inoue019/envs/gpu/lib/python3.8/site-packages/graphtools/graphs.py:373: DeprecationWarning: Call to deprecated method debug. (Use TaskLogger.log_debug instead) -- Deprecated since version 1.1.0.\n",
      "  _logger.debug(\n",
      "/export/scratch/inoue019/envs/gpu/lib/python3.8/site-packages/graphtools/graphs.py:415: DeprecationWarning: Call to deprecated method debug. (Use TaskLogger.log_debug instead) -- Deprecated since version 1.1.0.\n",
      "  _logger.debug(\n"
     ]
    },
    {
     "name": "stdout",
     "output_type": "stream",
     "text": [
      "    Calculated affinities in 4.03 seconds.\n",
      "  Calculated graph and diffusion operator in 22.06 seconds.\n",
      "  Running MAGIC with `solver='exact'` on 10124-dimensional data may take a long time. Consider denoising specific genes with `genes=<list-like>` or using `solver='approximate'`.\n",
      "  Calculating imputation...\n"
     ]
    },
    {
     "name": "stderr",
     "output_type": "stream",
     "text": [
      "/export/scratch/inoue019/envs/gpu/lib/python3.8/site-packages/graphtools/base.py:559: DeprecationWarning: Call to deprecated method debug. (Use TaskLogger.log_debug instead) -- Deprecated since version 1.1.0.\n",
      "  _logger.debug(\"Using addition symmetrization.\")\n",
      "/export/scratch/inoue019/envs/gpu/lib/python3.8/site-packages/magic/magic.py:586: DeprecationWarning: Call to deprecated method warning. (Use TaskLogger.log_warning instead) -- Deprecated since version 1.1.0.\n",
      "  _logger.warning(\n",
      "/export/scratch/inoue019/envs/gpu/lib/python3.8/site-packages/magic/magic.py:748: DeprecationWarning: Call to deprecated method task. (Use TaskLogger.log_task instead) -- Deprecated since version 1.1.0.\n",
      "  with _logger.task(\"imputation\"):\n"
     ]
    },
    {
     "name": "stdout",
     "output_type": "stream",
     "text": [
      "  Calculated imputation in 8.93 seconds.\n",
      "Calculated MAGIC in 31.16 seconds.\n"
     ]
    },
    {
     "name": "stderr",
     "output_type": "stream",
     "text": [
      "\r",
      " 71%|███████   | 12/17 [14:59<06:54, 82.83s/it]"
     ]
    },
    {
     "name": "stdout",
     "output_type": "stream",
     "text": [
      "Calculating MAGIC...\n",
      "  Running MAGIC on 1943 cells and 10502 genes.\n",
      "  Calculating graph and diffusion operator...\n",
      "    Calculating PCA...\n"
     ]
    },
    {
     "name": "stderr",
     "output_type": "stream",
     "text": [
      "/export/scratch/inoue019/envs/gpu/lib/python3.8/site-packages/magic/magic.py:650: DeprecationWarning: Call to deprecated method task. (Use TaskLogger.log_task instead) -- Deprecated since version 1.1.0.\n",
      "  with _logger.task(\"MAGIC\"):\n",
      "/export/scratch/inoue019/envs/gpu/lib/python3.8/site-packages/magic/magic.py:381: DeprecationWarning: Call to deprecated method info. (Use TaskLogger.log_info instead) -- Deprecated since version 1.1.0.\n",
      "  _logger.info(\n",
      "/export/scratch/inoue019/envs/gpu/lib/python3.8/site-packages/magic/magic.py:436: DeprecationWarning: Call to deprecated method task. (Use TaskLogger.log_task instead) -- Deprecated since version 1.1.0.\n",
      "  with _logger.task(\"graph and diffusion operator\"):\n",
      "/export/scratch/inoue019/envs/gpu/lib/python3.8/site-packages/graphtools/api.py:258: DeprecationWarning: Call to deprecated method debug. (Use TaskLogger.log_debug instead) -- Deprecated since version 1.1.0.\n",
      "  _logger.debug(msg)\n",
      "/export/scratch/inoue019/envs/gpu/lib/python3.8/site-packages/graphtools/api.py:276: DeprecationWarning: Call to deprecated method debug. (Use TaskLogger.log_debug instead) -- Deprecated since version 1.1.0.\n",
      "  _logger.debug(\n",
      "/export/scratch/inoue019/envs/gpu/lib/python3.8/site-packages/graphtools/base.py:240: DeprecationWarning: Call to deprecated method task. (Use TaskLogger.log_task instead) -- Deprecated since version 1.1.0.\n",
      "  with _logger.task(\"PCA\"):\n"
     ]
    },
    {
     "name": "stdout",
     "output_type": "stream",
     "text": [
      "    Calculated PCA in 10.94 seconds.\n",
      "    Calculating KNN search...\n"
     ]
    },
    {
     "name": "stderr",
     "output_type": "stream",
     "text": [
      "/export/scratch/inoue019/envs/gpu/lib/python3.8/site-packages/graphtools/base.py:501: DeprecationWarning: Call to deprecated method debug. (Use TaskLogger.log_debug instead) -- Deprecated since version 1.1.0.\n",
      "  _logger.debug(\"Initializing kernel...\")\n",
      "/export/scratch/inoue019/envs/gpu/lib/python3.8/site-packages/graphtools/graphs.py:356: DeprecationWarning: Call to deprecated method task. (Use TaskLogger.log_task instead) -- Deprecated since version 1.1.0.\n",
      "  with _logger.task(\"KNN search\"):\n"
     ]
    },
    {
     "name": "stdout",
     "output_type": "stream",
     "text": [
      "    Calculated KNN search in 0.44 seconds.\n",
      "    Calculating affinities...\n"
     ]
    },
    {
     "name": "stderr",
     "output_type": "stream",
     "text": [
      "/export/scratch/inoue019/envs/gpu/lib/python3.8/site-packages/graphtools/graphs.py:362: DeprecationWarning: Call to deprecated method task. (Use TaskLogger.log_task instead) -- Deprecated since version 1.1.0.\n",
      "  with _logger.task(\"affinities\"):\n",
      "/export/scratch/inoue019/envs/gpu/lib/python3.8/site-packages/graphtools/graphs.py:373: DeprecationWarning: Call to deprecated method debug. (Use TaskLogger.log_debug instead) -- Deprecated since version 1.1.0.\n",
      "  _logger.debug(\n",
      "/export/scratch/inoue019/envs/gpu/lib/python3.8/site-packages/graphtools/graphs.py:415: DeprecationWarning: Call to deprecated method debug. (Use TaskLogger.log_debug instead) -- Deprecated since version 1.1.0.\n",
      "  _logger.debug(\n"
     ]
    },
    {
     "name": "stdout",
     "output_type": "stream",
     "text": [
      "    Calculated affinities in 0.39 seconds.\n",
      "  Calculated graph and diffusion operator in 11.80 seconds.\n",
      "  Running MAGIC with `solver='exact'` on 10502-dimensional data may take a long time. Consider denoising specific genes with `genes=<list-like>` or using `solver='approximate'`.\n",
      "  Calculating imputation...\n"
     ]
    },
    {
     "name": "stderr",
     "output_type": "stream",
     "text": [
      "/export/scratch/inoue019/envs/gpu/lib/python3.8/site-packages/graphtools/base.py:559: DeprecationWarning: Call to deprecated method debug. (Use TaskLogger.log_debug instead) -- Deprecated since version 1.1.0.\n",
      "  _logger.debug(\"Using addition symmetrization.\")\n",
      "/export/scratch/inoue019/envs/gpu/lib/python3.8/site-packages/magic/magic.py:586: DeprecationWarning: Call to deprecated method warning. (Use TaskLogger.log_warning instead) -- Deprecated since version 1.1.0.\n",
      "  _logger.warning(\n",
      "/export/scratch/inoue019/envs/gpu/lib/python3.8/site-packages/magic/magic.py:748: DeprecationWarning: Call to deprecated method task. (Use TaskLogger.log_task instead) -- Deprecated since version 1.1.0.\n",
      "  with _logger.task(\"imputation\"):\n"
     ]
    },
    {
     "name": "stdout",
     "output_type": "stream",
     "text": [
      "  Calculated imputation in 0.69 seconds.\n",
      "Calculated MAGIC in 12.56 seconds.\n"
     ]
    },
    {
     "name": "stderr",
     "output_type": "stream",
     "text": [
      "\r",
      " 76%|███████▋  | 13/17 [16:15<05:22, 80.74s/it]"
     ]
    },
    {
     "name": "stdout",
     "output_type": "stream",
     "text": [
      "Calculating MAGIC...\n",
      "  Running MAGIC on 6600 cells and 5564 genes.\n",
      "  Calculating graph and diffusion operator...\n",
      "    Calculating PCA...\n"
     ]
    },
    {
     "name": "stderr",
     "output_type": "stream",
     "text": [
      "/export/scratch/inoue019/envs/gpu/lib/python3.8/site-packages/magic/magic.py:650: DeprecationWarning: Call to deprecated method task. (Use TaskLogger.log_task instead) -- Deprecated since version 1.1.0.\n",
      "  with _logger.task(\"MAGIC\"):\n",
      "/export/scratch/inoue019/envs/gpu/lib/python3.8/site-packages/magic/magic.py:381: DeprecationWarning: Call to deprecated method info. (Use TaskLogger.log_info instead) -- Deprecated since version 1.1.0.\n",
      "  _logger.info(\n",
      "/export/scratch/inoue019/envs/gpu/lib/python3.8/site-packages/magic/magic.py:436: DeprecationWarning: Call to deprecated method task. (Use TaskLogger.log_task instead) -- Deprecated since version 1.1.0.\n",
      "  with _logger.task(\"graph and diffusion operator\"):\n",
      "/export/scratch/inoue019/envs/gpu/lib/python3.8/site-packages/graphtools/api.py:258: DeprecationWarning: Call to deprecated method debug. (Use TaskLogger.log_debug instead) -- Deprecated since version 1.1.0.\n",
      "  _logger.debug(msg)\n",
      "/export/scratch/inoue019/envs/gpu/lib/python3.8/site-packages/graphtools/api.py:276: DeprecationWarning: Call to deprecated method debug. (Use TaskLogger.log_debug instead) -- Deprecated since version 1.1.0.\n",
      "  _logger.debug(\n",
      "/export/scratch/inoue019/envs/gpu/lib/python3.8/site-packages/graphtools/base.py:240: DeprecationWarning: Call to deprecated method task. (Use TaskLogger.log_task instead) -- Deprecated since version 1.1.0.\n",
      "  with _logger.task(\"PCA\"):\n"
     ]
    },
    {
     "name": "stdout",
     "output_type": "stream",
     "text": [
      "    Calculated PCA in 4.61 seconds.\n",
      "    Calculating KNN search...\n"
     ]
    },
    {
     "name": "stderr",
     "output_type": "stream",
     "text": [
      "/export/scratch/inoue019/envs/gpu/lib/python3.8/site-packages/graphtools/base.py:501: DeprecationWarning: Call to deprecated method debug. (Use TaskLogger.log_debug instead) -- Deprecated since version 1.1.0.\n",
      "  _logger.debug(\"Initializing kernel...\")\n",
      "/export/scratch/inoue019/envs/gpu/lib/python3.8/site-packages/graphtools/graphs.py:356: DeprecationWarning: Call to deprecated method task. (Use TaskLogger.log_task instead) -- Deprecated since version 1.1.0.\n",
      "  with _logger.task(\"KNN search\"):\n"
     ]
    },
    {
     "name": "stdout",
     "output_type": "stream",
     "text": [
      "    Calculated KNN search in 3.36 seconds.\n",
      "    Calculating affinities...\n"
     ]
    },
    {
     "name": "stderr",
     "output_type": "stream",
     "text": [
      "/export/scratch/inoue019/envs/gpu/lib/python3.8/site-packages/graphtools/graphs.py:287: RuntimeWarning: Detected zero distance between 482 pairs of samples. Consider removing duplicates to avoid errors in downstream processing.\n",
      "  warnings.warn(\n",
      "/export/scratch/inoue019/envs/gpu/lib/python3.8/site-packages/graphtools/graphs.py:362: DeprecationWarning: Call to deprecated method task. (Use TaskLogger.log_task instead) -- Deprecated since version 1.1.0.\n",
      "  with _logger.task(\"affinities\"):\n",
      "/export/scratch/inoue019/envs/gpu/lib/python3.8/site-packages/graphtools/graphs.py:373: DeprecationWarning: Call to deprecated method debug. (Use TaskLogger.log_debug instead) -- Deprecated since version 1.1.0.\n",
      "  _logger.debug(\n",
      "/export/scratch/inoue019/envs/gpu/lib/python3.8/site-packages/graphtools/graphs.py:415: DeprecationWarning: Call to deprecated method debug. (Use TaskLogger.log_debug instead) -- Deprecated since version 1.1.0.\n",
      "  _logger.debug(\n"
     ]
    },
    {
     "name": "stdout",
     "output_type": "stream",
     "text": [
      "    Calculated affinities in 3.82 seconds.\n",
      "  Calculated graph and diffusion operator in 11.85 seconds.\n",
      "  Calculating imputation...\n"
     ]
    },
    {
     "name": "stderr",
     "output_type": "stream",
     "text": [
      "/export/scratch/inoue019/envs/gpu/lib/python3.8/site-packages/graphtools/base.py:559: DeprecationWarning: Call to deprecated method debug. (Use TaskLogger.log_debug instead) -- Deprecated since version 1.1.0.\n",
      "  _logger.debug(\"Using addition symmetrization.\")\n",
      "/export/scratch/inoue019/envs/gpu/lib/python3.8/site-packages/magic/magic.py:748: DeprecationWarning: Call to deprecated method task. (Use TaskLogger.log_task instead) -- Deprecated since version 1.1.0.\n",
      "  with _logger.task(\"imputation\"):\n"
     ]
    },
    {
     "name": "stdout",
     "output_type": "stream",
     "text": [
      "  Calculated imputation in 5.53 seconds.\n",
      "Calculated MAGIC in 17.45 seconds.\n"
     ]
    },
    {
     "name": "stderr",
     "output_type": "stream",
     "text": [
      "\r",
      " 82%|████████▏ | 14/17 [18:06<04:29, 89.81s/it]"
     ]
    },
    {
     "name": "stdout",
     "output_type": "stream",
     "text": [
      "Calculating MAGIC...\n",
      "  Running MAGIC on 2024 cells and 3857 genes.\n",
      "  Calculating graph and diffusion operator...\n",
      "    Calculating PCA...\n"
     ]
    },
    {
     "name": "stderr",
     "output_type": "stream",
     "text": [
      "/export/scratch/inoue019/envs/gpu/lib/python3.8/site-packages/magic/magic.py:650: DeprecationWarning: Call to deprecated method task. (Use TaskLogger.log_task instead) -- Deprecated since version 1.1.0.\n",
      "  with _logger.task(\"MAGIC\"):\n",
      "/export/scratch/inoue019/envs/gpu/lib/python3.8/site-packages/magic/magic.py:381: DeprecationWarning: Call to deprecated method info. (Use TaskLogger.log_info instead) -- Deprecated since version 1.1.0.\n",
      "  _logger.info(\n",
      "/export/scratch/inoue019/envs/gpu/lib/python3.8/site-packages/magic/magic.py:436: DeprecationWarning: Call to deprecated method task. (Use TaskLogger.log_task instead) -- Deprecated since version 1.1.0.\n",
      "  with _logger.task(\"graph and diffusion operator\"):\n",
      "/export/scratch/inoue019/envs/gpu/lib/python3.8/site-packages/graphtools/api.py:258: DeprecationWarning: Call to deprecated method debug. (Use TaskLogger.log_debug instead) -- Deprecated since version 1.1.0.\n",
      "  _logger.debug(msg)\n",
      "/export/scratch/inoue019/envs/gpu/lib/python3.8/site-packages/graphtools/api.py:276: DeprecationWarning: Call to deprecated method debug. (Use TaskLogger.log_debug instead) -- Deprecated since version 1.1.0.\n",
      "  _logger.debug(\n",
      "/export/scratch/inoue019/envs/gpu/lib/python3.8/site-packages/graphtools/base.py:240: DeprecationWarning: Call to deprecated method task. (Use TaskLogger.log_task instead) -- Deprecated since version 1.1.0.\n",
      "  with _logger.task(\"PCA\"):\n"
     ]
    },
    {
     "name": "stdout",
     "output_type": "stream",
     "text": [
      "    Calculated PCA in 8.07 seconds.\n",
      "    Calculating KNN search...\n"
     ]
    },
    {
     "name": "stderr",
     "output_type": "stream",
     "text": [
      "/export/scratch/inoue019/envs/gpu/lib/python3.8/site-packages/graphtools/base.py:501: DeprecationWarning: Call to deprecated method debug. (Use TaskLogger.log_debug instead) -- Deprecated since version 1.1.0.\n",
      "  _logger.debug(\"Initializing kernel...\")\n",
      "/export/scratch/inoue019/envs/gpu/lib/python3.8/site-packages/graphtools/graphs.py:356: DeprecationWarning: Call to deprecated method task. (Use TaskLogger.log_task instead) -- Deprecated since version 1.1.0.\n",
      "  with _logger.task(\"KNN search\"):\n"
     ]
    },
    {
     "name": "stdout",
     "output_type": "stream",
     "text": [
      "    Calculated KNN search in 0.33 seconds.\n",
      "    Calculating affinities...\n"
     ]
    },
    {
     "name": "stderr",
     "output_type": "stream",
     "text": [
      "/export/scratch/inoue019/envs/gpu/lib/python3.8/site-packages/graphtools/graphs.py:362: DeprecationWarning: Call to deprecated method task. (Use TaskLogger.log_task instead) -- Deprecated since version 1.1.0.\n",
      "  with _logger.task(\"affinities\"):\n",
      "/export/scratch/inoue019/envs/gpu/lib/python3.8/site-packages/graphtools/graphs.py:373: DeprecationWarning: Call to deprecated method debug. (Use TaskLogger.log_debug instead) -- Deprecated since version 1.1.0.\n",
      "  _logger.debug(\n",
      "/export/scratch/inoue019/envs/gpu/lib/python3.8/site-packages/graphtools/graphs.py:415: DeprecationWarning: Call to deprecated method debug. (Use TaskLogger.log_debug instead) -- Deprecated since version 1.1.0.\n",
      "  _logger.debug(\n"
     ]
    },
    {
     "name": "stdout",
     "output_type": "stream",
     "text": [
      "    Calculated affinities in 0.43 seconds.\n",
      "  Calculated graph and diffusion operator in 8.85 seconds.\n",
      "  Calculating imputation...\n"
     ]
    },
    {
     "name": "stderr",
     "output_type": "stream",
     "text": [
      "/export/scratch/inoue019/envs/gpu/lib/python3.8/site-packages/graphtools/base.py:559: DeprecationWarning: Call to deprecated method debug. (Use TaskLogger.log_debug instead) -- Deprecated since version 1.1.0.\n",
      "  _logger.debug(\"Using addition symmetrization.\")\n",
      "/export/scratch/inoue019/envs/gpu/lib/python3.8/site-packages/magic/magic.py:748: DeprecationWarning: Call to deprecated method task. (Use TaskLogger.log_task instead) -- Deprecated since version 1.1.0.\n",
      "  with _logger.task(\"imputation\"):\n"
     ]
    },
    {
     "name": "stdout",
     "output_type": "stream",
     "text": [
      "  Calculated imputation in 0.47 seconds.\n",
      "Calculated MAGIC in 9.35 seconds.\n"
     ]
    },
    {
     "name": "stderr",
     "output_type": "stream",
     "text": [
      "\r",
      " 88%|████████▊ | 15/17 [19:06<02:41, 80.81s/it]"
     ]
    },
    {
     "name": "stdout",
     "output_type": "stream",
     "text": [
      "Calculating MAGIC...\n",
      "  Running MAGIC on 479 cells and 4021 genes.\n",
      "  Calculating graph and diffusion operator...\n",
      "    Calculating PCA...\n"
     ]
    },
    {
     "name": "stderr",
     "output_type": "stream",
     "text": [
      "/export/scratch/inoue019/envs/gpu/lib/python3.8/site-packages/magic/magic.py:650: DeprecationWarning: Call to deprecated method task. (Use TaskLogger.log_task instead) -- Deprecated since version 1.1.0.\n",
      "  with _logger.task(\"MAGIC\"):\n",
      "/export/scratch/inoue019/envs/gpu/lib/python3.8/site-packages/magic/magic.py:381: DeprecationWarning: Call to deprecated method info. (Use TaskLogger.log_info instead) -- Deprecated since version 1.1.0.\n",
      "  _logger.info(\n",
      "/export/scratch/inoue019/envs/gpu/lib/python3.8/site-packages/magic/magic.py:436: DeprecationWarning: Call to deprecated method task. (Use TaskLogger.log_task instead) -- Deprecated since version 1.1.0.\n",
      "  with _logger.task(\"graph and diffusion operator\"):\n",
      "/export/scratch/inoue019/envs/gpu/lib/python3.8/site-packages/graphtools/api.py:258: DeprecationWarning: Call to deprecated method debug. (Use TaskLogger.log_debug instead) -- Deprecated since version 1.1.0.\n",
      "  _logger.debug(msg)\n",
      "/export/scratch/inoue019/envs/gpu/lib/python3.8/site-packages/graphtools/api.py:276: DeprecationWarning: Call to deprecated method debug. (Use TaskLogger.log_debug instead) -- Deprecated since version 1.1.0.\n",
      "  _logger.debug(\n",
      "/export/scratch/inoue019/envs/gpu/lib/python3.8/site-packages/graphtools/base.py:240: DeprecationWarning: Call to deprecated method task. (Use TaskLogger.log_task instead) -- Deprecated since version 1.1.0.\n",
      "  with _logger.task(\"PCA\"):\n"
     ]
    },
    {
     "name": "stdout",
     "output_type": "stream",
     "text": [
      "    Calculated PCA in 1.93 seconds.\n",
      "    Calculating KNN search...\n",
      "    Calculated KNN search in 0.05 seconds.\n",
      "    Calculating affinities...\n",
      "    Calculated affinities in 0.02 seconds.\n",
      "  Calculated graph and diffusion operator in 2.01 seconds.\n",
      "  Calculating imputation...\n",
      "  Calculated imputation in 0.01 seconds.\n",
      "Calculated MAGIC in 2.03 seconds.\n"
     ]
    },
    {
     "name": "stderr",
     "output_type": "stream",
     "text": [
      "/export/scratch/inoue019/envs/gpu/lib/python3.8/site-packages/graphtools/base.py:501: DeprecationWarning: Call to deprecated method debug. (Use TaskLogger.log_debug instead) -- Deprecated since version 1.1.0.\n",
      "  _logger.debug(\"Initializing kernel...\")\n",
      "/export/scratch/inoue019/envs/gpu/lib/python3.8/site-packages/graphtools/graphs.py:356: DeprecationWarning: Call to deprecated method task. (Use TaskLogger.log_task instead) -- Deprecated since version 1.1.0.\n",
      "  with _logger.task(\"KNN search\"):\n",
      "/export/scratch/inoue019/envs/gpu/lib/python3.8/site-packages/graphtools/graphs.py:362: DeprecationWarning: Call to deprecated method task. (Use TaskLogger.log_task instead) -- Deprecated since version 1.1.0.\n",
      "  with _logger.task(\"affinities\"):\n",
      "/export/scratch/inoue019/envs/gpu/lib/python3.8/site-packages/graphtools/graphs.py:373: DeprecationWarning: Call to deprecated method debug. (Use TaskLogger.log_debug instead) -- Deprecated since version 1.1.0.\n",
      "  _logger.debug(\n",
      "/export/scratch/inoue019/envs/gpu/lib/python3.8/site-packages/graphtools/graphs.py:415: DeprecationWarning: Call to deprecated method debug. (Use TaskLogger.log_debug instead) -- Deprecated since version 1.1.0.\n",
      "  _logger.debug(\n",
      "/export/scratch/inoue019/envs/gpu/lib/python3.8/site-packages/graphtools/base.py:559: DeprecationWarning: Call to deprecated method debug. (Use TaskLogger.log_debug instead) -- Deprecated since version 1.1.0.\n",
      "  _logger.debug(\"Using addition symmetrization.\")\n",
      "/export/scratch/inoue019/envs/gpu/lib/python3.8/site-packages/magic/magic.py:748: DeprecationWarning: Call to deprecated method task. (Use TaskLogger.log_task instead) -- Deprecated since version 1.1.0.\n",
      "  with _logger.task(\"imputation\"):\n",
      " 94%|█████████▍| 16/17 [19:58<01:12, 72.24s/it]"
     ]
    },
    {
     "name": "stdout",
     "output_type": "stream",
     "text": [
      "Calculating MAGIC...\n",
      "  Running MAGIC on 4252 cells and 7389 genes.\n",
      "  Calculating graph and diffusion operator...\n",
      "    Calculating PCA...\n"
     ]
    },
    {
     "name": "stderr",
     "output_type": "stream",
     "text": [
      "/export/scratch/inoue019/envs/gpu/lib/python3.8/site-packages/magic/magic.py:650: DeprecationWarning: Call to deprecated method task. (Use TaskLogger.log_task instead) -- Deprecated since version 1.1.0.\n",
      "  with _logger.task(\"MAGIC\"):\n",
      "/export/scratch/inoue019/envs/gpu/lib/python3.8/site-packages/magic/magic.py:381: DeprecationWarning: Call to deprecated method info. (Use TaskLogger.log_info instead) -- Deprecated since version 1.1.0.\n",
      "  _logger.info(\n",
      "/export/scratch/inoue019/envs/gpu/lib/python3.8/site-packages/magic/magic.py:436: DeprecationWarning: Call to deprecated method task. (Use TaskLogger.log_task instead) -- Deprecated since version 1.1.0.\n",
      "  with _logger.task(\"graph and diffusion operator\"):\n",
      "/export/scratch/inoue019/envs/gpu/lib/python3.8/site-packages/graphtools/api.py:258: DeprecationWarning: Call to deprecated method debug. (Use TaskLogger.log_debug instead) -- Deprecated since version 1.1.0.\n",
      "  _logger.debug(msg)\n",
      "/export/scratch/inoue019/envs/gpu/lib/python3.8/site-packages/graphtools/api.py:276: DeprecationWarning: Call to deprecated method debug. (Use TaskLogger.log_debug instead) -- Deprecated since version 1.1.0.\n",
      "  _logger.debug(\n",
      "/export/scratch/inoue019/envs/gpu/lib/python3.8/site-packages/graphtools/base.py:240: DeprecationWarning: Call to deprecated method task. (Use TaskLogger.log_task instead) -- Deprecated since version 1.1.0.\n",
      "  with _logger.task(\"PCA\"):\n"
     ]
    },
    {
     "name": "stdout",
     "output_type": "stream",
     "text": [
      "    Calculated PCA in 5.36 seconds.\n",
      "    Calculating KNN search...\n"
     ]
    },
    {
     "name": "stderr",
     "output_type": "stream",
     "text": [
      "/export/scratch/inoue019/envs/gpu/lib/python3.8/site-packages/graphtools/base.py:501: DeprecationWarning: Call to deprecated method debug. (Use TaskLogger.log_debug instead) -- Deprecated since version 1.1.0.\n",
      "  _logger.debug(\"Initializing kernel...\")\n",
      "/export/scratch/inoue019/envs/gpu/lib/python3.8/site-packages/graphtools/graphs.py:356: DeprecationWarning: Call to deprecated method task. (Use TaskLogger.log_task instead) -- Deprecated since version 1.1.0.\n",
      "  with _logger.task(\"KNN search\"):\n"
     ]
    },
    {
     "name": "stdout",
     "output_type": "stream",
     "text": [
      "    Calculated KNN search in 1.12 seconds.\n",
      "    Calculating affinities...\n"
     ]
    },
    {
     "name": "stderr",
     "output_type": "stream",
     "text": [
      "/export/scratch/inoue019/envs/gpu/lib/python3.8/site-packages/graphtools/graphs.py:362: DeprecationWarning: Call to deprecated method task. (Use TaskLogger.log_task instead) -- Deprecated since version 1.1.0.\n",
      "  with _logger.task(\"affinities\"):\n",
      "/export/scratch/inoue019/envs/gpu/lib/python3.8/site-packages/graphtools/graphs.py:373: DeprecationWarning: Call to deprecated method debug. (Use TaskLogger.log_debug instead) -- Deprecated since version 1.1.0.\n",
      "  _logger.debug(\n",
      "/export/scratch/inoue019/envs/gpu/lib/python3.8/site-packages/graphtools/graphs.py:415: DeprecationWarning: Call to deprecated method debug. (Use TaskLogger.log_debug instead) -- Deprecated since version 1.1.0.\n",
      "  _logger.debug(\n"
     ]
    },
    {
     "name": "stdout",
     "output_type": "stream",
     "text": [
      "    Calculated affinities in 1.10 seconds.\n",
      "  Calculated graph and diffusion operator in 7.60 seconds.\n",
      "  Running MAGIC with `solver='exact'` on 7389-dimensional data may take a long time. Consider denoising specific genes with `genes=<list-like>` or using `solver='approximate'`.\n",
      "  Calculating imputation...\n"
     ]
    },
    {
     "name": "stderr",
     "output_type": "stream",
     "text": [
      "/export/scratch/inoue019/envs/gpu/lib/python3.8/site-packages/graphtools/base.py:559: DeprecationWarning: Call to deprecated method debug. (Use TaskLogger.log_debug instead) -- Deprecated since version 1.1.0.\n",
      "  _logger.debug(\"Using addition symmetrization.\")\n",
      "/export/scratch/inoue019/envs/gpu/lib/python3.8/site-packages/magic/magic.py:586: DeprecationWarning: Call to deprecated method warning. (Use TaskLogger.log_warning instead) -- Deprecated since version 1.1.0.\n",
      "  _logger.warning(\n",
      "/export/scratch/inoue019/envs/gpu/lib/python3.8/site-packages/magic/magic.py:748: DeprecationWarning: Call to deprecated method task. (Use TaskLogger.log_task instead) -- Deprecated since version 1.1.0.\n",
      "  with _logger.task(\"imputation\"):\n"
     ]
    },
    {
     "name": "stdout",
     "output_type": "stream",
     "text": [
      "  Calculated imputation in 2.19 seconds.\n",
      "Calculated MAGIC in 9.85 seconds.\n"
     ]
    },
    {
     "name": "stderr",
     "output_type": "stream",
     "text": [
      "100%|██████████| 17/17 [21:40<00:00, 76.52s/it]\n"
     ]
    }
   ],
   "source": [
    "res = []\n",
    "for i in tqdm(dir_list):\n",
    "    X_norm, labels = get_data(i)\n",
    "    pred = magic.MAGIC().fit_transform(X_norm)\n",
    "    res.append(get_cluster_metrics(pred, labels))"
   ]
  },
  {
   "cell_type": "code",
   "execution_count": 11,
   "id": "20a9078b",
   "metadata": {},
   "outputs": [
    {
     "data": {
      "text/html": [
       "<div>\n",
       "<style scoped>\n",
       "    .dataframe tbody tr th:only-of-type {\n",
       "        vertical-align: middle;\n",
       "    }\n",
       "\n",
       "    .dataframe tbody tr th {\n",
       "        vertical-align: top;\n",
       "    }\n",
       "\n",
       "    .dataframe thead th {\n",
       "        text-align: right;\n",
       "    }\n",
       "</style>\n",
       "<table border=\"1\" class=\"dataframe\">\n",
       "  <thead>\n",
       "    <tr style=\"text-align: right;\">\n",
       "      <th></th>\n",
       "      <th>ARI</th>\n",
       "      <th>AMI</th>\n",
       "      <th>NMI</th>\n",
       "    </tr>\n",
       "  </thead>\n",
       "  <tbody>\n",
       "    <tr>\n",
       "      <th>baron</th>\n",
       "      <td>0.765658</td>\n",
       "      <td>0.835604</td>\n",
       "      <td>0.839344</td>\n",
       "    </tr>\n",
       "    <tr>\n",
       "      <th>bmcite</th>\n",
       "      <td>0.588317</td>\n",
       "      <td>0.682699</td>\n",
       "      <td>0.683016</td>\n",
       "    </tr>\n",
       "    <tr>\n",
       "      <th>brosens</th>\n",
       "      <td>0.468512</td>\n",
       "      <td>0.649397</td>\n",
       "      <td>0.651711</td>\n",
       "    </tr>\n",
       "    <tr>\n",
       "      <th>carey</th>\n",
       "      <td>0.743721</td>\n",
       "      <td>0.778168</td>\n",
       "      <td>0.778936</td>\n",
       "    </tr>\n",
       "    <tr>\n",
       "      <th>cbmc</th>\n",
       "      <td>0.662201</td>\n",
       "      <td>0.746191</td>\n",
       "      <td>0.751070</td>\n",
       "    </tr>\n",
       "    <tr>\n",
       "      <th>chang</th>\n",
       "      <td>0.161977</td>\n",
       "      <td>0.302264</td>\n",
       "      <td>0.324759</td>\n",
       "    </tr>\n",
       "    <tr>\n",
       "      <th>Fujii</th>\n",
       "      <td>0.443908</td>\n",
       "      <td>0.565823</td>\n",
       "      <td>0.568675</td>\n",
       "    </tr>\n",
       "    <tr>\n",
       "      <th>hcabm40k</th>\n",
       "      <td>0.034687</td>\n",
       "      <td>0.051680</td>\n",
       "      <td>0.054587</td>\n",
       "    </tr>\n",
       "    <tr>\n",
       "      <th>hrvatin</th>\n",
       "      <td>0.777089</td>\n",
       "      <td>0.867684</td>\n",
       "      <td>0.872608</td>\n",
       "    </tr>\n",
       "    <tr>\n",
       "      <th>jakel</th>\n",
       "      <td>0.411675</td>\n",
       "      <td>0.587467</td>\n",
       "      <td>0.589291</td>\n",
       "    </tr>\n",
       "    <tr>\n",
       "      <th>jiang</th>\n",
       "      <td>0.287111</td>\n",
       "      <td>0.496359</td>\n",
       "      <td>0.503208</td>\n",
       "    </tr>\n",
       "    <tr>\n",
       "      <th>loureiro</th>\n",
       "      <td>0.486304</td>\n",
       "      <td>0.664275</td>\n",
       "      <td>0.664457</td>\n",
       "    </tr>\n",
       "    <tr>\n",
       "      <th>manno</th>\n",
       "      <td>0.212280</td>\n",
       "      <td>0.430149</td>\n",
       "      <td>0.462886</td>\n",
       "    </tr>\n",
       "    <tr>\n",
       "      <th>mingyao</th>\n",
       "      <td>0.177752</td>\n",
       "      <td>0.294205</td>\n",
       "      <td>0.295590</td>\n",
       "    </tr>\n",
       "    <tr>\n",
       "      <th>pbmc3k</th>\n",
       "      <td>0.650076</td>\n",
       "      <td>0.764896</td>\n",
       "      <td>0.766838</td>\n",
       "    </tr>\n",
       "    <tr>\n",
       "      <th>Selewa</th>\n",
       "      <td>0.873735</td>\n",
       "      <td>0.877275</td>\n",
       "      <td>0.878703</td>\n",
       "    </tr>\n",
       "    <tr>\n",
       "      <th>Xu</th>\n",
       "      <td>0.699540</td>\n",
       "      <td>0.781387</td>\n",
       "      <td>0.783323</td>\n",
       "    </tr>\n",
       "  </tbody>\n",
       "</table>\n",
       "</div>"
      ],
      "text/plain": [
       "               ARI       AMI       NMI\n",
       "baron     0.765658  0.835604  0.839344\n",
       "bmcite    0.588317  0.682699  0.683016\n",
       "brosens   0.468512  0.649397  0.651711\n",
       "carey     0.743721  0.778168  0.778936\n",
       "cbmc      0.662201  0.746191  0.751070\n",
       "chang     0.161977  0.302264  0.324759\n",
       "Fujii     0.443908  0.565823  0.568675\n",
       "hcabm40k  0.034687  0.051680  0.054587\n",
       "hrvatin   0.777089  0.867684  0.872608\n",
       "jakel     0.411675  0.587467  0.589291\n",
       "jiang     0.287111  0.496359  0.503208\n",
       "loureiro  0.486304  0.664275  0.664457\n",
       "manno     0.212280  0.430149  0.462886\n",
       "mingyao   0.177752  0.294205  0.295590\n",
       "pbmc3k    0.650076  0.764896  0.766838\n",
       "Selewa    0.873735  0.877275  0.878703\n",
       "Xu        0.699540  0.781387  0.783323"
      ]
     },
     "execution_count": 11,
     "metadata": {},
     "output_type": "execute_result"
    }
   ],
   "source": [
    "pd.DataFrame(res, columns=['ARI', 'AMI', 'NMI'], index=dir_list)"
   ]
  },
  {
   "cell_type": "code",
   "execution_count": null,
   "id": "4d57b9d9",
   "metadata": {},
   "outputs": [],
   "source": []
  },
  {
   "cell_type": "code",
   "execution_count": null,
   "id": "47c7a008",
   "metadata": {},
   "outputs": [],
   "source": []
  },
  {
   "cell_type": "code",
   "execution_count": null,
   "id": "807cc41d",
   "metadata": {},
   "outputs": [],
   "source": []
  },
  {
   "cell_type": "code",
   "execution_count": null,
   "id": "24f5d419",
   "metadata": {},
   "outputs": [],
   "source": []
  },
  {
   "cell_type": "code",
   "execution_count": null,
   "id": "c14b4c3b",
   "metadata": {},
   "outputs": [],
   "source": []
  },
  {
   "cell_type": "code",
   "execution_count": null,
   "id": "dc5495f9",
   "metadata": {},
   "outputs": [],
   "source": []
  }
 ],
 "metadata": {
  "kernelspec": {
   "display_name": "gpu",
   "language": "python",
   "name": "gpu"
  },
  "language_info": {
   "codemirror_mode": {
    "name": "ipython",
    "version": 3
   },
   "file_extension": ".py",
   "mimetype": "text/x-python",
   "name": "python",
   "nbconvert_exporter": "python",
   "pygments_lexer": "ipython3",
   "version": "3.8.13"
  }
 },
 "nbformat": 4,
 "nbformat_minor": 5
}
