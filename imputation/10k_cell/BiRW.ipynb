{
 "cells": [
  {
   "cell_type": "code",
   "execution_count": 1,
   "id": "ad600f3f",
   "metadata": {},
   "outputs": [],
   "source": [
    "import numpy as np\n",
    "import pandas as pd\n",
    "import sys,os \n",
    "import random\n",
    "\n",
    "os.environ['XLA_PYTHON_CLIENT_PREALLOCATE'] = 'false'\n",
    "os.environ['CUDA_VISIBLE_DEVICES'] = '1'\n",
    "\n",
    "from sklearn.metrics import mean_absolute_percentage_error as mape\n",
    "from sklearn.metrics import mean_squared_error as mse\n",
    "\n",
    "sys.path.insert(0, os.path.join(os.path.abspath(''), '../../', 'magic'))\n",
    "\n",
    "from tqdm import tqdm\n",
    "from run_magic import run_magic_birw"
   ]
  },
  {
   "cell_type": "code",
   "execution_count": 2,
   "id": "45cfaeb4",
   "metadata": {},
   "outputs": [],
   "source": [
    "def get_data_for_i(i):\n",
    "    original_ = pd.read_csv('../../data/cell_simulation_10000/data.csv.gz', index_col=0)\n",
    "    df_ = pd.read_csv('../../data/cell_simulation_10000/drp_{}0.csv.gz'.format(i), index_col=0)\n",
    "    df_.index = [int(i) for i in df_.index]\n",
    "    df_.columns = [int(i) for i in df_.columns]\n",
    "\n",
    "    original_.columns = df_.columns\n",
    "    original_.index = df_.index\n",
    "\n",
    "    n = original_.size\n",
    "    original_val = original_.values.copy()\n",
    "    t = list(np.ndindex(original_.shape))\n",
    "    random.Random(42).shuffle(t)\n",
    "\n",
    "    mask = t[:int(len(t)/10 * i)]\n",
    "\n",
    "    thr = np.sum(np.sign(df_)) > 0\n",
    "    original_ = original_.loc[:, list(thr)]\n",
    "    df_ = df_.loc[:, list(thr)]\n",
    "\n",
    "    # original = original_.values\n",
    "    original = np.log(original_+1)\n",
    "\n",
    "    # df = df_.values\n",
    "    df = np.log(df_+1)\n",
    "\n",
    "    tmp = pd.DataFrame(thr)\n",
    "    remove = [int(i) for i in tmp[tmp[0] == False].index]\n",
    "    mask = [i for i in mask if i[1] not in remove]\n",
    "    \n",
    "    return df, mask, original"
   ]
  },
  {
   "cell_type": "code",
   "execution_count": null,
   "id": "a5595ab4",
   "metadata": {},
   "outputs": [],
   "source": []
  },
  {
   "cell_type": "code",
   "execution_count": 3,
   "id": "25f80ac4",
   "metadata": {},
   "outputs": [],
   "source": [
    "kuang_params = {  \n",
    "    'is_preprocess': False,\n",
    "    'is_pca': False,\n",
    "    'Iter': 100, \n",
    "    'alpha': 0.1,\n",
    "    'kernel': 'jp',\n",
    "#     'method': 'cartesian',\n",
    "}"
   ]
  },
  {
   "cell_type": "code",
   "execution_count": 4,
   "id": "03259bed",
   "metadata": {
    "scrolled": true
   },
   "outputs": [
    {
     "name": "stdout",
     "output_type": "stream",
     "text": [
      "0\n",
      "Running ...\n",
      "     Time to compute cell-cell affinity matrix:  24.117613554000854\n",
      "     Time to compute gene-gene affinity matrix:  7.032299518585205\n",
      "Method: Tensor product\n"
     ]
    },
    {
     "name": "stderr",
     "output_type": "stream",
     "text": [
      "100%|██████████| 100/100 [00:14<00:00,  6.80it/s]\n"
     ]
    },
    {
     "name": "stdout",
     "output_type": "stream",
     "text": [
      "     Time to perform bi-random walk:  16.991628885269165\n",
      "Finish running, Time:  48.578911781311035\n",
      "1\n",
      "Running ...\n",
      "     Time to compute cell-cell affinity matrix:  31.697758197784424\n",
      "     Time to compute gene-gene affinity matrix:  7.025343656539917\n",
      "Method: Tensor product\n"
     ]
    },
    {
     "name": "stderr",
     "output_type": "stream",
     "text": [
      "100%|██████████| 100/100 [00:12<00:00,  8.07it/s]\n"
     ]
    },
    {
     "name": "stdout",
     "output_type": "stream",
     "text": [
      "     Time to perform bi-random walk:  12.624976873397827\n",
      "Finish running, Time:  51.787635803222656\n",
      "2\n",
      "Running ...\n",
      "     Time to compute cell-cell affinity matrix:  23.599912405014038\n",
      "     Time to compute gene-gene affinity matrix:  6.959671974182129\n",
      "Method: Tensor product\n"
     ]
    },
    {
     "name": "stderr",
     "output_type": "stream",
     "text": [
      "100%|██████████| 100/100 [00:12<00:00,  8.00it/s]\n"
     ]
    },
    {
     "name": "stdout",
     "output_type": "stream",
     "text": [
      "     Time to perform bi-random walk:  12.74049162864685\n",
      "Finish running, Time:  43.73309683799744\n",
      "3\n",
      "Running ...\n",
      "     Time to compute cell-cell affinity matrix:  23.341698169708252\n",
      "     Time to compute gene-gene affinity matrix:  6.778822422027588\n",
      "Method: Tensor product\n"
     ]
    },
    {
     "name": "stderr",
     "output_type": "stream",
     "text": [
      "100%|██████████| 100/100 [00:12<00:00,  8.00it/s]\n"
     ]
    },
    {
     "name": "stdout",
     "output_type": "stream",
     "text": [
      "     Time to perform bi-random walk:  12.719814777374268\n",
      "Finish running, Time:  43.263848543167114\n",
      "4\n",
      "Running ...\n",
      "     Time to compute cell-cell affinity matrix:  23.390260696411133\n",
      "     Time to compute gene-gene affinity matrix:  6.8579206466674805\n",
      "Method: Tensor product\n"
     ]
    },
    {
     "name": "stderr",
     "output_type": "stream",
     "text": [
      "100%|██████████| 100/100 [00:12<00:00,  8.07it/s]\n"
     ]
    },
    {
     "name": "stdout",
     "output_type": "stream",
     "text": [
      "     Time to perform bi-random walk:  12.632219552993774\n",
      "Finish running, Time:  43.31411361694336\n"
     ]
    }
   ],
   "source": [
    "mses = {}\n",
    "corrs = {}\n",
    "method = 'BiRW'\n",
    "\n",
    "for i in (range(5)):\n",
    "    print(i)\n",
    "    df, mask, original = get_data_for_i(i+1)\n",
    "\n",
    "    pred = run_magic_birw(\n",
    "        df, \n",
    "        **kuang_params\n",
    "    )\n",
    "    pred = pd.DataFrame(pred, columns=df.columns, index=df.index)\n",
    "    \n",
    "    pred.to_csv('/export/scratch/inoue019/cell_result/{}_{}.csv.gz'.format(method, i), compression='gzip')\n",
    "\n",
    "    origin = np.array([original.loc[i] for i in mask])\n",
    "    predict = np.array([pred.loc[i] for i in mask])\n",
    "\n",
    "    mses[i] = mse(origin, predict)\n",
    "    corrs[i] = np.corrcoef(origin, predict)[0][1]"
   ]
  },
  {
   "cell_type": "code",
   "execution_count": 5,
   "id": "38cf606e",
   "metadata": {},
   "outputs": [
    {
     "data": {
      "text/html": [
       "<div>\n",
       "<style scoped>\n",
       "    .dataframe tbody tr th:only-of-type {\n",
       "        vertical-align: middle;\n",
       "    }\n",
       "\n",
       "    .dataframe tbody tr th {\n",
       "        vertical-align: top;\n",
       "    }\n",
       "\n",
       "    .dataframe thead th {\n",
       "        text-align: right;\n",
       "    }\n",
       "</style>\n",
       "<table border=\"1\" class=\"dataframe\">\n",
       "  <thead>\n",
       "    <tr style=\"text-align: right;\">\n",
       "      <th></th>\n",
       "      <th>0</th>\n",
       "      <th>1</th>\n",
       "      <th>2</th>\n",
       "      <th>3</th>\n",
       "      <th>4</th>\n",
       "    </tr>\n",
       "  </thead>\n",
       "  <tbody>\n",
       "    <tr>\n",
       "      <th>0</th>\n",
       "      <td>0.383481</td>\n",
       "      <td>0.451385</td>\n",
       "      <td>0.523747</td>\n",
       "      <td>0.588407</td>\n",
       "      <td>0.63835</td>\n",
       "    </tr>\n",
       "  </tbody>\n",
       "</table>\n",
       "</div>"
      ],
      "text/plain": [
       "          0         1         2         3        4\n",
       "0  0.383481  0.451385  0.523747  0.588407  0.63835"
      ]
     },
     "execution_count": 5,
     "metadata": {},
     "output_type": "execute_result"
    }
   ],
   "source": [
    "pd.DataFrame(mses.values()).T"
   ]
  },
  {
   "cell_type": "code",
   "execution_count": 6,
   "id": "98af4de7",
   "metadata": {},
   "outputs": [
    {
     "data": {
      "text/html": [
       "<div>\n",
       "<style scoped>\n",
       "    .dataframe tbody tr th:only-of-type {\n",
       "        vertical-align: middle;\n",
       "    }\n",
       "\n",
       "    .dataframe tbody tr th {\n",
       "        vertical-align: top;\n",
       "    }\n",
       "\n",
       "    .dataframe thead th {\n",
       "        text-align: right;\n",
       "    }\n",
       "</style>\n",
       "<table border=\"1\" class=\"dataframe\">\n",
       "  <thead>\n",
       "    <tr style=\"text-align: right;\">\n",
       "      <th></th>\n",
       "      <th>0</th>\n",
       "      <th>1</th>\n",
       "      <th>2</th>\n",
       "      <th>3</th>\n",
       "      <th>4</th>\n",
       "    </tr>\n",
       "  </thead>\n",
       "  <tbody>\n",
       "    <tr>\n",
       "      <th>0</th>\n",
       "      <td>0.665391</td>\n",
       "      <td>0.651565</td>\n",
       "      <td>0.634533</td>\n",
       "      <td>0.612774</td>\n",
       "      <td>0.584</td>\n",
       "    </tr>\n",
       "  </tbody>\n",
       "</table>\n",
       "</div>"
      ],
      "text/plain": [
       "          0         1         2         3      4\n",
       "0  0.665391  0.651565  0.634533  0.612774  0.584"
      ]
     },
     "execution_count": 6,
     "metadata": {},
     "output_type": "execute_result"
    }
   ],
   "source": [
    "pd.DataFrame(corrs.values()).T"
   ]
  },
  {
   "cell_type": "code",
   "execution_count": null,
   "id": "30afb368",
   "metadata": {},
   "outputs": [],
   "source": []
  },
  {
   "cell_type": "code",
   "execution_count": 7,
   "id": "af67fd84",
   "metadata": {},
   "outputs": [
    {
     "name": "stdout",
     "output_type": "stream",
     "text": [
      "5\n",
      "Running ...\n",
      "     Time to compute cell-cell affinity matrix:  24.285328149795532\n",
      "     Time to compute gene-gene affinity matrix:  6.704464435577393\n",
      "Method: Tensor product\n"
     ]
    },
    {
     "name": "stderr",
     "output_type": "stream",
     "text": [
      "100%|██████████| 100/100 [00:12<00:00,  8.04it/s]\n"
     ]
    },
    {
     "name": "stdout",
     "output_type": "stream",
     "text": [
      "     Time to perform bi-random walk:  12.67353343963623\n",
      "Finish running, Time:  44.0968132019043\n",
      "6\n",
      "Running ...\n",
      "     Time to compute cell-cell affinity matrix:  25.324512481689453\n",
      "     Time to compute gene-gene affinity matrix:  6.678128242492676\n",
      "Method: Tensor product\n"
     ]
    },
    {
     "name": "stderr",
     "output_type": "stream",
     "text": [
      "100%|██████████| 100/100 [00:12<00:00,  8.07it/s]\n"
     ]
    },
    {
     "name": "stdout",
     "output_type": "stream",
     "text": [
      "     Time to perform bi-random walk:  12.629993438720703\n",
      "Finish running, Time:  45.248709201812744\n",
      "7\n",
      "Running ...\n",
      "     Time to compute cell-cell affinity matrix:  24.544204711914062\n",
      "     Time to compute gene-gene affinity matrix:  7.101137638092041\n",
      "Method: Tensor product\n"
     ]
    },
    {
     "name": "stderr",
     "output_type": "stream",
     "text": [
      "100%|██████████| 100/100 [00:12<00:00,  8.07it/s]\n"
     ]
    },
    {
     "name": "stdout",
     "output_type": "stream",
     "text": [
      "     Time to perform bi-random walk:  12.630648374557495\n",
      "Finish running, Time:  44.898542642593384\n",
      "8\n",
      "Running ...\n",
      "     Time to compute cell-cell affinity matrix:  23.533915519714355\n",
      "     Time to compute gene-gene affinity matrix:  6.7291882038116455\n",
      "Method: Tensor product\n"
     ]
    },
    {
     "name": "stderr",
     "output_type": "stream",
     "text": [
      "100%|██████████| 100/100 [00:12<00:00,  8.08it/s]\n"
     ]
    },
    {
     "name": "stdout",
     "output_type": "stream",
     "text": [
      "     Time to perform bi-random walk:  12.849055767059326\n",
      "Finish running, Time:  43.72613215446472\n"
     ]
    }
   ],
   "source": [
    "mses = {}\n",
    "corrs = {}\n",
    "method = 'BiRW'\n",
    "\n",
    "for i in (range(5, 9)):\n",
    "    print(i)\n",
    "    df, mask, original = get_data_for_i(i+1)\n",
    "\n",
    "    pred = run_magic_birw(\n",
    "        df, \n",
    "        **kuang_params\n",
    "    )\n",
    "    pred = pd.DataFrame(pred, columns=df.columns, index=df.index)\n",
    "    \n",
    "    pred.to_csv('/export/scratch/inoue019/cell_result/{}_{}.csv.gz'.format(method, i), compression='gzip')\n",
    "\n",
    "    origin = np.array([original.loc[i] for i in mask])\n",
    "    predict = np.array([pred.loc[i] for i in mask])\n",
    "\n",
    "    mses[i] = mse(origin, predict)\n",
    "    corrs[i] = np.corrcoef(origin, predict)[0][1]"
   ]
  },
  {
   "cell_type": "code",
   "execution_count": 8,
   "id": "6b579ab3",
   "metadata": {},
   "outputs": [
    {
     "data": {
      "text/html": [
       "<div>\n",
       "<style scoped>\n",
       "    .dataframe tbody tr th:only-of-type {\n",
       "        vertical-align: middle;\n",
       "    }\n",
       "\n",
       "    .dataframe tbody tr th {\n",
       "        vertical-align: top;\n",
       "    }\n",
       "\n",
       "    .dataframe thead th {\n",
       "        text-align: right;\n",
       "    }\n",
       "</style>\n",
       "<table border=\"1\" class=\"dataframe\">\n",
       "  <thead>\n",
       "    <tr style=\"text-align: right;\">\n",
       "      <th></th>\n",
       "      <th>0</th>\n",
       "      <th>1</th>\n",
       "      <th>2</th>\n",
       "      <th>3</th>\n",
       "    </tr>\n",
       "  </thead>\n",
       "  <tbody>\n",
       "    <tr>\n",
       "      <th>0</th>\n",
       "      <td>0.673401</td>\n",
       "      <td>0.698358</td>\n",
       "      <td>0.716935</td>\n",
       "      <td>0.731025</td>\n",
       "    </tr>\n",
       "  </tbody>\n",
       "</table>\n",
       "</div>"
      ],
      "text/plain": [
       "          0         1         2         3\n",
       "0  0.673401  0.698358  0.716935  0.731025"
      ]
     },
     "execution_count": 8,
     "metadata": {},
     "output_type": "execute_result"
    }
   ],
   "source": [
    "pd.DataFrame(mses.values()).T"
   ]
  },
  {
   "cell_type": "code",
   "execution_count": 9,
   "id": "ef45af70",
   "metadata": {},
   "outputs": [
    {
     "data": {
      "text/html": [
       "<div>\n",
       "<style scoped>\n",
       "    .dataframe tbody tr th:only-of-type {\n",
       "        vertical-align: middle;\n",
       "    }\n",
       "\n",
       "    .dataframe tbody tr th {\n",
       "        vertical-align: top;\n",
       "    }\n",
       "\n",
       "    .dataframe thead th {\n",
       "        text-align: right;\n",
       "    }\n",
       "</style>\n",
       "<table border=\"1\" class=\"dataframe\">\n",
       "  <thead>\n",
       "    <tr style=\"text-align: right;\">\n",
       "      <th></th>\n",
       "      <th>0</th>\n",
       "      <th>1</th>\n",
       "      <th>2</th>\n",
       "      <th>3</th>\n",
       "    </tr>\n",
       "  </thead>\n",
       "  <tbody>\n",
       "    <tr>\n",
       "      <th>0</th>\n",
       "      <td>0.551871</td>\n",
       "      <td>0.512071</td>\n",
       "      <td>0.354844</td>\n",
       "      <td>0.15671</td>\n",
       "    </tr>\n",
       "  </tbody>\n",
       "</table>\n",
       "</div>"
      ],
      "text/plain": [
       "          0         1         2        3\n",
       "0  0.551871  0.512071  0.354844  0.15671"
      ]
     },
     "execution_count": 9,
     "metadata": {},
     "output_type": "execute_result"
    }
   ],
   "source": [
    "pd.DataFrame(corrs.values()).T"
   ]
  },
  {
   "cell_type": "code",
   "execution_count": null,
   "id": "a0f04d0e",
   "metadata": {},
   "outputs": [],
   "source": []
  }
 ],
 "metadata": {
  "kernelspec": {
   "display_name": "jax",
   "language": "python",
   "name": "jax"
  },
  "language_info": {
   "codemirror_mode": {
    "name": "ipython",
    "version": 3
   },
   "file_extension": ".py",
   "mimetype": "text/x-python",
   "name": "python",
   "nbconvert_exporter": "python",
   "pygments_lexer": "ipython3",
   "version": "3.8.16"
  }
 },
 "nbformat": 4,
 "nbformat_minor": 5
}
