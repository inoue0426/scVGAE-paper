{
 "cells": [
  {
   "cell_type": "code",
   "execution_count": 1,
   "id": "725311c3",
   "metadata": {},
   "outputs": [],
   "source": [
    "import warnings\n",
    "warnings.resetwarnings()\n",
    "\n",
    "import scprep\n",
    "import matplotlib.pyplot as plt\n",
    "\n",
    "import pandas as pd\n",
    "import numpy as np\n",
    "import random\n",
    "\n",
    "import os\n",
    "\n",
    "import magic\n",
    "\n",
    "from tqdm import tqdm\n",
    "from sklearn.metrics import mean_absolute_percentage_error as mape\n",
    "from sklearn.metrics import mean_squared_error as mse"
   ]
  },
  {
   "cell_type": "code",
   "execution_count": 2,
   "id": "078973b6",
   "metadata": {
    "scrolled": true
   },
   "outputs": [],
   "source": [
    "def get_data_for_i(i):\n",
    "    original_ = pd.read_csv('../../data/cell_simulation_10000/data.csv.gz', index_col=0)\n",
    "    df_ = pd.read_csv('../../data/cell_simulation_10000/drp_{}0.csv.gz'.format(i), index_col=0)\n",
    "    df_.index = [int(i) for i in df_.index]\n",
    "    df_.columns = [int(i) for i in df_.columns]\n",
    "\n",
    "    original_.columns = df_.columns\n",
    "    original_.index = df_.index\n",
    "\n",
    "    n = original_.size\n",
    "    original_val = original_.values.copy()\n",
    "    t = list(np.ndindex(original_.shape))\n",
    "    random.Random(42).shuffle(t)\n",
    "\n",
    "    mask = t[:int(len(t)/10 * i)]\n",
    "\n",
    "    thr = np.sum(np.sign(df_)) > 0\n",
    "    original_ = original_.loc[:, list(thr)]\n",
    "    df_ = df_.loc[:, list(thr)]\n",
    "\n",
    "    # original = original_.values\n",
    "    original = np.log(original_+1)\n",
    "\n",
    "    # df = df_.values\n",
    "    df = np.log(df_+1)\n",
    "\n",
    "    tmp = pd.DataFrame(thr)\n",
    "    remove = [int(i) for i in tmp[tmp[0] == False].index]\n",
    "    mask = [i for i in mask if i[1] not in remove]\n",
    "    \n",
    "    return df, mask, original"
   ]
  },
  {
   "cell_type": "code",
   "execution_count": 3,
   "id": "a0d0818f",
   "metadata": {
    "scrolled": true
   },
   "outputs": [
    {
     "name": "stdout",
     "output_type": "stream",
     "text": [
      "0\n",
      "Calculating MAGIC...\n",
      "  Running MAGIC on 10000 cells and 5000 genes.\n",
      "  Calculating graph and diffusion operator...\n"
     ]
    },
    {
     "name": "stderr",
     "output_type": "stream",
     "text": [
      "/home/inoue019/.local/lib/python3.10/site-packages/magic/magic.py:650: DeprecationWarning: Call to deprecated method task. (Use TaskLogger.log_task instead) -- Deprecated since version 1.1.0.\n",
      "  with _logger.task(\"MAGIC\"):\n",
      "/home/inoue019/.local/lib/python3.10/site-packages/magic/magic.py:381: DeprecationWarning: Call to deprecated method info. (Use TaskLogger.log_info instead) -- Deprecated since version 1.1.0.\n",
      "  _logger.info(\n",
      "/home/inoue019/.local/lib/python3.10/site-packages/magic/magic.py:436: DeprecationWarning: Call to deprecated method task. (Use TaskLogger.log_task instead) -- Deprecated since version 1.1.0.\n",
      "  with _logger.task(\"graph and diffusion operator\"):\n"
     ]
    },
    {
     "name": "stdout",
     "output_type": "stream",
     "text": [
      "    Calculating PCA...\n",
      "    Calculated PCA in 13.40 seconds.\n",
      "    Calculating KNN search...\n",
      "    Calculated KNN search in 11.46 seconds.\n",
      "    Calculating affinities...\n",
      "    Calculated affinities in 9.65 seconds.\n",
      "  Calculated graph and diffusion operator in 34.63 seconds.\n",
      "  Calculating imputation...\n"
     ]
    },
    {
     "name": "stderr",
     "output_type": "stream",
     "text": [
      "/home/inoue019/.local/lib/python3.10/site-packages/magic/magic.py:748: DeprecationWarning: Call to deprecated method task. (Use TaskLogger.log_task instead) -- Deprecated since version 1.1.0.\n",
      "  with _logger.task(\"imputation\"):\n"
     ]
    },
    {
     "name": "stdout",
     "output_type": "stream",
     "text": [
      "  Calculated imputation in 3.72 seconds.\n",
      "Calculated MAGIC in 38.45 seconds.\n",
      "1\n",
      "Calculating MAGIC...\n",
      "  Running MAGIC on 10000 cells and 5000 genes.\n",
      "  Calculating graph and diffusion operator...\n"
     ]
    },
    {
     "name": "stderr",
     "output_type": "stream",
     "text": [
      "/home/inoue019/.local/lib/python3.10/site-packages/magic/magic.py:650: DeprecationWarning: Call to deprecated method task. (Use TaskLogger.log_task instead) -- Deprecated since version 1.1.0.\n",
      "  with _logger.task(\"MAGIC\"):\n",
      "/home/inoue019/.local/lib/python3.10/site-packages/magic/magic.py:381: DeprecationWarning: Call to deprecated method info. (Use TaskLogger.log_info instead) -- Deprecated since version 1.1.0.\n",
      "  _logger.info(\n",
      "/home/inoue019/.local/lib/python3.10/site-packages/magic/magic.py:436: DeprecationWarning: Call to deprecated method task. (Use TaskLogger.log_task instead) -- Deprecated since version 1.1.0.\n",
      "  with _logger.task(\"graph and diffusion operator\"):\n"
     ]
    },
    {
     "name": "stdout",
     "output_type": "stream",
     "text": [
      "    Calculating PCA...\n",
      "    Calculated PCA in 14.44 seconds.\n",
      "    Calculating KNN search...\n",
      "    Calculated KNN search in 11.88 seconds.\n",
      "    Calculating affinities...\n",
      "    Calculated affinities in 10.80 seconds.\n",
      "  Calculated graph and diffusion operator in 37.25 seconds.\n",
      "  Calculating imputation...\n"
     ]
    },
    {
     "name": "stderr",
     "output_type": "stream",
     "text": [
      "/home/inoue019/.local/lib/python3.10/site-packages/magic/magic.py:748: DeprecationWarning: Call to deprecated method task. (Use TaskLogger.log_task instead) -- Deprecated since version 1.1.0.\n",
      "  with _logger.task(\"imputation\"):\n"
     ]
    },
    {
     "name": "stdout",
     "output_type": "stream",
     "text": [
      "  Calculated imputation in 3.68 seconds.\n",
      "Calculated MAGIC in 41.04 seconds.\n",
      "2\n",
      "Calculating MAGIC...\n",
      "  Running MAGIC on 10000 cells and 5000 genes.\n",
      "  Calculating graph and diffusion operator...\n"
     ]
    },
    {
     "name": "stderr",
     "output_type": "stream",
     "text": [
      "/home/inoue019/.local/lib/python3.10/site-packages/magic/magic.py:650: DeprecationWarning: Call to deprecated method task. (Use TaskLogger.log_task instead) -- Deprecated since version 1.1.0.\n",
      "  with _logger.task(\"MAGIC\"):\n",
      "/home/inoue019/.local/lib/python3.10/site-packages/magic/magic.py:381: DeprecationWarning: Call to deprecated method info. (Use TaskLogger.log_info instead) -- Deprecated since version 1.1.0.\n",
      "  _logger.info(\n",
      "/home/inoue019/.local/lib/python3.10/site-packages/magic/magic.py:436: DeprecationWarning: Call to deprecated method task. (Use TaskLogger.log_task instead) -- Deprecated since version 1.1.0.\n",
      "  with _logger.task(\"graph and diffusion operator\"):\n"
     ]
    },
    {
     "name": "stdout",
     "output_type": "stream",
     "text": [
      "    Calculating PCA...\n",
      "    Calculated PCA in 14.70 seconds.\n",
      "    Calculating KNN search...\n",
      "    Calculated KNN search in 12.27 seconds.\n",
      "    Calculating affinities...\n",
      "    Calculated affinities in 12.09 seconds.\n",
      "  Calculated graph and diffusion operator in 39.18 seconds.\n",
      "  Calculating imputation...\n"
     ]
    },
    {
     "name": "stderr",
     "output_type": "stream",
     "text": [
      "/home/inoue019/.local/lib/python3.10/site-packages/magic/magic.py:748: DeprecationWarning: Call to deprecated method task. (Use TaskLogger.log_task instead) -- Deprecated since version 1.1.0.\n",
      "  with _logger.task(\"imputation\"):\n"
     ]
    },
    {
     "name": "stdout",
     "output_type": "stream",
     "text": [
      "  Calculated imputation in 3.86 seconds.\n",
      "Calculated MAGIC in 43.13 seconds.\n",
      "3\n",
      "Calculating MAGIC...\n",
      "  Running MAGIC on 10000 cells and 5000 genes.\n",
      "  Calculating graph and diffusion operator...\n"
     ]
    },
    {
     "name": "stderr",
     "output_type": "stream",
     "text": [
      "/home/inoue019/.local/lib/python3.10/site-packages/magic/magic.py:650: DeprecationWarning: Call to deprecated method task. (Use TaskLogger.log_task instead) -- Deprecated since version 1.1.0.\n",
      "  with _logger.task(\"MAGIC\"):\n",
      "/home/inoue019/.local/lib/python3.10/site-packages/magic/magic.py:381: DeprecationWarning: Call to deprecated method info. (Use TaskLogger.log_info instead) -- Deprecated since version 1.1.0.\n",
      "  _logger.info(\n",
      "/home/inoue019/.local/lib/python3.10/site-packages/magic/magic.py:436: DeprecationWarning: Call to deprecated method task. (Use TaskLogger.log_task instead) -- Deprecated since version 1.1.0.\n",
      "  with _logger.task(\"graph and diffusion operator\"):\n"
     ]
    },
    {
     "name": "stdout",
     "output_type": "stream",
     "text": [
      "    Calculating PCA...\n",
      "    Calculated PCA in 14.02 seconds.\n",
      "    Calculating KNN search...\n",
      "    Calculated KNN search in 12.37 seconds.\n",
      "    Calculating affinities...\n",
      "    Calculated affinities in 12.41 seconds.\n",
      "  Calculated graph and diffusion operator in 38.93 seconds.\n",
      "  Calculating imputation...\n"
     ]
    },
    {
     "name": "stderr",
     "output_type": "stream",
     "text": [
      "/home/inoue019/.local/lib/python3.10/site-packages/magic/magic.py:748: DeprecationWarning: Call to deprecated method task. (Use TaskLogger.log_task instead) -- Deprecated since version 1.1.0.\n",
      "  with _logger.task(\"imputation\"):\n"
     ]
    },
    {
     "name": "stdout",
     "output_type": "stream",
     "text": [
      "  Calculated imputation in 4.13 seconds.\n",
      "Calculated MAGIC in 43.17 seconds.\n",
      "4\n",
      "Calculating MAGIC...\n",
      "  Running MAGIC on 10000 cells and 5000 genes.\n",
      "  Calculating graph and diffusion operator...\n"
     ]
    },
    {
     "name": "stderr",
     "output_type": "stream",
     "text": [
      "/home/inoue019/.local/lib/python3.10/site-packages/magic/magic.py:650: DeprecationWarning: Call to deprecated method task. (Use TaskLogger.log_task instead) -- Deprecated since version 1.1.0.\n",
      "  with _logger.task(\"MAGIC\"):\n",
      "/home/inoue019/.local/lib/python3.10/site-packages/magic/magic.py:381: DeprecationWarning: Call to deprecated method info. (Use TaskLogger.log_info instead) -- Deprecated since version 1.1.0.\n",
      "  _logger.info(\n",
      "/home/inoue019/.local/lib/python3.10/site-packages/magic/magic.py:436: DeprecationWarning: Call to deprecated method task. (Use TaskLogger.log_task instead) -- Deprecated since version 1.1.0.\n",
      "  with _logger.task(\"graph and diffusion operator\"):\n"
     ]
    },
    {
     "name": "stdout",
     "output_type": "stream",
     "text": [
      "    Calculating PCA...\n",
      "    Calculated PCA in 14.46 seconds.\n",
      "    Calculating KNN search...\n",
      "    Calculated KNN search in 12.86 seconds.\n",
      "    Calculating affinities...\n",
      "    Calculated affinities in 12.30 seconds.\n",
      "  Calculated graph and diffusion operator in 39.75 seconds.\n",
      "  Calculating imputation...\n"
     ]
    },
    {
     "name": "stderr",
     "output_type": "stream",
     "text": [
      "/home/inoue019/.local/lib/python3.10/site-packages/magic/magic.py:748: DeprecationWarning: Call to deprecated method task. (Use TaskLogger.log_task instead) -- Deprecated since version 1.1.0.\n",
      "  with _logger.task(\"imputation\"):\n"
     ]
    },
    {
     "name": "stdout",
     "output_type": "stream",
     "text": [
      "  Calculated imputation in 4.21 seconds.\n",
      "Calculated MAGIC in 44.06 seconds.\n",
      "5\n",
      "Calculating MAGIC...\n",
      "  Running MAGIC on 10000 cells and 5000 genes.\n",
      "  Calculating graph and diffusion operator...\n"
     ]
    },
    {
     "name": "stderr",
     "output_type": "stream",
     "text": [
      "/home/inoue019/.local/lib/python3.10/site-packages/magic/magic.py:650: DeprecationWarning: Call to deprecated method task. (Use TaskLogger.log_task instead) -- Deprecated since version 1.1.0.\n",
      "  with _logger.task(\"MAGIC\"):\n",
      "/home/inoue019/.local/lib/python3.10/site-packages/magic/magic.py:381: DeprecationWarning: Call to deprecated method info. (Use TaskLogger.log_info instead) -- Deprecated since version 1.1.0.\n",
      "  _logger.info(\n",
      "/home/inoue019/.local/lib/python3.10/site-packages/magic/magic.py:436: DeprecationWarning: Call to deprecated method task. (Use TaskLogger.log_task instead) -- Deprecated since version 1.1.0.\n",
      "  with _logger.task(\"graph and diffusion operator\"):\n"
     ]
    },
    {
     "name": "stdout",
     "output_type": "stream",
     "text": [
      "    Calculating PCA...\n",
      "    Calculated PCA in 13.96 seconds.\n",
      "    Calculating KNN search...\n",
      "    Calculated KNN search in 11.65 seconds.\n",
      "    Calculating affinities...\n",
      "    Calculated affinities in 11.68 seconds.\n",
      "  Calculated graph and diffusion operator in 37.40 seconds.\n",
      "  Calculating imputation...\n"
     ]
    },
    {
     "name": "stderr",
     "output_type": "stream",
     "text": [
      "/home/inoue019/.local/lib/python3.10/site-packages/magic/magic.py:748: DeprecationWarning: Call to deprecated method task. (Use TaskLogger.log_task instead) -- Deprecated since version 1.1.0.\n",
      "  with _logger.task(\"imputation\"):\n"
     ]
    },
    {
     "name": "stdout",
     "output_type": "stream",
     "text": [
      "  Calculated imputation in 4.27 seconds.\n",
      "Calculated MAGIC in 41.77 seconds.\n",
      "6\n",
      "Calculating MAGIC...\n",
      "  Running MAGIC on 10000 cells and 5000 genes.\n",
      "  Calculating graph and diffusion operator...\n"
     ]
    },
    {
     "name": "stderr",
     "output_type": "stream",
     "text": [
      "/home/inoue019/.local/lib/python3.10/site-packages/magic/magic.py:650: DeprecationWarning: Call to deprecated method task. (Use TaskLogger.log_task instead) -- Deprecated since version 1.1.0.\n",
      "  with _logger.task(\"MAGIC\"):\n",
      "/home/inoue019/.local/lib/python3.10/site-packages/magic/magic.py:381: DeprecationWarning: Call to deprecated method info. (Use TaskLogger.log_info instead) -- Deprecated since version 1.1.0.\n",
      "  _logger.info(\n",
      "/home/inoue019/.local/lib/python3.10/site-packages/magic/magic.py:436: DeprecationWarning: Call to deprecated method task. (Use TaskLogger.log_task instead) -- Deprecated since version 1.1.0.\n",
      "  with _logger.task(\"graph and diffusion operator\"):\n"
     ]
    },
    {
     "name": "stdout",
     "output_type": "stream",
     "text": [
      "    Calculating PCA...\n",
      "    Calculated PCA in 14.97 seconds.\n",
      "    Calculating KNN search...\n",
      "    Calculated KNN search in 11.61 seconds.\n",
      "    Calculating affinities...\n",
      "    Calculated affinities in 11.44 seconds.\n",
      "  Calculated graph and diffusion operator in 38.14 seconds.\n",
      "  Calculating imputation...\n"
     ]
    },
    {
     "name": "stderr",
     "output_type": "stream",
     "text": [
      "/home/inoue019/.local/lib/python3.10/site-packages/magic/magic.py:748: DeprecationWarning: Call to deprecated method task. (Use TaskLogger.log_task instead) -- Deprecated since version 1.1.0.\n",
      "  with _logger.task(\"imputation\"):\n"
     ]
    },
    {
     "name": "stdout",
     "output_type": "stream",
     "text": [
      "  Calculated imputation in 4.35 seconds.\n",
      "Calculated MAGIC in 42.60 seconds.\n",
      "7\n",
      "Calculating MAGIC...\n",
      "  Running MAGIC on 10000 cells and 5000 genes.\n",
      "  Calculating graph and diffusion operator...\n"
     ]
    },
    {
     "name": "stderr",
     "output_type": "stream",
     "text": [
      "/home/inoue019/.local/lib/python3.10/site-packages/magic/magic.py:650: DeprecationWarning: Call to deprecated method task. (Use TaskLogger.log_task instead) -- Deprecated since version 1.1.0.\n",
      "  with _logger.task(\"MAGIC\"):\n",
      "/home/inoue019/.local/lib/python3.10/site-packages/magic/magic.py:381: DeprecationWarning: Call to deprecated method info. (Use TaskLogger.log_info instead) -- Deprecated since version 1.1.0.\n",
      "  _logger.info(\n",
      "/home/inoue019/.local/lib/python3.10/site-packages/magic/magic.py:436: DeprecationWarning: Call to deprecated method task. (Use TaskLogger.log_task instead) -- Deprecated since version 1.1.0.\n",
      "  with _logger.task(\"graph and diffusion operator\"):\n"
     ]
    },
    {
     "name": "stdout",
     "output_type": "stream",
     "text": [
      "    Calculating PCA...\n",
      "    Calculated PCA in 14.59 seconds.\n",
      "    Calculating KNN search...\n",
      "    Calculated KNN search in 11.54 seconds.\n",
      "    Calculating affinities...\n",
      "    Calculated affinities in 11.53 seconds.\n",
      "  Calculated graph and diffusion operator in 37.78 seconds.\n",
      "  Calculating imputation...\n"
     ]
    },
    {
     "name": "stderr",
     "output_type": "stream",
     "text": [
      "/home/inoue019/.local/lib/python3.10/site-packages/magic/magic.py:748: DeprecationWarning: Call to deprecated method task. (Use TaskLogger.log_task instead) -- Deprecated since version 1.1.0.\n",
      "  with _logger.task(\"imputation\"):\n"
     ]
    },
    {
     "name": "stdout",
     "output_type": "stream",
     "text": [
      "  Calculated imputation in 4.36 seconds.\n",
      "Calculated MAGIC in 42.25 seconds.\n",
      "8\n",
      "Calculating MAGIC...\n",
      "  Running MAGIC on 10000 cells and 5000 genes.\n",
      "  Calculating graph and diffusion operator...\n"
     ]
    },
    {
     "name": "stderr",
     "output_type": "stream",
     "text": [
      "/home/inoue019/.local/lib/python3.10/site-packages/magic/magic.py:650: DeprecationWarning: Call to deprecated method task. (Use TaskLogger.log_task instead) -- Deprecated since version 1.1.0.\n",
      "  with _logger.task(\"MAGIC\"):\n",
      "/home/inoue019/.local/lib/python3.10/site-packages/magic/magic.py:381: DeprecationWarning: Call to deprecated method info. (Use TaskLogger.log_info instead) -- Deprecated since version 1.1.0.\n",
      "  _logger.info(\n",
      "/home/inoue019/.local/lib/python3.10/site-packages/magic/magic.py:436: DeprecationWarning: Call to deprecated method task. (Use TaskLogger.log_task instead) -- Deprecated since version 1.1.0.\n",
      "  with _logger.task(\"graph and diffusion operator\"):\n"
     ]
    },
    {
     "name": "stdout",
     "output_type": "stream",
     "text": [
      "    Calculating PCA...\n",
      "    Calculated PCA in 8.53 seconds.\n",
      "    Calculating KNN search...\n",
      "    Calculated KNN search in 11.42 seconds.\n",
      "    Calculating affinities...\n",
      "    Calculated affinities in 11.31 seconds.\n",
      "  Calculated graph and diffusion operator in 31.38 seconds.\n",
      "  Calculating imputation...\n"
     ]
    },
    {
     "name": "stderr",
     "output_type": "stream",
     "text": [
      "/home/inoue019/.local/lib/python3.10/site-packages/magic/magic.py:748: DeprecationWarning: Call to deprecated method task. (Use TaskLogger.log_task instead) -- Deprecated since version 1.1.0.\n",
      "  with _logger.task(\"imputation\"):\n"
     ]
    },
    {
     "name": "stdout",
     "output_type": "stream",
     "text": [
      "  Calculated imputation in 4.43 seconds.\n",
      "Calculated MAGIC in 35.92 seconds.\n"
     ]
    }
   ],
   "source": [
    "mses = {}\n",
    "corrs = {}\n",
    "method = 'MAGIC'\n",
    "\n",
    "for i in (range(9)):\n",
    "    print(i)\n",
    "    df, mask, original = get_data_for_i(i+1)\n",
    "\n",
    "    magic_op = magic.MAGIC()\n",
    "    pred = magic_op.fit_transform(df)\n",
    "    \n",
    "    pred.to_csv('/export/scratch/inoue019/cell_result/{}_{}.csv.gz'.format(method, i), compression='gzip')\n",
    "\n",
    "    origin = np.array([original.loc[i] for i in mask])\n",
    "    predict = np.array([pred.loc[i] for i in mask])\n",
    "\n",
    "    mses[i] = mse(origin, predict)\n",
    "    corrs[i] = np.corrcoef(origin, predict)[0][1]"
   ]
  },
  {
   "cell_type": "code",
   "execution_count": 4,
   "id": "932e728a",
   "metadata": {},
   "outputs": [
    {
     "data": {
      "text/html": [
       "<div>\n",
       "<style scoped>\n",
       "    .dataframe tbody tr th:only-of-type {\n",
       "        vertical-align: middle;\n",
       "    }\n",
       "\n",
       "    .dataframe tbody tr th {\n",
       "        vertical-align: top;\n",
       "    }\n",
       "\n",
       "    .dataframe thead th {\n",
       "        text-align: right;\n",
       "    }\n",
       "</style>\n",
       "<table border=\"1\" class=\"dataframe\">\n",
       "  <thead>\n",
       "    <tr style=\"text-align: right;\">\n",
       "      <th></th>\n",
       "      <th>0</th>\n",
       "      <th>1</th>\n",
       "      <th>2</th>\n",
       "      <th>3</th>\n",
       "      <th>4</th>\n",
       "      <th>5</th>\n",
       "      <th>6</th>\n",
       "      <th>7</th>\n",
       "      <th>8</th>\n",
       "    </tr>\n",
       "  </thead>\n",
       "  <tbody>\n",
       "    <tr>\n",
       "      <th>0</th>\n",
       "      <td>0.26243</td>\n",
       "      <td>0.285282</td>\n",
       "      <td>0.31825</td>\n",
       "      <td>0.361933</td>\n",
       "      <td>0.415363</td>\n",
       "      <td>0.477457</td>\n",
       "      <td>0.54627</td>\n",
       "      <td>0.6166</td>\n",
       "      <td>0.682964</td>\n",
       "    </tr>\n",
       "  </tbody>\n",
       "</table>\n",
       "</div>"
      ],
      "text/plain": [
       "         0         1        2         3         4         5        6       7  \\\n",
       "0  0.26243  0.285282  0.31825  0.361933  0.415363  0.477457  0.54627  0.6166   \n",
       "\n",
       "          8  \n",
       "0  0.682964  "
      ]
     },
     "execution_count": 4,
     "metadata": {},
     "output_type": "execute_result"
    }
   ],
   "source": [
    "pd.DataFrame(mses.values()).T"
   ]
  },
  {
   "cell_type": "code",
   "execution_count": 5,
   "id": "4cd0d271",
   "metadata": {},
   "outputs": [
    {
     "data": {
      "text/html": [
       "<div>\n",
       "<style scoped>\n",
       "    .dataframe tbody tr th:only-of-type {\n",
       "        vertical-align: middle;\n",
       "    }\n",
       "\n",
       "    .dataframe tbody tr th {\n",
       "        vertical-align: top;\n",
       "    }\n",
       "\n",
       "    .dataframe thead th {\n",
       "        text-align: right;\n",
       "    }\n",
       "</style>\n",
       "<table border=\"1\" class=\"dataframe\">\n",
       "  <thead>\n",
       "    <tr style=\"text-align: right;\">\n",
       "      <th></th>\n",
       "      <th>0</th>\n",
       "      <th>1</th>\n",
       "      <th>2</th>\n",
       "      <th>3</th>\n",
       "      <th>4</th>\n",
       "      <th>5</th>\n",
       "      <th>6</th>\n",
       "      <th>7</th>\n",
       "      <th>8</th>\n",
       "    </tr>\n",
       "  </thead>\n",
       "  <tbody>\n",
       "    <tr>\n",
       "      <th>0</th>\n",
       "      <td>0.738772</td>\n",
       "      <td>0.734195</td>\n",
       "      <td>0.729087</td>\n",
       "      <td>0.722327</td>\n",
       "      <td>0.71296</td>\n",
       "      <td>0.699904</td>\n",
       "      <td>0.680683</td>\n",
       "      <td>0.653565</td>\n",
       "      <td>0.605474</td>\n",
       "    </tr>\n",
       "  </tbody>\n",
       "</table>\n",
       "</div>"
      ],
      "text/plain": [
       "          0         1         2         3        4         5         6  \\\n",
       "0  0.738772  0.734195  0.729087  0.722327  0.71296  0.699904  0.680683   \n",
       "\n",
       "          7         8  \n",
       "0  0.653565  0.605474  "
      ]
     },
     "execution_count": 5,
     "metadata": {},
     "output_type": "execute_result"
    }
   ],
   "source": [
    "pd.DataFrame(corrs.values()).T"
   ]
  },
  {
   "cell_type": "code",
   "execution_count": null,
   "id": "776d3584",
   "metadata": {},
   "outputs": [],
   "source": []
  },
  {
   "cell_type": "code",
   "execution_count": null,
   "id": "922910bf",
   "metadata": {},
   "outputs": [],
   "source": []
  }
 ],
 "metadata": {
  "kernelspec": {
   "display_name": "gpu1",
   "language": "python",
   "name": "gpu1"
  },
  "language_info": {
   "codemirror_mode": {
    "name": "ipython",
    "version": 3
   },
   "file_extension": ".py",
   "mimetype": "text/x-python",
   "name": "python",
   "nbconvert_exporter": "python",
   "pygments_lexer": "ipython3",
   "version": "3.10.11"
  }
 },
 "nbformat": 4,
 "nbformat_minor": 5
}
