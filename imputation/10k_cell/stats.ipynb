{
 "cells": [
  {
   "cell_type": "code",
   "execution_count": 1,
   "id": "ad600f3f",
   "metadata": {},
   "outputs": [],
   "source": [
    "import numpy as np\n",
    "import pandas as pd\n",
    "import sys,os \n",
    "import random"
   ]
  },
  {
   "cell_type": "code",
   "execution_count": 2,
   "id": "45cfaeb4",
   "metadata": {},
   "outputs": [],
   "source": [
    "def get_data_for_i(i):\n",
    "    original_ = pd.read_csv('../../data/cell_simulation_10000/data.csv.gz', index_col=0)\n",
    "    df_ = pd.read_csv('../../data/cell_simulation_10000/drp_{}0.csv.gz'.format(i), index_col=0)\n",
    "    df_.index = [int(i) for i in df_.index]\n",
    "    df_.columns = [int(i) for i in df_.columns]\n",
    "\n",
    "    original_.columns = df_.columns\n",
    "    original_.index = df_.index\n",
    "\n",
    "    n = original_.size\n",
    "    original_val = original_.values.copy()\n",
    "    t = list(np.ndindex(original_.shape))\n",
    "    random.Random(42).shuffle(t)\n",
    "\n",
    "    mask = t[:int(len(t)/10 * i)]\n",
    "\n",
    "    thr = np.sum(np.sign(df_)) > 0\n",
    "    original_ = original_.loc[:, list(thr)]\n",
    "    df_ = df_.loc[:, list(thr)]\n",
    "\n",
    "    # original = original_.values\n",
    "    original = np.log(original_+1)\n",
    "\n",
    "    # df = df_.values\n",
    "    df = np.log(df_+1)\n",
    "\n",
    "    tmp = pd.DataFrame(thr)\n",
    "    remove = [int(i) for i in tmp[tmp[0] == False].index]\n",
    "    mask = [i for i in mask if i[1] not in remove]\n",
    "    \n",
    "    return df, mask, original"
   ]
  },
  {
   "cell_type": "code",
   "execution_count": 3,
   "id": "a0f04d0e",
   "metadata": {},
   "outputs": [
    {
     "name": "stdout",
     "output_type": "stream",
     "text": [
      "0\n",
      "Mean:  0.3934\n",
      "Nonzero:  0.3363004\n",
      "\n",
      "\n",
      "1\n",
      "Mean:  0.3496\n",
      "Nonzero:  0.3363889\n",
      "\n",
      "\n",
      "2\n",
      "Mean:  0.306\n",
      "Nonzero:  0.3361932\n",
      "\n",
      "\n",
      "3\n",
      "Mean:  0.2622\n",
      "Nonzero:  0.3361828\n",
      "\n",
      "\n",
      "4\n",
      "Mean:  0.2186\n",
      "Nonzero:  0.33617384\n",
      "\n",
      "\n",
      "5\n",
      "Mean:  0.1749\n",
      "Nonzero:  0.3361261\n",
      "\n",
      "\n",
      "6\n",
      "Mean:  0.1311\n",
      "Nonzero:  0.336152\n",
      "\n",
      "\n",
      "7\n",
      "Mean:  0.0874\n",
      "Nonzero:  0.3361497\n",
      "\n",
      "\n",
      "8\n",
      "Mean:  0.0437\n",
      "Nonzero:  0.3361380888888889\n",
      "\n",
      "\n"
     ]
    }
   ],
   "source": [
    "for i in range(9):\n",
    "    df_, mask, original = get_data_for_i(i+1)\n",
    "    origin = np.array([original.loc[i] for i in mask])\n",
    "    print(i)\n",
    "    print('Mean: ', round(np.mean(df_.values), 4))\n",
    "    print('Nonzero: ', sum(origin != 0)/origin.size)\n",
    "    print('\\n')"
   ]
  },
  {
   "cell_type": "code",
   "execution_count": null,
   "id": "1d17f673",
   "metadata": {},
   "outputs": [],
   "source": []
  },
  {
   "cell_type": "code",
   "execution_count": null,
   "id": "b815539e",
   "metadata": {},
   "outputs": [],
   "source": []
  },
  {
   "cell_type": "code",
   "execution_count": null,
   "id": "6731d2cc",
   "metadata": {},
   "outputs": [],
   "source": []
  }
 ],
 "metadata": {
  "kernelspec": {
   "display_name": "gpu",
   "language": "python",
   "name": "gpu"
  },
  "language_info": {
   "codemirror_mode": {
    "name": "ipython",
    "version": 3
   },
   "file_extension": ".py",
   "mimetype": "text/x-python",
   "name": "python",
   "nbconvert_exporter": "python",
   "pygments_lexer": "ipython3",
   "version": "3.8.13"
  }
 },
 "nbformat": 4,
 "nbformat_minor": 5
}
