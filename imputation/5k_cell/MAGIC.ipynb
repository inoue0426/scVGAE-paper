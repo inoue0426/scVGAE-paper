{
 "cells": [
  {
   "cell_type": "code",
   "execution_count": 1,
   "id": "725311c3",
   "metadata": {},
   "outputs": [],
   "source": [
    "import warnings\n",
    "warnings.resetwarnings()\n",
    "\n",
    "import scprep\n",
    "import matplotlib.pyplot as plt\n",
    "\n",
    "import pandas as pd\n",
    "import numpy as np\n",
    "import random\n",
    "\n",
    "import os\n",
    "\n",
    "import magic\n",
    "\n",
    "from tqdm import tqdm\n",
    "from sklearn.metrics import mean_absolute_percentage_error as mape\n",
    "from sklearn.metrics import mean_squared_error as mse\n",
    "from sklearn.metrics import roc_auc_score"
   ]
  },
  {
   "cell_type": "code",
   "execution_count": 2,
   "id": "078973b6",
   "metadata": {
    "scrolled": true
   },
   "outputs": [],
   "source": [
    "def get_data_for_i(i):\n",
    "    original_ = pd.read_csv('../../data/mid_simulation/data.csv.gz', index_col=0)\n",
    "    df_ = pd.read_csv('../../data/mid_simulation/drp_{}0.csv.gz'.format(i), index_col=0)\n",
    "    df_.index = [int(i) for i in df_.index]\n",
    "    df_.columns = [int(i) for i in df_.columns]\n",
    "\n",
    "    original_.columns = df_.columns\n",
    "    original_.index = df_.index\n",
    "\n",
    "    n = original_.size\n",
    "    original_val = original_.values.copy()\n",
    "    t = list(np.ndindex(original_.shape))\n",
    "    random.Random(42).shuffle(t)\n",
    "\n",
    "    mask = t[:int(len(t)/10 * i)]\n",
    "\n",
    "    thr = np.sum(np.sign(df_)) > 0\n",
    "    original_ = original_.loc[:, list(thr)]\n",
    "    df_ = df_.loc[:, list(thr)]\n",
    "\n",
    "    # original = original_.values\n",
    "    original = np.log(original_+1)\n",
    "\n",
    "    # df = df_.values\n",
    "    df = np.log(df_+1)\n",
    "\n",
    "    tmp = pd.DataFrame(thr)\n",
    "    remove = [int(i) for i in tmp[tmp[0] == False].index]\n",
    "    mask = [i for i in mask if i[1] not in remove]\n",
    "    \n",
    "    return df, mask, original"
   ]
  },
  {
   "cell_type": "code",
   "execution_count": 3,
   "id": "a0d0818f",
   "metadata": {
    "scrolled": true
   },
   "outputs": [
    {
     "name": "stdout",
     "output_type": "stream",
     "text": [
      "0\n",
      "Calculating MAGIC...\n",
      "  Running MAGIC on 5000 cells and 5000 genes.\n",
      "  Calculating graph and diffusion operator...\n",
      "    Calculating PCA...\n"
     ]
    },
    {
     "name": "stderr",
     "output_type": "stream",
     "text": [
      "/home/inoue019/.local/lib/python3.10/site-packages/magic/magic.py:650: DeprecationWarning: Call to deprecated method task. (Use TaskLogger.log_task instead) -- Deprecated since version 1.1.0.\n",
      "  with _logger.task(\"MAGIC\"):\n",
      "/home/inoue019/.local/lib/python3.10/site-packages/magic/magic.py:381: DeprecationWarning: Call to deprecated method info. (Use TaskLogger.log_info instead) -- Deprecated since version 1.1.0.\n",
      "  _logger.info(\n",
      "/home/inoue019/.local/lib/python3.10/site-packages/magic/magic.py:436: DeprecationWarning: Call to deprecated method task. (Use TaskLogger.log_task instead) -- Deprecated since version 1.1.0.\n",
      "  with _logger.task(\"graph and diffusion operator\"):\n"
     ]
    },
    {
     "name": "stdout",
     "output_type": "stream",
     "text": [
      "    Calculated PCA in 4.14 seconds.\n",
      "    Calculating KNN search...\n",
      "    Calculated KNN search in 2.49 seconds.\n",
      "    Calculating affinities...\n",
      "    Calculated affinities in 2.42 seconds.\n",
      "  Calculated graph and diffusion operator in 9.12 seconds.\n",
      "  Calculating imputation...\n"
     ]
    },
    {
     "name": "stderr",
     "output_type": "stream",
     "text": [
      "/home/inoue019/.local/lib/python3.10/site-packages/magic/magic.py:748: DeprecationWarning: Call to deprecated method task. (Use TaskLogger.log_task instead) -- Deprecated since version 1.1.0.\n",
      "  with _logger.task(\"imputation\"):\n"
     ]
    },
    {
     "name": "stdout",
     "output_type": "stream",
     "text": [
      "  Calculated imputation in 1.80 seconds.\n",
      "Calculated MAGIC in 10.97 seconds.\n",
      "1\n",
      "Calculating MAGIC...\n",
      "  Running MAGIC on 5000 cells and 5000 genes.\n",
      "  Calculating graph and diffusion operator...\n",
      "    Calculating PCA...\n"
     ]
    },
    {
     "name": "stderr",
     "output_type": "stream",
     "text": [
      "/home/inoue019/.local/lib/python3.10/site-packages/magic/magic.py:650: DeprecationWarning: Call to deprecated method task. (Use TaskLogger.log_task instead) -- Deprecated since version 1.1.0.\n",
      "  with _logger.task(\"MAGIC\"):\n",
      "/home/inoue019/.local/lib/python3.10/site-packages/magic/magic.py:381: DeprecationWarning: Call to deprecated method info. (Use TaskLogger.log_info instead) -- Deprecated since version 1.1.0.\n",
      "  _logger.info(\n",
      "/home/inoue019/.local/lib/python3.10/site-packages/magic/magic.py:436: DeprecationWarning: Call to deprecated method task. (Use TaskLogger.log_task instead) -- Deprecated since version 1.1.0.\n",
      "  with _logger.task(\"graph and diffusion operator\"):\n"
     ]
    },
    {
     "name": "stdout",
     "output_type": "stream",
     "text": [
      "    Calculated PCA in 3.01 seconds.\n",
      "    Calculating KNN search...\n",
      "    Calculated KNN search in 2.71 seconds.\n",
      "    Calculating affinities...\n",
      "    Calculated affinities in 2.63 seconds.\n",
      "  Calculated graph and diffusion operator in 8.42 seconds.\n",
      "  Calculating imputation...\n"
     ]
    },
    {
     "name": "stderr",
     "output_type": "stream",
     "text": [
      "/home/inoue019/.local/lib/python3.10/site-packages/magic/magic.py:748: DeprecationWarning: Call to deprecated method task. (Use TaskLogger.log_task instead) -- Deprecated since version 1.1.0.\n",
      "  with _logger.task(\"imputation\"):\n"
     ]
    },
    {
     "name": "stdout",
     "output_type": "stream",
     "text": [
      "  Calculated imputation in 1.79 seconds.\n",
      "Calculated MAGIC in 10.26 seconds.\n",
      "2\n",
      "Calculating MAGIC...\n",
      "  Running MAGIC on 5000 cells and 5000 genes.\n",
      "  Calculating graph and diffusion operator...\n",
      "    Calculating PCA...\n"
     ]
    },
    {
     "name": "stderr",
     "output_type": "stream",
     "text": [
      "/home/inoue019/.local/lib/python3.10/site-packages/magic/magic.py:650: DeprecationWarning: Call to deprecated method task. (Use TaskLogger.log_task instead) -- Deprecated since version 1.1.0.\n",
      "  with _logger.task(\"MAGIC\"):\n",
      "/home/inoue019/.local/lib/python3.10/site-packages/magic/magic.py:381: DeprecationWarning: Call to deprecated method info. (Use TaskLogger.log_info instead) -- Deprecated since version 1.1.0.\n",
      "  _logger.info(\n",
      "/home/inoue019/.local/lib/python3.10/site-packages/magic/magic.py:436: DeprecationWarning: Call to deprecated method task. (Use TaskLogger.log_task instead) -- Deprecated since version 1.1.0.\n",
      "  with _logger.task(\"graph and diffusion operator\"):\n"
     ]
    },
    {
     "name": "stdout",
     "output_type": "stream",
     "text": [
      "    Calculated PCA in 10.06 seconds.\n",
      "    Calculating KNN search...\n",
      "    Calculated KNN search in 6.09 seconds.\n",
      "    Calculating affinities...\n",
      "    Calculated affinities in 5.91 seconds.\n",
      "  Calculated graph and diffusion operator in 22.13 seconds.\n",
      "  Calculating imputation...\n"
     ]
    },
    {
     "name": "stderr",
     "output_type": "stream",
     "text": [
      "/home/inoue019/.local/lib/python3.10/site-packages/magic/magic.py:748: DeprecationWarning: Call to deprecated method task. (Use TaskLogger.log_task instead) -- Deprecated since version 1.1.0.\n",
      "  with _logger.task(\"imputation\"):\n"
     ]
    },
    {
     "name": "stdout",
     "output_type": "stream",
     "text": [
      "  Calculated imputation in 3.16 seconds.\n",
      "Calculated MAGIC in 25.35 seconds.\n",
      "3\n",
      "Calculating MAGIC...\n",
      "  Running MAGIC on 5000 cells and 5000 genes.\n",
      "  Calculating graph and diffusion operator...\n",
      "    Calculating PCA...\n"
     ]
    },
    {
     "name": "stderr",
     "output_type": "stream",
     "text": [
      "/home/inoue019/.local/lib/python3.10/site-packages/magic/magic.py:650: DeprecationWarning: Call to deprecated method task. (Use TaskLogger.log_task instead) -- Deprecated since version 1.1.0.\n",
      "  with _logger.task(\"MAGIC\"):\n",
      "/home/inoue019/.local/lib/python3.10/site-packages/magic/magic.py:381: DeprecationWarning: Call to deprecated method info. (Use TaskLogger.log_info instead) -- Deprecated since version 1.1.0.\n",
      "  _logger.info(\n",
      "/home/inoue019/.local/lib/python3.10/site-packages/magic/magic.py:436: DeprecationWarning: Call to deprecated method task. (Use TaskLogger.log_task instead) -- Deprecated since version 1.1.0.\n",
      "  with _logger.task(\"graph and diffusion operator\"):\n"
     ]
    },
    {
     "name": "stdout",
     "output_type": "stream",
     "text": [
      "    Calculated PCA in 12.73 seconds.\n",
      "    Calculating KNN search...\n",
      "    Calculated KNN search in 2.94 seconds.\n",
      "    Calculating affinities...\n",
      "    Calculated affinities in 2.83 seconds.\n",
      "  Calculated graph and diffusion operator in 18.56 seconds.\n",
      "  Calculating imputation...\n"
     ]
    },
    {
     "name": "stderr",
     "output_type": "stream",
     "text": [
      "/home/inoue019/.local/lib/python3.10/site-packages/magic/magic.py:748: DeprecationWarning: Call to deprecated method task. (Use TaskLogger.log_task instead) -- Deprecated since version 1.1.0.\n",
      "  with _logger.task(\"imputation\"):\n"
     ]
    },
    {
     "name": "stdout",
     "output_type": "stream",
     "text": [
      "  Calculated imputation in 1.98 seconds.\n",
      "Calculated MAGIC in 20.60 seconds.\n",
      "4\n",
      "Calculating MAGIC...\n",
      "  Running MAGIC on 5000 cells and 5000 genes.\n",
      "  Calculating graph and diffusion operator...\n",
      "    Calculating PCA...\n"
     ]
    },
    {
     "name": "stderr",
     "output_type": "stream",
     "text": [
      "/home/inoue019/.local/lib/python3.10/site-packages/magic/magic.py:650: DeprecationWarning: Call to deprecated method task. (Use TaskLogger.log_task instead) -- Deprecated since version 1.1.0.\n",
      "  with _logger.task(\"MAGIC\"):\n",
      "/home/inoue019/.local/lib/python3.10/site-packages/magic/magic.py:381: DeprecationWarning: Call to deprecated method info. (Use TaskLogger.log_info instead) -- Deprecated since version 1.1.0.\n",
      "  _logger.info(\n",
      "/home/inoue019/.local/lib/python3.10/site-packages/magic/magic.py:436: DeprecationWarning: Call to deprecated method task. (Use TaskLogger.log_task instead) -- Deprecated since version 1.1.0.\n",
      "  with _logger.task(\"graph and diffusion operator\"):\n"
     ]
    },
    {
     "name": "stdout",
     "output_type": "stream",
     "text": [
      "    Calculated PCA in 13.10 seconds.\n",
      "    Calculating KNN search...\n",
      "    Calculated KNN search in 3.18 seconds.\n",
      "    Calculating affinities...\n",
      "    Calculated affinities in 3.10 seconds.\n",
      "  Calculated graph and diffusion operator in 19.44 seconds.\n",
      "  Calculating imputation...\n"
     ]
    },
    {
     "name": "stderr",
     "output_type": "stream",
     "text": [
      "/home/inoue019/.local/lib/python3.10/site-packages/magic/magic.py:748: DeprecationWarning: Call to deprecated method task. (Use TaskLogger.log_task instead) -- Deprecated since version 1.1.0.\n",
      "  with _logger.task(\"imputation\"):\n"
     ]
    },
    {
     "name": "stdout",
     "output_type": "stream",
     "text": [
      "  Calculated imputation in 2.16 seconds.\n",
      "Calculated MAGIC in 21.66 seconds.\n",
      "5\n",
      "Calculating MAGIC...\n",
      "  Running MAGIC on 5000 cells and 5000 genes.\n",
      "  Calculating graph and diffusion operator...\n",
      "    Calculating PCA...\n"
     ]
    },
    {
     "name": "stderr",
     "output_type": "stream",
     "text": [
      "/home/inoue019/.local/lib/python3.10/site-packages/magic/magic.py:650: DeprecationWarning: Call to deprecated method task. (Use TaskLogger.log_task instead) -- Deprecated since version 1.1.0.\n",
      "  with _logger.task(\"MAGIC\"):\n",
      "/home/inoue019/.local/lib/python3.10/site-packages/magic/magic.py:381: DeprecationWarning: Call to deprecated method info. (Use TaskLogger.log_info instead) -- Deprecated since version 1.1.0.\n",
      "  _logger.info(\n",
      "/home/inoue019/.local/lib/python3.10/site-packages/magic/magic.py:436: DeprecationWarning: Call to deprecated method task. (Use TaskLogger.log_task instead) -- Deprecated since version 1.1.0.\n",
      "  with _logger.task(\"graph and diffusion operator\"):\n"
     ]
    },
    {
     "name": "stdout",
     "output_type": "stream",
     "text": [
      "    Calculated PCA in 13.29 seconds.\n",
      "    Calculating KNN search...\n",
      "    Calculated KNN search in 3.00 seconds.\n",
      "    Calculating affinities...\n",
      "    Calculated affinities in 2.84 seconds.\n",
      "  Calculated graph and diffusion operator in 19.20 seconds.\n",
      "  Calculating imputation...\n"
     ]
    },
    {
     "name": "stderr",
     "output_type": "stream",
     "text": [
      "/home/inoue019/.local/lib/python3.10/site-packages/magic/magic.py:748: DeprecationWarning: Call to deprecated method task. (Use TaskLogger.log_task instead) -- Deprecated since version 1.1.0.\n",
      "  with _logger.task(\"imputation\"):\n"
     ]
    },
    {
     "name": "stdout",
     "output_type": "stream",
     "text": [
      "  Calculated imputation in 2.04 seconds.\n",
      "Calculated MAGIC in 21.29 seconds.\n",
      "6\n",
      "Calculating MAGIC...\n",
      "  Running MAGIC on 5000 cells and 5000 genes.\n",
      "  Calculating graph and diffusion operator...\n",
      "    Calculating PCA...\n"
     ]
    },
    {
     "name": "stderr",
     "output_type": "stream",
     "text": [
      "/home/inoue019/.local/lib/python3.10/site-packages/magic/magic.py:650: DeprecationWarning: Call to deprecated method task. (Use TaskLogger.log_task instead) -- Deprecated since version 1.1.0.\n",
      "  with _logger.task(\"MAGIC\"):\n",
      "/home/inoue019/.local/lib/python3.10/site-packages/magic/magic.py:381: DeprecationWarning: Call to deprecated method info. (Use TaskLogger.log_info instead) -- Deprecated since version 1.1.0.\n",
      "  _logger.info(\n",
      "/home/inoue019/.local/lib/python3.10/site-packages/magic/magic.py:436: DeprecationWarning: Call to deprecated method task. (Use TaskLogger.log_task instead) -- Deprecated since version 1.1.0.\n",
      "  with _logger.task(\"graph and diffusion operator\"):\n"
     ]
    },
    {
     "name": "stdout",
     "output_type": "stream",
     "text": [
      "    Calculated PCA in 12.61 seconds.\n",
      "    Calculating KNN search...\n",
      "    Calculated KNN search in 2.92 seconds.\n",
      "    Calculating affinities...\n",
      "    Calculated affinities in 2.84 seconds.\n",
      "  Calculated graph and diffusion operator in 18.44 seconds.\n",
      "  Calculating imputation...\n"
     ]
    },
    {
     "name": "stderr",
     "output_type": "stream",
     "text": [
      "/home/inoue019/.local/lib/python3.10/site-packages/magic/magic.py:748: DeprecationWarning: Call to deprecated method task. (Use TaskLogger.log_task instead) -- Deprecated since version 1.1.0.\n",
      "  with _logger.task(\"imputation\"):\n"
     ]
    },
    {
     "name": "stdout",
     "output_type": "stream",
     "text": [
      "  Calculated imputation in 2.11 seconds.\n",
      "Calculated MAGIC in 20.59 seconds.\n",
      "7\n",
      "Calculating MAGIC...\n",
      "  Running MAGIC on 5000 cells and 4999 genes.\n",
      "  Calculating graph and diffusion operator...\n",
      "    Calculating PCA...\n"
     ]
    },
    {
     "name": "stderr",
     "output_type": "stream",
     "text": [
      "/home/inoue019/.local/lib/python3.10/site-packages/magic/magic.py:650: DeprecationWarning: Call to deprecated method task. (Use TaskLogger.log_task instead) -- Deprecated since version 1.1.0.\n",
      "  with _logger.task(\"MAGIC\"):\n",
      "/home/inoue019/.local/lib/python3.10/site-packages/magic/magic.py:381: DeprecationWarning: Call to deprecated method info. (Use TaskLogger.log_info instead) -- Deprecated since version 1.1.0.\n",
      "  _logger.info(\n",
      "/home/inoue019/.local/lib/python3.10/site-packages/magic/magic.py:436: DeprecationWarning: Call to deprecated method task. (Use TaskLogger.log_task instead) -- Deprecated since version 1.1.0.\n",
      "  with _logger.task(\"graph and diffusion operator\"):\n"
     ]
    },
    {
     "name": "stdout",
     "output_type": "stream",
     "text": [
      "    Calculated PCA in 12.80 seconds.\n",
      "    Calculating KNN search...\n",
      "    Calculated KNN search in 2.94 seconds.\n",
      "    Calculating affinities...\n",
      "    Calculated affinities in 2.87 seconds.\n",
      "  Calculated graph and diffusion operator in 18.66 seconds.\n",
      "  Calculating imputation...\n"
     ]
    },
    {
     "name": "stderr",
     "output_type": "stream",
     "text": [
      "/home/inoue019/.local/lib/python3.10/site-packages/magic/magic.py:748: DeprecationWarning: Call to deprecated method task. (Use TaskLogger.log_task instead) -- Deprecated since version 1.1.0.\n",
      "  with _logger.task(\"imputation\"):\n"
     ]
    },
    {
     "name": "stdout",
     "output_type": "stream",
     "text": [
      "  Calculated imputation in 2.20 seconds.\n",
      "Calculated MAGIC in 20.92 seconds.\n",
      "8\n",
      "Calculating MAGIC...\n",
      "  Running MAGIC on 5000 cells and 4999 genes.\n",
      "  Calculating graph and diffusion operator...\n",
      "    Calculating PCA...\n"
     ]
    },
    {
     "name": "stderr",
     "output_type": "stream",
     "text": [
      "/home/inoue019/.local/lib/python3.10/site-packages/magic/magic.py:650: DeprecationWarning: Call to deprecated method task. (Use TaskLogger.log_task instead) -- Deprecated since version 1.1.0.\n",
      "  with _logger.task(\"MAGIC\"):\n",
      "/home/inoue019/.local/lib/python3.10/site-packages/magic/magic.py:381: DeprecationWarning: Call to deprecated method info. (Use TaskLogger.log_info instead) -- Deprecated since version 1.1.0.\n",
      "  _logger.info(\n",
      "/home/inoue019/.local/lib/python3.10/site-packages/magic/magic.py:436: DeprecationWarning: Call to deprecated method task. (Use TaskLogger.log_task instead) -- Deprecated since version 1.1.0.\n",
      "  with _logger.task(\"graph and diffusion operator\"):\n"
     ]
    },
    {
     "name": "stdout",
     "output_type": "stream",
     "text": [
      "    Calculated PCA in 13.08 seconds.\n",
      "    Calculating KNN search...\n",
      "    Calculated KNN search in 3.03 seconds.\n",
      "    Calculating affinities...\n",
      "    Calculated affinities in 2.88 seconds.\n",
      "  Calculated graph and diffusion operator in 19.06 seconds.\n",
      "  Calculating imputation...\n"
     ]
    },
    {
     "name": "stderr",
     "output_type": "stream",
     "text": [
      "/home/inoue019/.local/lib/python3.10/site-packages/magic/magic.py:748: DeprecationWarning: Call to deprecated method task. (Use TaskLogger.log_task instead) -- Deprecated since version 1.1.0.\n",
      "  with _logger.task(\"imputation\"):\n"
     ]
    },
    {
     "name": "stdout",
     "output_type": "stream",
     "text": [
      "  Calculated imputation in 2.20 seconds.\n",
      "Calculated MAGIC in 21.31 seconds.\n"
     ]
    }
   ],
   "source": [
    "mses = {}\n",
    "corrs = {}\n",
    "mses_ = {}\n",
    "corrs_ = {}\n",
    "mses__ = {}\n",
    "corrs__ = {}\n",
    "aucs = {}\n",
    "method = 'MAGIC'\n",
    "\n",
    "for i in (range(9)):\n",
    "    print(i)\n",
    "    df, mask, original = get_data_for_i(i+1)\n",
    "\n",
    "    magic_op = magic.MAGIC()\n",
    "    pred = magic_op.fit_transform(df)\n",
    "    \n",
    "#     pred.to_csv('/export/scratch/inoue019/real_result/{}_{}.csv.gz'.format(method, i), compression='gzip')\n",
    "\n",
    "    origin = np.array([original.loc[i] for i in mask])\n",
    "    predict = np.array([pred.loc[i] for i in mask])\n",
    "\n",
    "    mses[i] = mse(origin, predict)\n",
    "    corrs[i] = np.corrcoef(origin, predict)[0][1]\n",
    "    mses_[i] = mse(origin[origin != 0], predict[origin != 0])\n",
    "    corrs_[i] = np.corrcoef(origin[origin != 0], predict[origin != 0])[0][1]\n",
    "    mses__[i] = mse(origin[origin == 0], predict[origin == 0])\n",
    "    \n",
    "    df =  pd.DataFrame(np.array(predict))\n",
    "    df['rank'] = df.rank()\n",
    "    df['label'] = np.sign(origin)\n",
    "    aucs[i] = roc_auc_score(df['label'], df['rank'])"
   ]
  },
  {
   "cell_type": "code",
   "execution_count": 4,
   "id": "932e728a",
   "metadata": {
    "scrolled": true
   },
   "outputs": [
    {
     "data": {
      "text/html": [
       "<div>\n",
       "<style scoped>\n",
       "    .dataframe tbody tr th:only-of-type {\n",
       "        vertical-align: middle;\n",
       "    }\n",
       "\n",
       "    .dataframe tbody tr th {\n",
       "        vertical-align: top;\n",
       "    }\n",
       "\n",
       "    .dataframe thead th {\n",
       "        text-align: right;\n",
       "    }\n",
       "</style>\n",
       "<table border=\"1\" class=\"dataframe\">\n",
       "  <thead>\n",
       "    <tr style=\"text-align: right;\">\n",
       "      <th></th>\n",
       "      <th>0</th>\n",
       "      <th>1</th>\n",
       "      <th>2</th>\n",
       "      <th>3</th>\n",
       "      <th>4</th>\n",
       "      <th>5</th>\n",
       "      <th>6</th>\n",
       "      <th>7</th>\n",
       "      <th>8</th>\n",
       "    </tr>\n",
       "  </thead>\n",
       "  <tbody>\n",
       "    <tr>\n",
       "      <th>mse</th>\n",
       "      <td>0.266675</td>\n",
       "      <td>0.288957</td>\n",
       "      <td>0.322608</td>\n",
       "      <td>0.367084</td>\n",
       "      <td>0.422049</td>\n",
       "      <td>0.485725</td>\n",
       "      <td>0.554915</td>\n",
       "      <td>0.625187</td>\n",
       "      <td>0.691499</td>\n",
       "    </tr>\n",
       "    <tr>\n",
       "      <th>mse (nonzero)</th>\n",
       "      <td>0.630547</td>\n",
       "      <td>0.729614</td>\n",
       "      <td>0.858689</td>\n",
       "      <td>1.015775</td>\n",
       "      <td>1.200750</td>\n",
       "      <td>1.407552</td>\n",
       "      <td>1.626527</td>\n",
       "      <td>1.844254</td>\n",
       "      <td>2.046503</td>\n",
       "    </tr>\n",
       "    <tr>\n",
       "      <th>mse (zero)</th>\n",
       "      <td>0.080925</td>\n",
       "      <td>0.064239</td>\n",
       "      <td>0.049487</td>\n",
       "      <td>0.036652</td>\n",
       "      <td>0.025628</td>\n",
       "      <td>0.016355</td>\n",
       "      <td>0.009092</td>\n",
       "      <td>0.003997</td>\n",
       "      <td>0.001049</td>\n",
       "    </tr>\n",
       "    <tr>\n",
       "      <th>corr</th>\n",
       "      <td>0.735746</td>\n",
       "      <td>0.732378</td>\n",
       "      <td>0.727572</td>\n",
       "      <td>0.720135</td>\n",
       "      <td>0.710173</td>\n",
       "      <td>0.695623</td>\n",
       "      <td>0.674336</td>\n",
       "      <td>0.647423</td>\n",
       "      <td>0.602012</td>\n",
       "    </tr>\n",
       "    <tr>\n",
       "      <th>corrs (nonzero)</th>\n",
       "      <td>0.735684</td>\n",
       "      <td>0.732079</td>\n",
       "      <td>0.726629</td>\n",
       "      <td>0.718307</td>\n",
       "      <td>0.706569</td>\n",
       "      <td>0.689648</td>\n",
       "      <td>0.665879</td>\n",
       "      <td>0.635217</td>\n",
       "      <td>0.583299</td>\n",
       "    </tr>\n",
       "    <tr>\n",
       "      <th>auc</th>\n",
       "      <td>0.800226</td>\n",
       "      <td>0.798137</td>\n",
       "      <td>0.794855</td>\n",
       "      <td>0.789829</td>\n",
       "      <td>0.783941</td>\n",
       "      <td>0.776869</td>\n",
       "      <td>0.767084</td>\n",
       "      <td>0.754210</td>\n",
       "      <td>0.732472</td>\n",
       "    </tr>\n",
       "  </tbody>\n",
       "</table>\n",
       "</div>"
      ],
      "text/plain": [
       "                        0         1         2         3         4         5  \\\n",
       "mse              0.266675  0.288957  0.322608  0.367084  0.422049  0.485725   \n",
       "mse (nonzero)    0.630547  0.729614  0.858689  1.015775  1.200750  1.407552   \n",
       "mse (zero)       0.080925  0.064239  0.049487  0.036652  0.025628  0.016355   \n",
       "corr             0.735746  0.732378  0.727572  0.720135  0.710173  0.695623   \n",
       "corrs (nonzero)  0.735684  0.732079  0.726629  0.718307  0.706569  0.689648   \n",
       "auc              0.800226  0.798137  0.794855  0.789829  0.783941  0.776869   \n",
       "\n",
       "                        6         7         8  \n",
       "mse              0.554915  0.625187  0.691499  \n",
       "mse (nonzero)    1.626527  1.844254  2.046503  \n",
       "mse (zero)       0.009092  0.003997  0.001049  \n",
       "corr             0.674336  0.647423  0.602012  \n",
       "corrs (nonzero)  0.665879  0.635217  0.583299  \n",
       "auc              0.767084  0.754210  0.732472  "
      ]
     },
     "execution_count": 4,
     "metadata": {},
     "output_type": "execute_result"
    }
   ],
   "source": [
    "pd.DataFrame([\n",
    "    mses.values(),\n",
    "    mses_.values(),\n",
    "    mses__.values(),\n",
    "    corrs.values(),\n",
    "    corrs_.values(),\n",
    "    aucs.values()\n",
    "], index=['mse', 'mse (nonzero)', 'mse (zero)', 'corr', 'corrs (nonzero)', 'auc'])"
   ]
  },
  {
   "cell_type": "code",
   "execution_count": null,
   "id": "776d3584",
   "metadata": {},
   "outputs": [],
   "source": []
  },
  {
   "cell_type": "code",
   "execution_count": null,
   "id": "922910bf",
   "metadata": {},
   "outputs": [],
   "source": []
  }
 ],
 "metadata": {
  "kernelspec": {
   "display_name": "gpu1",
   "language": "python",
   "name": "gpu1"
  },
  "language_info": {
   "codemirror_mode": {
    "name": "ipython",
    "version": 3
   },
   "file_extension": ".py",
   "mimetype": "text/x-python",
   "name": "python",
   "nbconvert_exporter": "python",
   "pygments_lexer": "ipython3",
   "version": "3.10.11"
  }
 },
 "nbformat": 4,
 "nbformat_minor": 5
}
