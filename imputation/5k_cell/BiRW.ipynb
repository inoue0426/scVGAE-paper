{
 "cells": [
  {
   "cell_type": "code",
   "execution_count": 1,
   "id": "ad600f3f",
   "metadata": {},
   "outputs": [],
   "source": [
    "import numpy as np\n",
    "import pandas as pd\n",
    "import sys,os \n",
    "import random\n",
    "\n",
    "os.environ['XLA_PYTHON_CLIENT_PREALLOCATE'] = 'false'\n",
    "os.environ['CUDA_VISIBLE_DEVICES'] = '1'\n",
    "\n",
    "from sklearn.metrics import mean_absolute_percentage_error as mape\n",
    "from sklearn.metrics import mean_squared_error as mse\n",
    "from sklearn.metrics import roc_auc_score\n",
    "\n",
    "sys.path.insert(0, os.path.join(os.path.abspath(''), '../../', 'magic'))\n",
    "\n",
    "from tqdm import tqdm\n",
    "from run_magic import run_magic_birw"
   ]
  },
  {
   "cell_type": "code",
   "execution_count": 2,
   "id": "45cfaeb4",
   "metadata": {},
   "outputs": [],
   "source": [
    "def get_data_for_i(i):\n",
    "    original_ = pd.read_csv('../../data/mid_simulation/data.csv.gz', index_col=0)\n",
    "    df_ = pd.read_csv('../../data/mid_simulation/drp_{}0.csv.gz'.format(i), index_col=0)\n",
    "    df_.index = [int(i) for i in df_.index]\n",
    "    df_.columns = [int(i) for i in df_.columns]\n",
    "\n",
    "    original_.columns = df_.columns\n",
    "    original_.index = df_.index\n",
    "\n",
    "    n = original_.size\n",
    "    original_val = original_.values.copy()\n",
    "    t = list(np.ndindex(original_.shape))\n",
    "    random.Random(42).shuffle(t)\n",
    "\n",
    "    mask = t[:int(len(t)/10 * i)]\n",
    "\n",
    "    thr = np.sum(np.sign(df_)) > 0\n",
    "    original_ = original_.loc[:, list(thr)]\n",
    "    df_ = df_.loc[:, list(thr)]\n",
    "\n",
    "    # original = original_.values\n",
    "    original = np.log(original_+1)\n",
    "\n",
    "    # df = df_.values\n",
    "    df = np.log(df_+1)\n",
    "\n",
    "    tmp = pd.DataFrame(thr)\n",
    "    remove = [int(i) for i in tmp[tmp[0] == False].index]\n",
    "    mask = [i for i in mask if i[1] not in remove]\n",
    "    \n",
    "    return df, mask, original"
   ]
  },
  {
   "cell_type": "code",
   "execution_count": null,
   "id": "a5595ab4",
   "metadata": {},
   "outputs": [],
   "source": []
  },
  {
   "cell_type": "code",
   "execution_count": 3,
   "id": "25f80ac4",
   "metadata": {},
   "outputs": [],
   "source": [
    "kuang_params = {  \n",
    "    'is_preprocess': False,\n",
    "    'is_pca': False,\n",
    "    'Iter': 100, \n",
    "    'alpha': 0.1,\n",
    "    'kernel': 'jp',\n",
    "#     'method': 'cartesian',\n",
    "}"
   ]
  },
  {
   "cell_type": "code",
   "execution_count": 4,
   "id": "03259bed",
   "metadata": {
    "scrolled": true
   },
   "outputs": [
    {
     "name": "stdout",
     "output_type": "stream",
     "text": [
      "0\n",
      "Running ...\n",
      "     Time to compute cell-cell affinity matrix:  6.0065696239471436\n",
      "     Time to compute gene-gene affinity matrix:  6.175086498260498\n",
      "Method: Tensor product\n"
     ]
    },
    {
     "name": "stderr",
     "output_type": "stream",
     "text": [
      "100%|██████████| 100/100 [00:05<00:00, 18.75it/s]\n"
     ]
    },
    {
     "name": "stdout",
     "output_type": "stream",
     "text": [
      "     Time to perform bi-random walk:  8.028366327285767\n",
      "Finish running, Time:  20.434778928756714\n",
      "1\n",
      "Running ...\n",
      "     Time to compute cell-cell affinity matrix:  9.078516483306885\n",
      "     Time to compute gene-gene affinity matrix:  8.725187540054321\n",
      "Method: Tensor product\n"
     ]
    },
    {
     "name": "stderr",
     "output_type": "stream",
     "text": [
      "100%|██████████| 100/100 [00:04<00:00, 21.81it/s]\n"
     ]
    },
    {
     "name": "stdout",
     "output_type": "stream",
     "text": [
      "     Time to perform bi-random walk:  4.715755224227905\n",
      "Finish running, Time:  22.77175521850586\n",
      "2\n",
      "Running ...\n",
      "     Time to compute cell-cell affinity matrix:  5.943708419799805\n",
      "     Time to compute gene-gene affinity matrix:  6.38700532913208\n",
      "Method: Tensor product\n"
     ]
    },
    {
     "name": "stderr",
     "output_type": "stream",
     "text": [
      "100%|██████████| 100/100 [00:04<00:00, 21.68it/s]\n"
     ]
    },
    {
     "name": "stdout",
     "output_type": "stream",
     "text": [
      "     Time to perform bi-random walk:  4.7259745597839355\n",
      "Finish running, Time:  17.295109272003174\n",
      "3\n",
      "Running ...\n",
      "     Time to compute cell-cell affinity matrix:  5.905175685882568\n",
      "     Time to compute gene-gene affinity matrix:  6.274543285369873\n",
      "Method: Tensor product\n"
     ]
    },
    {
     "name": "stderr",
     "output_type": "stream",
     "text": [
      "100%|██████████| 100/100 [00:04<00:00, 21.87it/s]\n"
     ]
    },
    {
     "name": "stdout",
     "output_type": "stream",
     "text": [
      "     Time to perform bi-random walk:  4.686960220336914\n",
      "Finish running, Time:  17.096076011657715\n",
      "4\n",
      "Running ...\n",
      "     Time to compute cell-cell affinity matrix:  6.039364814758301\n",
      "     Time to compute gene-gene affinity matrix:  6.083848714828491\n",
      "Method: Tensor product\n"
     ]
    },
    {
     "name": "stderr",
     "output_type": "stream",
     "text": [
      "100%|██████████| 100/100 [00:04<00:00, 21.90it/s]\n"
     ]
    },
    {
     "name": "stdout",
     "output_type": "stream",
     "text": [
      "     Time to perform bi-random walk:  4.69262957572937\n",
      "Finish running, Time:  17.040567636489868\n",
      "5\n",
      "Running ...\n",
      "     Time to compute cell-cell affinity matrix:  5.764601469039917\n",
      "     Time to compute gene-gene affinity matrix:  6.0293378829956055\n",
      "Method: Tensor product\n"
     ]
    },
    {
     "name": "stderr",
     "output_type": "stream",
     "text": [
      "100%|██████████| 100/100 [00:04<00:00, 21.89it/s]\n"
     ]
    },
    {
     "name": "stdout",
     "output_type": "stream",
     "text": [
      "     Time to perform bi-random walk:  4.678162097930908\n",
      "Finish running, Time:  16.69696307182312\n",
      "6\n",
      "Running ...\n",
      "     Time to compute cell-cell affinity matrix:  6.524371147155762\n",
      "     Time to compute gene-gene affinity matrix:  6.629716396331787\n",
      "Method: Tensor product\n"
     ]
    },
    {
     "name": "stderr",
     "output_type": "stream",
     "text": [
      "100%|██████████| 100/100 [00:04<00:00, 21.81it/s]\n"
     ]
    },
    {
     "name": "stdout",
     "output_type": "stream",
     "text": [
      "     Time to perform bi-random walk:  4.698444128036499\n",
      "Finish running, Time:  18.087451457977295\n",
      "7\n",
      "Running ...\n",
      "     Time to compute cell-cell affinity matrix:  5.8022685050964355\n",
      "     Time to compute gene-gene affinity matrix:  5.656184911727905\n",
      "Method: Tensor product\n"
     ]
    },
    {
     "name": "stderr",
     "output_type": "stream",
     "text": [
      "100%|██████████| 100/100 [00:06<00:00, 15.14it/s]\n"
     ]
    },
    {
     "name": "stdout",
     "output_type": "stream",
     "text": [
      "     Time to perform bi-random walk:  6.794634819030762\n",
      "Finish running, Time:  18.480599880218506\n",
      "8\n",
      "Running ...\n",
      "     Time to compute cell-cell affinity matrix:  5.427140951156616\n",
      "     Time to compute gene-gene affinity matrix:  5.4734275341033936\n",
      "Method: Tensor product\n"
     ]
    },
    {
     "name": "stderr",
     "output_type": "stream",
     "text": [
      "100%|██████████| 100/100 [00:04<00:00, 24.03it/s]\n"
     ]
    },
    {
     "name": "stdout",
     "output_type": "stream",
     "text": [
      "     Time to perform bi-random walk:  4.272366762161255\n",
      "Finish running, Time:  15.400683879852295\n"
     ]
    }
   ],
   "source": [
    "mses = {}\n",
    "corrs = {}\n",
    "mses_ = {}\n",
    "corrs_ = {}\n",
    "mses__ = {}\n",
    "corrs__ = {}\n",
    "aucs = {}\n",
    "method = 'BiRW'\n",
    "\n",
    "for i in (range(9)):\n",
    "    print(i)\n",
    "    df, mask, original = get_data_for_i(i+1)\n",
    "\n",
    "    pred = run_magic_birw(\n",
    "        df, \n",
    "        **kuang_params\n",
    "    )\n",
    "    pred = pd.DataFrame(pred, columns=df.columns, index=df.index)\n",
    "\n",
    "    origin = np.array([original.loc[i] for i in mask])\n",
    "    predict = np.array([pred.loc[i] for i in mask])\n",
    "\n",
    "    mses[i] = mse(origin, predict)\n",
    "    corrs[i] = np.corrcoef(origin, predict)[0][1]\n",
    "    mses_[i] = mse(origin[origin != 0], predict[origin != 0])\n",
    "    corrs_[i] = np.corrcoef(origin[origin != 0], predict[origin != 0])[0][1]\n",
    "    mses__[i] = mse(origin[origin == 0], predict[origin == 0])\n",
    "    \n",
    "    df =  pd.DataFrame(np.array(predict))\n",
    "    df['rank'] = df.rank()\n",
    "    df['label'] = np.sign(origin)\n",
    "    aucs[i] = roc_auc_score(df['label'], df['rank'])"
   ]
  },
  {
   "cell_type": "code",
   "execution_count": 5,
   "id": "a0f04d0e",
   "metadata": {},
   "outputs": [
    {
     "data": {
      "text/html": [
       "<div>\n",
       "<style scoped>\n",
       "    .dataframe tbody tr th:only-of-type {\n",
       "        vertical-align: middle;\n",
       "    }\n",
       "\n",
       "    .dataframe tbody tr th {\n",
       "        vertical-align: top;\n",
       "    }\n",
       "\n",
       "    .dataframe thead th {\n",
       "        text-align: right;\n",
       "    }\n",
       "</style>\n",
       "<table border=\"1\" class=\"dataframe\">\n",
       "  <thead>\n",
       "    <tr style=\"text-align: right;\">\n",
       "      <th></th>\n",
       "      <th>0</th>\n",
       "      <th>1</th>\n",
       "      <th>2</th>\n",
       "      <th>3</th>\n",
       "      <th>4</th>\n",
       "      <th>5</th>\n",
       "      <th>6</th>\n",
       "      <th>7</th>\n",
       "      <th>8</th>\n",
       "    </tr>\n",
       "  </thead>\n",
       "  <tbody>\n",
       "    <tr>\n",
       "      <th>mse</th>\n",
       "      <td>0.387162</td>\n",
       "      <td>0.455228</td>\n",
       "      <td>0.529921</td>\n",
       "      <td>0.595692</td>\n",
       "      <td>0.646766</td>\n",
       "      <td>0.682156</td>\n",
       "      <td>0.707129</td>\n",
       "      <td>0.724570</td>\n",
       "      <td>0.738620</td>\n",
       "    </tr>\n",
       "    <tr>\n",
       "      <th>mse (nonzero)</th>\n",
       "      <td>1.059956</td>\n",
       "      <td>1.288456</td>\n",
       "      <td>1.530444</td>\n",
       "      <td>1.739592</td>\n",
       "      <td>1.901502</td>\n",
       "      <td>2.012743</td>\n",
       "      <td>2.090712</td>\n",
       "      <td>2.144413</td>\n",
       "      <td>2.187605</td>\n",
       "    </tr>\n",
       "    <tr>\n",
       "      <th>mse (zero)</th>\n",
       "      <td>0.043714</td>\n",
       "      <td>0.030315</td>\n",
       "      <td>0.020179</td>\n",
       "      <td>0.013009</td>\n",
       "      <td>0.008008</td>\n",
       "      <td>0.004656</td>\n",
       "      <td>0.002404</td>\n",
       "      <td>0.001072</td>\n",
       "      <td>0.000282</td>\n",
       "    </tr>\n",
       "    <tr>\n",
       "      <th>corr</th>\n",
       "      <td>0.663269</td>\n",
       "      <td>0.650212</td>\n",
       "      <td>0.633009</td>\n",
       "      <td>0.610050</td>\n",
       "      <td>0.580752</td>\n",
       "      <td>0.544698</td>\n",
       "      <td>0.483956</td>\n",
       "      <td>0.290488</td>\n",
       "      <td>0.136265</td>\n",
       "    </tr>\n",
       "    <tr>\n",
       "      <th>corrs (nonzero)</th>\n",
       "      <td>0.665213</td>\n",
       "      <td>0.647129</td>\n",
       "      <td>0.623078</td>\n",
       "      <td>0.594282</td>\n",
       "      <td>0.560733</td>\n",
       "      <td>0.527518</td>\n",
       "      <td>0.478660</td>\n",
       "      <td>0.332365</td>\n",
       "      <td>0.150641</td>\n",
       "    </tr>\n",
       "    <tr>\n",
       "      <th>auc</th>\n",
       "      <td>0.742257</td>\n",
       "      <td>0.733271</td>\n",
       "      <td>0.719888</td>\n",
       "      <td>0.705111</td>\n",
       "      <td>0.694649</td>\n",
       "      <td>0.682732</td>\n",
       "      <td>0.688773</td>\n",
       "      <td>0.639132</td>\n",
       "      <td>0.573125</td>\n",
       "    </tr>\n",
       "  </tbody>\n",
       "</table>\n",
       "</div>"
      ],
      "text/plain": [
       "                        0         1         2         3         4         5  \\\n",
       "mse              0.387162  0.455228  0.529921  0.595692  0.646766  0.682156   \n",
       "mse (nonzero)    1.059956  1.288456  1.530444  1.739592  1.901502  2.012743   \n",
       "mse (zero)       0.043714  0.030315  0.020179  0.013009  0.008008  0.004656   \n",
       "corr             0.663269  0.650212  0.633009  0.610050  0.580752  0.544698   \n",
       "corrs (nonzero)  0.665213  0.647129  0.623078  0.594282  0.560733  0.527518   \n",
       "auc              0.742257  0.733271  0.719888  0.705111  0.694649  0.682732   \n",
       "\n",
       "                        6         7         8  \n",
       "mse              0.707129  0.724570  0.738620  \n",
       "mse (nonzero)    2.090712  2.144413  2.187605  \n",
       "mse (zero)       0.002404  0.001072  0.000282  \n",
       "corr             0.483956  0.290488  0.136265  \n",
       "corrs (nonzero)  0.478660  0.332365  0.150641  \n",
       "auc              0.688773  0.639132  0.573125  "
      ]
     },
     "execution_count": 5,
     "metadata": {},
     "output_type": "execute_result"
    }
   ],
   "source": [
    "pd.DataFrame([\n",
    "    mses.values(),\n",
    "    mses_.values(),\n",
    "    mses__.values(),\n",
    "    corrs.values(),\n",
    "    corrs_.values(),\n",
    "    aucs.values()\n",
    "], index=['mse', 'mse (nonzero)', 'mse (zero)', 'corr', 'corrs (nonzero)', 'auc'])"
   ]
  },
  {
   "cell_type": "code",
   "execution_count": null,
   "id": "1a2d6e6c",
   "metadata": {},
   "outputs": [],
   "source": []
  }
 ],
 "metadata": {
  "kernelspec": {
   "display_name": "jax",
   "language": "python",
   "name": "jax"
  },
  "language_info": {
   "codemirror_mode": {
    "name": "ipython",
    "version": 3
   },
   "file_extension": ".py",
   "mimetype": "text/x-python",
   "name": "python",
   "nbconvert_exporter": "python",
   "pygments_lexer": "ipython3",
   "version": "3.8.16"
  }
 },
 "nbformat": 4,
 "nbformat_minor": 5
}
