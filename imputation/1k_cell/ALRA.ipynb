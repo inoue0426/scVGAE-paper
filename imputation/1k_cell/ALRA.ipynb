{
 "cells": [
  {
   "cell_type": "code",
   "execution_count": 1,
   "id": "ad600f3f",
   "metadata": {},
   "outputs": [
    {
     "name": "stderr",
     "output_type": "stream",
     "text": [
      "/export/scratch/inoue019/envs/gpu1/lib/python3.10/site-packages/rpy2/robjects/pandas2ri.py:368: DeprecationWarning: The global conversion available with activate() is deprecated and will be removed in the next major release. Use a local converter.\n",
      "  warnings.warn('The global conversion available with activate() '\n",
      "/export/scratch/inoue019/envs/gpu1/lib/python3.10/site-packages/rpy2/robjects/numpy2ri.py:241: DeprecationWarning: The global conversion available with activate() is deprecated and will be removed in the next major release. Use a local converter.\n",
      "  warnings.warn('The global conversion available with activate() '\n"
     ]
    }
   ],
   "source": [
    "import warnings\n",
    "warnings.resetwarnings()\n",
    "\n",
    "import magic\n",
    "import pandas as pd\n",
    "import numpy as np\n",
    "import random\n",
    "\n",
    "from tqdm import tqdm\n",
    "\n",
    "from sklearn.metrics import mean_absolute_percentage_error as mape\n",
    "from sklearn.metrics import mean_squared_error as mse\n",
    "\n",
    "from rpy2.robjects import r, pandas2ri\n",
    "from rpy2.robjects.vectors import StrVector\n",
    "\n",
    "pandas2ri.activate()\n",
    "\n",
    "r('''\n",
    "    source('../../../imputation2/notebooks/repos/ALRA/alra.R')\n",
    "''')"
   ]
  },
  {
   "cell_type": "code",
   "execution_count": 2,
   "id": "45cfaeb4",
   "metadata": {},
   "outputs": [],
   "source": [
    "def get_data_for_i(i):\n",
    "    original_ = pd.read_csv('../../data/1k_cell//data.csv', index_col=0)\n",
    "    df_ = pd.read_csv('../../data/1k_cell/drp_{}0.csv'.format(i), index_col=0)\n",
    "    df_.index = [int(i) for i in df_.index]\n",
    "    df_.columns = [int(i) for i in df_.columns]\n",
    "\n",
    "    original_.columns = df_.columns\n",
    "    original_.index = df_.index\n",
    "\n",
    "    n = original_.size\n",
    "    original_val = original_.values.copy()\n",
    "    t = list(np.ndindex(original_.shape))\n",
    "    random.Random(42).shuffle(t)\n",
    "\n",
    "    mask = t[:int(len(t)/10 * i)]\n",
    "\n",
    "    thr = np.sum(np.sign(df_)) > 0\n",
    "    original_ = original_.loc[:, list(thr)]\n",
    "    df_ = df_.loc[:, list(thr)]\n",
    "\n",
    "    # original = original_.values\n",
    "    original = np.log(original_+1)\n",
    "\n",
    "    # df = df_.values\n",
    "    df = np.log(df_+1)\n",
    "\n",
    "    tmp = pd.DataFrame(thr)\n",
    "    remove = [int(i) for i in tmp[tmp[0] == False].index]\n",
    "    mask = [i for i in mask if i[1] not in remove]\n",
    "    \n",
    "    return df, mask, original"
   ]
  },
  {
   "cell_type": "code",
   "execution_count": 7,
   "id": "a5595ab4",
   "metadata": {},
   "outputs": [],
   "source": [
    "def get_cos_sim(vector1, vector2):\n",
    "    dot_product = np.dot(vector1, vector2)\n",
    "\n",
    "    # ベクトルの大きさ（ノルム）を計算します\n",
    "    norm_vector1 = np.linalg.norm(vector1)\n",
    "    norm_vector2 = np.linalg.norm(vector2)\n",
    "\n",
    "    # Cosine Similarityを計算します\n",
    "    cosine_similarity = dot_product / (norm_vector1 * norm_vector2)\n",
    "    \n",
    "    return cosine_similarity"
   ]
  },
  {
   "cell_type": "code",
   "execution_count": 8,
   "id": "7322a7c1",
   "metadata": {},
   "outputs": [],
   "source": [
    "def get_l1norm(vector1, vector2):\n",
    "    l1_distance = np.sum(np.abs(vector1 - vector2))\n",
    "    return l1_distance"
   ]
  },
  {
   "cell_type": "code",
   "execution_count": null,
   "id": "1e3607d8",
   "metadata": {},
   "outputs": [],
   "source": []
  },
  {
   "cell_type": "code",
   "execution_count": null,
   "id": "03259bed",
   "metadata": {
    "scrolled": true
   },
   "outputs": [
    {
     "name": "stdout",
     "output_type": "stream",
     "text": [
      "0\n",
      "Read matrix with 1000 cells and 12345 genes\n",
      "Getting nonzeros\n",
      "Randomized SVD\n",
      "Find the 0.001000 quantile of each gene\n",
      "Sweep\n",
      "Scaling all except for 179 columns\n",
      "0.00% of the values became negative in the scaling process and were set to zero\n",
      "The matrix went from 19.95% nonzero to 64.97% nonzero\n",
      "1\n",
      "Read matrix with 1000 cells and 12333 genes\n",
      "Getting nonzeros\n",
      "Randomized SVD\n",
      "Find the 0.001000 quantile of each gene\n",
      "Sweep\n",
      "Scaling all except for 199 columns\n",
      "0.00% of the values became negative in the scaling process and were set to zero\n",
      "The matrix went from 17.76% nonzero to 66.93% nonzero\n",
      "2\n",
      "Read matrix with 1000 cells and 12308 genes\n",
      "Getting nonzeros\n",
      "Randomized SVD\n",
      "Find the 0.001000 quantile of each gene\n",
      "Sweep\n",
      "Scaling all except for 218 columns\n",
      "0.00% of the values became negative in the scaling process and were set to zero\n",
      "The matrix went from 15.57% nonzero to 59.33% nonzero\n",
      "3\n",
      "Read matrix with 1000 cells and 12279 genes\n",
      "Getting nonzeros\n",
      "Randomized SVD\n",
      "Find the 0.001000 quantile of each gene\n",
      "Sweep\n",
      "Scaling all except for 233 columns\n",
      "0.00% of the values became negative in the scaling process and were set to zero\n",
      "The matrix went from 13.38% nonzero to 66.11% nonzero\n",
      "4\n",
      "Read matrix with 1000 cells and 12237 genes\n",
      "Getting nonzeros\n",
      "Randomized SVD\n",
      "Find the 0.001000 quantile of each gene\n",
      "Sweep\n",
      "Scaling all except for 237 columns\n",
      "0.00% of the values became negative in the scaling process and were set to zero\n",
      "The matrix went from 11.19% nonzero to 65.53% nonzero\n",
      "5\n",
      "Read matrix with 1000 cells and 12182 genes\n",
      "Getting nonzeros\n",
      "Randomized SVD\n",
      "Find the 0.001000 quantile of each gene\n",
      "Sweep\n",
      "Scaling all except for 230 columns\n",
      "0.00% of the values became negative in the scaling process and were set to zero\n",
      "The matrix went from 8.99% nonzero to 64.99% nonzero\n",
      "6\n",
      "Read matrix with 1000 cells and 12122 genes\n",
      "Getting nonzeros\n",
      "Randomized SVD\n",
      "Find the 0.001000 quantile of each gene\n",
      "Sweep\n",
      "Scaling all except for 225 columns\n",
      "0.00% of the values became negative in the scaling process and were set to zero\n",
      "The matrix went from 6.77% nonzero to 60.88% nonzero\n",
      "7\n",
      "Read matrix with 1000 cells and 12029 genes\n",
      "Getting nonzeros\n",
      "Randomized SVD\n",
      "Find the 0.001000 quantile of each gene\n",
      "Sweep\n",
      "Scaling all except for 206 columns\n",
      "0.00% of the values became negative in the scaling process and were set to zero\n",
      "The matrix went from 4.55% nonzero to 48.82% nonzero\n",
      "8\n",
      "Read matrix with 1000 cells and 11882 genes\n",
      "Getting nonzeros\n",
      "Randomized SVD\n",
      "Find the 0.001000 quantile of each gene\n",
      "Sweep\n",
      "Scaling all except for 201 columns\n",
      "0.00% of the values became negative in the scaling process and were set to zero\n",
      "The matrix went from 2.30% nonzero to 49.92% nonzero\n"
     ]
    }
   ],
   "source": [
    "mses = {}\n",
    "corrs = {}\n",
    "coss = {}\n",
    "l1 = {}\n",
    "\n",
    "method = 'ALRA'\n",
    "\n",
    "for i in (range(9)):\n",
    "    print(i)\n",
    "    df, mask, original = get_data_for_i(i+1)\n",
    "\n",
    "    r.assign(\"data\", df)\n",
    "    pred = r('''\n",
    "        train = as.matrix(data)\n",
    "        train_norm <- normalize_data(train)\n",
    "        k_choice <- choose_k(train_norm)\n",
    "        alra(train_norm,k=k_choice$k)[[3]]\n",
    "    ''')\n",
    "    \n",
    "    pred = pd.DataFrame(pred, columns=df.columns, index=df.index)\n",
    "\n",
    "    origin = np.array([original.loc[i] for i in mask])\n",
    "    predict = np.array([pred.loc[i] for i in mask])\n",
    "\n",
    "    mses[i] = mse(origin, predict)\n",
    "    corrs[i] = np.corrcoef(origin, predict)[0][1]\n",
    "    coss[i] = get_cos_sim(origin, predict) \n",
    "    l1[i] = get_l1norm(origin, predict)"
   ]
  },
  {
   "cell_type": "code",
   "execution_count": null,
   "id": "210510e1",
   "metadata": {},
   "outputs": [],
   "source": []
  },
  {
   "cell_type": "code",
   "execution_count": null,
   "id": "38cf606e",
   "metadata": {},
   "outputs": [],
   "source": [
    "pd.DataFrame(mses.values()).T"
   ]
  },
  {
   "cell_type": "code",
   "execution_count": null,
   "id": "98af4de7",
   "metadata": {},
   "outputs": [],
   "source": [
    "pd.DataFrame(corrs.values()).T"
   ]
  },
  {
   "cell_type": "code",
   "execution_count": null,
   "id": "10331143",
   "metadata": {},
   "outputs": [],
   "source": [
    "pd.DataFrame(coss.values()).T"
   ]
  },
  {
   "cell_type": "code",
   "execution_count": null,
   "id": "df6f6417",
   "metadata": {},
   "outputs": [],
   "source": [
    "pd.DataFrame(l1.values()).T"
   ]
  },
  {
   "cell_type": "code",
   "execution_count": null,
   "id": "a8742999",
   "metadata": {},
   "outputs": [],
   "source": []
  },
  {
   "cell_type": "code",
   "execution_count": null,
   "id": "29abb711",
   "metadata": {},
   "outputs": [],
   "source": []
  },
  {
   "cell_type": "code",
   "execution_count": null,
   "id": "4ecab182",
   "metadata": {},
   "outputs": [],
   "source": []
  },
  {
   "cell_type": "code",
   "execution_count": null,
   "id": "c55e91d2",
   "metadata": {},
   "outputs": [],
   "source": []
  },
  {
   "cell_type": "code",
   "execution_count": null,
   "id": "3fd4caca",
   "metadata": {},
   "outputs": [],
   "source": []
  },
  {
   "cell_type": "code",
   "execution_count": null,
   "id": "781fb541",
   "metadata": {},
   "outputs": [],
   "source": []
  },
  {
   "cell_type": "code",
   "execution_count": null,
   "id": "ac17f1fa",
   "metadata": {},
   "outputs": [],
   "source": []
  },
  {
   "cell_type": "code",
   "execution_count": null,
   "id": "62418ab2",
   "metadata": {},
   "outputs": [],
   "source": []
  },
  {
   "cell_type": "code",
   "execution_count": null,
   "id": "eff12745",
   "metadata": {},
   "outputs": [],
   "source": []
  }
 ],
 "metadata": {
  "kernelspec": {
   "display_name": "gpu1",
   "language": "python",
   "name": "gpu1"
  },
  "language_info": {
   "codemirror_mode": {
    "name": "ipython",
    "version": 3
   },
   "file_extension": ".py",
   "mimetype": "text/x-python",
   "name": "python",
   "nbconvert_exporter": "python",
   "pygments_lexer": "ipython3",
   "version": "3.10.11"
  }
 },
 "nbformat": 4,
 "nbformat_minor": 5
}
