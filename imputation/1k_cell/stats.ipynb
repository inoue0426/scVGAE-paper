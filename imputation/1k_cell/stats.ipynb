{
 "cells": [
  {
   "cell_type": "code",
   "execution_count": 1,
   "id": "ad600f3f",
   "metadata": {},
   "outputs": [],
   "source": [
    "import warnings\n",
    "warnings.resetwarnings()\n",
    "\n",
    "import scprep\n",
    "import matplotlib.pyplot as plt\n",
    "import gc\n",
    "\n",
    "import pandas as pd\n",
    "import numpy as np\n",
    "import random\n",
    "import optuna\n",
    "\n",
    "from tqdm import tqdm\n",
    "\n",
    "from sklearn.metrics import mean_absolute_percentage_error as mape\n",
    "from sklearn.metrics import mean_squared_error as mse"
   ]
  },
  {
   "cell_type": "code",
   "execution_count": 2,
   "id": "45cfaeb4",
   "metadata": {},
   "outputs": [],
   "source": [
    "def get_data_for_i(i):\n",
    "    original_ = pd.read_csv('../../data/simulation/data.csv', index_col=0)\n",
    "    df_ = pd.read_csv('../../data/simulation/drp_{}0.csv'.format(i), index_col=0)\n",
    "    df_.index = [int(i) for i in df_.index]\n",
    "    df_.columns = [int(i) for i in df_.columns]\n",
    "\n",
    "    original_.columns = df_.columns\n",
    "    original_.index = df_.index\n",
    "\n",
    "    n = original_.size\n",
    "    original_val = original_.values.copy()\n",
    "    t = list(np.ndindex(original_.shape))\n",
    "    random.Random(42).shuffle(t)\n",
    "\n",
    "    mask = t[:int(len(t)/10 * i)]\n",
    "\n",
    "    thr = np.sum(np.sign(df_)) > 0\n",
    "    original_ = original_.loc[:, list(thr)]\n",
    "    df_ = df_.loc[:, list(thr)]\n",
    "\n",
    "    # original = original_.values\n",
    "    original = np.log(original_+1)\n",
    "\n",
    "    # df = df_.values\n",
    "    df = np.log(df_+1)\n",
    "\n",
    "    tmp = pd.DataFrame(thr)\n",
    "    remove = [int(i) for i in tmp[tmp[0] == False].index]\n",
    "    mask = [i for i in mask if i[1] not in remove]\n",
    "    \n",
    "    return df, mask, original"
   ]
  },
  {
   "cell_type": "code",
   "execution_count": 4,
   "id": "32c39e36",
   "metadata": {},
   "outputs": [
    {
     "name": "stdout",
     "output_type": "stream",
     "text": [
      "0\n",
      "Mean:  0.2325\n",
      "Nonzero:  0.22131036655949596\n",
      "\n",
      "\n",
      "1\n",
      "Mean:  0.2069\n",
      "Nonzero:  0.22147935617555206\n",
      "\n",
      "\n",
      "2\n",
      "Mean:  0.1814\n",
      "Nonzero:  0.2220847926387094\n",
      "\n",
      "\n",
      "3\n",
      "Mean:  0.1559\n",
      "Nonzero:  0.22266716590488045\n",
      "\n",
      "\n",
      "4\n",
      "Mean:  0.1304\n",
      "Nonzero:  0.22346179160579188\n",
      "\n",
      "\n",
      "5\n",
      "Mean:  0.1048\n",
      "Nonzero:  0.22452320601908066\n",
      "\n",
      "\n",
      "6\n",
      "Mean:  0.079\n",
      "Nonzero:  0.22566305925599528\n",
      "\n",
      "\n",
      "7\n",
      "Mean:  0.053\n",
      "Nonzero:  0.22738513773226288\n",
      "\n",
      "\n",
      "8\n",
      "Mean:  0.0268\n",
      "Nonzero:  0.23012741165107176\n",
      "\n",
      "\n"
     ]
    }
   ],
   "source": [
    "for i in range(9):\n",
    "    df_, mask, original = get_data_for_i(i+1)\n",
    "    origin = np.array([original.loc[i] for i in mask])\n",
    "    print(i)\n",
    "    print('Mean: ', round(np.mean(df_.values), 4))\n",
    "    print('Nonzero: ', sum(origin != 0)/origin.size)\n",
    "    print('\\n')"
   ]
  },
  {
   "cell_type": "code",
   "execution_count": null,
   "id": "7b4d5976",
   "metadata": {},
   "outputs": [],
   "source": []
  },
  {
   "cell_type": "code",
   "execution_count": null,
   "id": "880ce9b2",
   "metadata": {},
   "outputs": [],
   "source": []
  },
  {
   "cell_type": "code",
   "execution_count": null,
   "id": "62d04742",
   "metadata": {},
   "outputs": [],
   "source": []
  },
  {
   "cell_type": "code",
   "execution_count": null,
   "id": "67450e6c",
   "metadata": {},
   "outputs": [],
   "source": []
  },
  {
   "cell_type": "code",
   "execution_count": null,
   "id": "69486983",
   "metadata": {},
   "outputs": [],
   "source": []
  },
  {
   "cell_type": "code",
   "execution_count": null,
   "id": "bd85c063",
   "metadata": {},
   "outputs": [],
   "source": []
  },
  {
   "cell_type": "code",
   "execution_count": null,
   "id": "a85a7b0e",
   "metadata": {},
   "outputs": [],
   "source": []
  }
 ],
 "metadata": {
  "kernelspec": {
   "display_name": "gpu",
   "language": "python",
   "name": "gpu"
  },
  "language_info": {
   "codemirror_mode": {
    "name": "ipython",
    "version": 3
   },
   "file_extension": ".py",
   "mimetype": "text/x-python",
   "name": "python",
   "nbconvert_exporter": "python",
   "pygments_lexer": "ipython3",
   "version": "3.8.13"
  }
 },
 "nbformat": 4,
 "nbformat_minor": 5
}
