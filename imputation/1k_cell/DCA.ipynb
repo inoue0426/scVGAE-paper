{
 "cells": [
  {
   "cell_type": "code",
   "execution_count": 12,
   "id": "2c7b8aa2",
   "metadata": {},
   "outputs": [],
   "source": [
    "import numpy as np\n",
    "import pandas as pd\n",
    "import scanpy as sc\n",
    "import random\n",
    "\n",
    "from sklearn.metrics import adjusted_rand_score, adjusted_mutual_info_score, normalized_mutual_info_score\n",
    "from sklearn.cluster import KMeans, SpectralClustering\n",
    "from sklearn.cluster import SpectralClustering\n",
    "\n",
    "from sklearn.decomposition import PCA, SparsePCA, KernelPCA\n",
    "from sklearn.manifold import TSNE\n",
    "\n",
    "from rpy2.robjects import r, pandas2ri\n",
    "from rpy2.robjects.vectors import StrVector\n",
    "\n",
    "pandas2ri.activate()\n",
    "\n",
    "# import magic\n",
    "import scprep\n",
    "\n",
    "%matplotlib inline\n",
    "\n",
    "# from sklearnex import patch_sklearn\n",
    "# patch_sklearn()\n",
    "\n",
    "import warnings\n",
    "\n",
    "from sklearn.cluster import KMeans\n",
    "from tqdm import tqdm\n",
    "from sklearn.metrics import mean_squared_error as mse\n",
    "\n",
    "import os \n",
    "\n",
    "os.environ['XLA_PYTHON_CLIENT_PREALLOCATE'] = 'false'\n",
    "os.environ['CUDA_VISIBLE_DEVICES'] = '1'\n",
    "\n",
    "from dca.api import dca"
   ]
  },
  {
   "cell_type": "code",
   "execution_count": 6,
   "id": "b148e273",
   "metadata": {},
   "outputs": [],
   "source": [
    "def get_data_for_i(i):\n",
    "    original_ = pd.read_csv('../../data/1k_cell//data.csv', index_col=0)\n",
    "    df_ = pd.read_csv('../../data/1k_cell/drp_{}0.csv'.format(i), index_col=0)\n",
    "    df_.index = [int(i) for i in df_.index]\n",
    "    df_.columns = [int(i) for i in df_.columns]\n",
    "\n",
    "    original_.columns = df_.columns\n",
    "    original_.index = df_.index\n",
    "\n",
    "    n = original_.size\n",
    "    original_val = original_.values.copy()\n",
    "    t = list(np.ndindex(original_.shape))\n",
    "    random.Random(42).shuffle(t)\n",
    "\n",
    "    mask = t[:int(len(t)/10 * i)]\n",
    "\n",
    "    thr = np.sum(np.sign(df_)) > 0\n",
    "    original_ = original_.loc[:, list(thr)]\n",
    "    df_ = df_.loc[:, list(thr)]\n",
    "\n",
    "    # original = original_.values\n",
    "    original = np.log(original_+1)\n",
    "\n",
    "    # df = df_.values\n",
    "    df = np.log(df_+1)\n",
    "\n",
    "    tmp = pd.DataFrame(thr)\n",
    "    remove = [int(i) for i in tmp[tmp[0] == False].index]\n",
    "    mask = [i for i in mask if i[1] not in remove]\n",
    "    \n",
    "    return df_, mask, original"
   ]
  },
  {
   "cell_type": "code",
   "execution_count": 7,
   "id": "a5595ab4",
   "metadata": {},
   "outputs": [],
   "source": [
    "def get_cos_sim(vector1, vector2):\n",
    "    dot_product = np.dot(vector1, vector2)\n",
    "\n",
    "    # ベクトルの大きさ（ノルム）を計算します\n",
    "    norm_vector1 = np.linalg.norm(vector1)\n",
    "    norm_vector2 = np.linalg.norm(vector2)\n",
    "\n",
    "    # Cosine Similarityを計算します\n",
    "    cosine_similarity = dot_product / (norm_vector1 * norm_vector2)\n",
    "    \n",
    "    return cosine_similarity"
   ]
  },
  {
   "cell_type": "code",
   "execution_count": 8,
   "id": "183807db",
   "metadata": {},
   "outputs": [],
   "source": [
    "def get_l1norm(vector1, vector2):\n",
    "    l1_distance = np.sum(np.abs(vector1 - vector2))\n",
    "    return l1_distance"
   ]
  },
  {
   "cell_type": "code",
   "execution_count": null,
   "id": "4406b230",
   "metadata": {},
   "outputs": [],
   "source": []
  },
  {
   "cell_type": "code",
   "execution_count": null,
   "id": "c17d3a6d",
   "metadata": {},
   "outputs": [
    {
     "name": "stdout",
     "output_type": "stream",
     "text": [
      "0\n"
     ]
    },
    {
     "name": "stderr",
     "output_type": "stream",
     "text": [
      "/export/scratch/inoue019/envs/dca/lib/python3.6/site-packages/anndata/_core/anndata.py:120: ImplicitModificationWarning: Transforming to str index.\n",
      "  warnings.warn(\"Transforming to str index.\", ImplicitModificationWarning)\n"
     ]
    },
    {
     "name": "stdout",
     "output_type": "stream",
     "text": [
      "dca: Successfully preprocessed 12345 genes and 1000 cells.\n"
     ]
    },
    {
     "name": "stderr",
     "output_type": "stream",
     "text": [
      "/export/scratch/inoue019/envs/dca/lib/python3.6/site-packages/tensorflow/python/keras/engine/training.py:2323: UserWarning: `Model.state_updates` will be removed in a future version. This property should not be used in TensorFlow 2.0, as `updates` are applied automatically.\n",
      "  warnings.warn('`Model.state_updates` will be removed in a future version. '\n"
     ]
    },
    {
     "name": "stdout",
     "output_type": "stream",
     "text": [
      "dca: Calculating reconstructions...\n",
      "1\n"
     ]
    },
    {
     "name": "stderr",
     "output_type": "stream",
     "text": [
      "/export/scratch/inoue019/envs/dca/lib/python3.6/site-packages/anndata/_core/anndata.py:120: ImplicitModificationWarning: Transforming to str index.\n",
      "  warnings.warn(\"Transforming to str index.\", ImplicitModificationWarning)\n"
     ]
    },
    {
     "name": "stdout",
     "output_type": "stream",
     "text": [
      "dca: Successfully preprocessed 12333 genes and 1000 cells.\n"
     ]
    },
    {
     "name": "stderr",
     "output_type": "stream",
     "text": [
      "/export/scratch/inoue019/envs/dca/lib/python3.6/site-packages/tensorflow/python/keras/engine/training.py:2323: UserWarning: `Model.state_updates` will be removed in a future version. This property should not be used in TensorFlow 2.0, as `updates` are applied automatically.\n",
      "  warnings.warn('`Model.state_updates` will be removed in a future version. '\n"
     ]
    },
    {
     "name": "stdout",
     "output_type": "stream",
     "text": [
      "dca: Calculating reconstructions...\n",
      "2\n"
     ]
    },
    {
     "name": "stderr",
     "output_type": "stream",
     "text": [
      "/export/scratch/inoue019/envs/dca/lib/python3.6/site-packages/anndata/_core/anndata.py:120: ImplicitModificationWarning: Transforming to str index.\n",
      "  warnings.warn(\"Transforming to str index.\", ImplicitModificationWarning)\n"
     ]
    },
    {
     "name": "stdout",
     "output_type": "stream",
     "text": [
      "dca: Successfully preprocessed 12308 genes and 1000 cells.\n"
     ]
    },
    {
     "name": "stderr",
     "output_type": "stream",
     "text": [
      "/export/scratch/inoue019/envs/dca/lib/python3.6/site-packages/tensorflow/python/keras/engine/training.py:2323: UserWarning: `Model.state_updates` will be removed in a future version. This property should not be used in TensorFlow 2.0, as `updates` are applied automatically.\n",
      "  warnings.warn('`Model.state_updates` will be removed in a future version. '\n"
     ]
    },
    {
     "name": "stdout",
     "output_type": "stream",
     "text": [
      "dca: Calculating reconstructions...\n",
      "3\n"
     ]
    },
    {
     "name": "stderr",
     "output_type": "stream",
     "text": [
      "/export/scratch/inoue019/envs/dca/lib/python3.6/site-packages/anndata/_core/anndata.py:120: ImplicitModificationWarning: Transforming to str index.\n",
      "  warnings.warn(\"Transforming to str index.\", ImplicitModificationWarning)\n"
     ]
    },
    {
     "name": "stdout",
     "output_type": "stream",
     "text": [
      "dca: Successfully preprocessed 12279 genes and 1000 cells.\n"
     ]
    },
    {
     "name": "stderr",
     "output_type": "stream",
     "text": [
      "/export/scratch/inoue019/envs/dca/lib/python3.6/site-packages/tensorflow/python/keras/engine/training.py:2323: UserWarning: `Model.state_updates` will be removed in a future version. This property should not be used in TensorFlow 2.0, as `updates` are applied automatically.\n",
      "  warnings.warn('`Model.state_updates` will be removed in a future version. '\n"
     ]
    },
    {
     "name": "stdout",
     "output_type": "stream",
     "text": [
      "dca: Calculating reconstructions...\n",
      "4\n"
     ]
    },
    {
     "name": "stderr",
     "output_type": "stream",
     "text": [
      "/export/scratch/inoue019/envs/dca/lib/python3.6/site-packages/anndata/_core/anndata.py:120: ImplicitModificationWarning: Transforming to str index.\n",
      "  warnings.warn(\"Transforming to str index.\", ImplicitModificationWarning)\n"
     ]
    },
    {
     "name": "stdout",
     "output_type": "stream",
     "text": [
      "dca: Successfully preprocessed 12237 genes and 1000 cells.\n"
     ]
    },
    {
     "name": "stderr",
     "output_type": "stream",
     "text": [
      "/export/scratch/inoue019/envs/dca/lib/python3.6/site-packages/tensorflow/python/keras/engine/training.py:2323: UserWarning: `Model.state_updates` will be removed in a future version. This property should not be used in TensorFlow 2.0, as `updates` are applied automatically.\n",
      "  warnings.warn('`Model.state_updates` will be removed in a future version. '\n"
     ]
    },
    {
     "name": "stdout",
     "output_type": "stream",
     "text": [
      "dca: Calculating reconstructions...\n",
      "5\n"
     ]
    },
    {
     "name": "stderr",
     "output_type": "stream",
     "text": [
      "/export/scratch/inoue019/envs/dca/lib/python3.6/site-packages/anndata/_core/anndata.py:120: ImplicitModificationWarning: Transforming to str index.\n",
      "  warnings.warn(\"Transforming to str index.\", ImplicitModificationWarning)\n"
     ]
    },
    {
     "name": "stdout",
     "output_type": "stream",
     "text": [
      "dca: Successfully preprocessed 12182 genes and 1000 cells.\n"
     ]
    },
    {
     "name": "stderr",
     "output_type": "stream",
     "text": [
      "/export/scratch/inoue019/envs/dca/lib/python3.6/site-packages/tensorflow/python/keras/engine/training.py:2323: UserWarning: `Model.state_updates` will be removed in a future version. This property should not be used in TensorFlow 2.0, as `updates` are applied automatically.\n",
      "  warnings.warn('`Model.state_updates` will be removed in a future version. '\n"
     ]
    },
    {
     "name": "stdout",
     "output_type": "stream",
     "text": [
      "dca: Calculating reconstructions...\n",
      "6\n"
     ]
    },
    {
     "name": "stderr",
     "output_type": "stream",
     "text": [
      "/export/scratch/inoue019/envs/dca/lib/python3.6/site-packages/anndata/_core/anndata.py:120: ImplicitModificationWarning: Transforming to str index.\n",
      "  warnings.warn(\"Transforming to str index.\", ImplicitModificationWarning)\n"
     ]
    },
    {
     "name": "stdout",
     "output_type": "stream",
     "text": [
      "dca: Successfully preprocessed 12122 genes and 1000 cells.\n"
     ]
    },
    {
     "name": "stderr",
     "output_type": "stream",
     "text": [
      "/export/scratch/inoue019/envs/dca/lib/python3.6/site-packages/tensorflow/python/keras/engine/training.py:2323: UserWarning: `Model.state_updates` will be removed in a future version. This property should not be used in TensorFlow 2.0, as `updates` are applied automatically.\n",
      "  warnings.warn('`Model.state_updates` will be removed in a future version. '\n"
     ]
    },
    {
     "name": "stdout",
     "output_type": "stream",
     "text": [
      "dca: Calculating reconstructions...\n",
      "7\n"
     ]
    },
    {
     "name": "stderr",
     "output_type": "stream",
     "text": [
      "/export/scratch/inoue019/envs/dca/lib/python3.6/site-packages/anndata/_core/anndata.py:120: ImplicitModificationWarning: Transforming to str index.\n",
      "  warnings.warn(\"Transforming to str index.\", ImplicitModificationWarning)\n"
     ]
    },
    {
     "name": "stdout",
     "output_type": "stream",
     "text": [
      "dca: Successfully preprocessed 12029 genes and 1000 cells.\n"
     ]
    },
    {
     "name": "stderr",
     "output_type": "stream",
     "text": [
      "/export/scratch/inoue019/envs/dca/lib/python3.6/site-packages/tensorflow/python/keras/engine/training.py:2323: UserWarning: `Model.state_updates` will be removed in a future version. This property should not be used in TensorFlow 2.0, as `updates` are applied automatically.\n",
      "  warnings.warn('`Model.state_updates` will be removed in a future version. '\n"
     ]
    },
    {
     "name": "stdout",
     "output_type": "stream",
     "text": [
      "dca: Calculating reconstructions...\n",
      "8\n"
     ]
    },
    {
     "name": "stderr",
     "output_type": "stream",
     "text": [
      "/export/scratch/inoue019/envs/dca/lib/python3.6/site-packages/anndata/_core/anndata.py:120: ImplicitModificationWarning: Transforming to str index.\n",
      "  warnings.warn(\"Transforming to str index.\", ImplicitModificationWarning)\n"
     ]
    },
    {
     "name": "stdout",
     "output_type": "stream",
     "text": [
      "dca: Successfully preprocessed 11882 genes and 1000 cells.\n"
     ]
    },
    {
     "name": "stderr",
     "output_type": "stream",
     "text": [
      "/export/scratch/inoue019/envs/dca/lib/python3.6/site-packages/tensorflow/python/keras/engine/training.py:2323: UserWarning: `Model.state_updates` will be removed in a future version. This property should not be used in TensorFlow 2.0, as `updates` are applied automatically.\n",
      "  warnings.warn('`Model.state_updates` will be removed in a future version. '\n"
     ]
    },
    {
     "name": "stdout",
     "output_type": "stream",
     "text": [
      "dca: Calculating reconstructions...\n"
     ]
    }
   ],
   "source": [
    "mses = {}\n",
    "corrs = {}\n",
    "coss = {}\n",
    "l1 = {}\n",
    "\n",
    "for i in (range(9)):\n",
    "    print(i)\n",
    "    df_, mask, original = get_data_for_i(i+1)\n",
    "\n",
    "    adata = sc.AnnData(df_)\n",
    "    dca(adata, verbose=False)\n",
    "    \n",
    "    pred = np.log(adata.X+1)\n",
    "    \n",
    "    pred = pd.DataFrame(pred, index=df_.index, columns=df_.columns)\n",
    "    origin = np.array([original.loc[i] for i in mask])\n",
    "    predict = np.array([pred.loc[i] for i in mask])\n",
    "\n",
    "    mses[i] = mse(origin, predict)\n",
    "    corrs[i] = np.corrcoef(origin, predict)[0][1]\n",
    "    coss[i] = get_cos_sim(origin, predict) \n",
    "    l1[i] = get_l1norm(origin, predict)"
   ]
  },
  {
   "cell_type": "code",
   "execution_count": null,
   "id": "210510e1",
   "metadata": {},
   "outputs": [],
   "source": [
    "pd.DataFrame(mses.values()).T"
   ]
  },
  {
   "cell_type": "code",
   "execution_count": null,
   "id": "38cf606e",
   "metadata": {},
   "outputs": [],
   "source": [
    "pd.DataFrame(corrs.values()).T"
   ]
  },
  {
   "cell_type": "code",
   "execution_count": null,
   "id": "10331143",
   "metadata": {},
   "outputs": [],
   "source": [
    "pd.DataFrame(coss.values()).T"
   ]
  },
  {
   "cell_type": "code",
   "execution_count": null,
   "id": "af377804",
   "metadata": {},
   "outputs": [],
   "source": [
    "pd.DataFrame(l1.values()).T"
   ]
  },
  {
   "cell_type": "code",
   "execution_count": null,
   "id": "b6e32a34",
   "metadata": {},
   "outputs": [],
   "source": []
  },
  {
   "cell_type": "code",
   "execution_count": null,
   "id": "d6306e27",
   "metadata": {},
   "outputs": [],
   "source": []
  },
  {
   "cell_type": "code",
   "execution_count": null,
   "id": "53fbfd96",
   "metadata": {},
   "outputs": [],
   "source": []
  }
 ],
 "metadata": {
  "kernelspec": {
   "display_name": "dca",
   "language": "python",
   "name": "dca"
  },
  "language_info": {
   "codemirror_mode": {
    "name": "ipython",
    "version": 3
   },
   "file_extension": ".py",
   "mimetype": "text/x-python",
   "name": "python",
   "nbconvert_exporter": "python",
   "pygments_lexer": "ipython3",
   "version": "3.6.13"
  }
 },
 "nbformat": 4,
 "nbformat_minor": 5
}
