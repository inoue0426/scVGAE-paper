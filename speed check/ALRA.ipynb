{
 "cells": [
  {
   "cell_type": "code",
   "execution_count": 2,
   "id": "249be191",
   "metadata": {},
   "outputs": [],
   "source": [
    "import tqdm\n",
    "# ^^^ pyforest auto-imports - don't write above this line\n",
    "import numpy as np\n",
    "import pandas as pd\n",
    "\n",
    "from sklearn.metrics import adjusted_rand_score, adjusted_mutual_info_score, normalized_mutual_info_score\n",
    "from sklearn.cluster import KMeans, SpectralClustering\n",
    "from sklearn.cluster import SpectralClustering\n",
    "\n",
    "from sklearn.decomposition import PCA, SparsePCA, KernelPCA\n",
    "from sklearn.manifold import TSNE\n",
    "\n",
    "from rpy2.robjects import r, pandas2ri\n",
    "from rpy2.robjects.vectors import StrVector\n",
    "\n",
    "pandas2ri.activate()\n",
    "\n",
    "import magic\n",
    "import scprep\n",
    "\n",
    "%matplotlib inline\n",
    "\n",
    "# from sklearnex import patch_sklearn\n",
    "# patch_sklearn()\n",
    "\n",
    "import warnings\n",
    "\n",
    "from sklearn.cluster import KMeans\n",
    "from tqdm import tqdm\n",
    "\n",
    "r('''\n",
    "    source('../../imputation2/notebooks/repos/ALRA/alra.R')\n",
    "''')"
   ]
  },
  {
   "cell_type": "code",
   "execution_count": 1,
   "id": "30ec3cad",
   "metadata": {},
   "outputs": [],
   "source": [
    "def get_data(i):\n",
    "    df = pd.read_csv('../data/{}/data.csv.gz'.format(i), index_col=0)\n",
    "    tmp = np.sign(df)\n",
    "    cols = (np.sum(tmp) > int((df.shape[0])*0.05))\n",
    "    rows = (np.sum(tmp, axis=1) > int((df.shape[1])*0.05))\n",
    "    df = np.log(df.loc[rows, cols] + 1)\n",
    "    df_norm = df.copy()\n",
    "    df_norm = scprep.normalize.library_size_normalize(df_norm)    \n",
    "    df_norm = scprep.transform.sqrt(df_norm)\n",
    "    X_norm = pd.DataFrame(df_norm, columns=df.columns)\n",
    "    labels = df.index\n",
    "    return X_norm, labels"
   ]
  },
  {
   "cell_type": "code",
   "execution_count": 3,
   "id": "5ca5b0b2",
   "metadata": {
    "scrolled": true
   },
   "outputs": [
    {
     "name": "stderr",
     "output_type": "stream",
     "text": [
      "  0%|          | 0/5 [00:00<?, ?it/s]/export/scratch/inoue019/envs/gpu1/lib/python3.10/site-packages/rpy2/robjects/pandas2ri.py:56: UserWarning: DataFrame contains duplicated elements in the index, which will lead to loss of the row names in the resulting data.frame\n",
      "  warnings.warn('DataFrame contains duplicated elements in the index, '\n"
     ]
    },
    {
     "name": "stdout",
     "output_type": "stream",
     "text": [
      "Read matrix with 1791 cells and 8669 genes\n",
      "Getting nonzeros\n",
      "Randomized SVD\n",
      "Find the 0.001000 quantile of each gene\n",
      "Sweep\n",
      "Scaling all except for 0 columns\n",
      "0.00% of the values became negative in the scaling process and were set to zero\n",
      "The matrix went from 21.79% nonzero to 78.61% nonzero\n"
     ]
    },
    {
     "name": "stderr",
     "output_type": "stream",
     "text": [
      " 20%|██        | 1/5 [00:46<03:06, 46.65s/it]/export/scratch/inoue019/envs/gpu1/lib/python3.10/site-packages/rpy2/robjects/pandas2ri.py:56: UserWarning: DataFrame contains duplicated elements in the index, which will lead to loss of the row names in the resulting data.frame\n",
      "  warnings.warn('DataFrame contains duplicated elements in the index, '\n"
     ]
    },
    {
     "name": "stdout",
     "output_type": "stream",
     "text": [
      "Read matrix with 3567 cells and 8102 genes\n",
      "Getting nonzeros\n",
      "Randomized SVD\n",
      "Find the 0.001000 quantile of each gene\n",
      "Sweep\n",
      "Scaling all except for 0 columns\n",
      "0.00% of the values became negative in the scaling process and were set to zero\n",
      "The matrix went from 26.43% nonzero to 80.15% nonzero\n"
     ]
    },
    {
     "name": "stderr",
     "output_type": "stream",
     "text": [
      " 40%|████      | 2/5 [02:15<03:35, 71.72s/it]/export/scratch/inoue019/envs/gpu1/lib/python3.10/site-packages/rpy2/robjects/pandas2ri.py:56: UserWarning: DataFrame contains duplicated elements in the index, which will lead to loss of the row names in the resulting data.frame\n",
      "  warnings.warn('DataFrame contains duplicated elements in the index, '\n"
     ]
    },
    {
     "name": "stdout",
     "output_type": "stream",
     "text": [
      "Read matrix with 5362 cells and 9582 genes\n",
      "Getting nonzeros\n",
      "Randomized SVD\n",
      "Find the 0.001000 quantile of each gene\n",
      "Sweep\n",
      "Scaling all except for 0 columns\n",
      "0.00% of the values became negative in the scaling process and were set to zero\n",
      "The matrix went from 24.47% nonzero to 81.11% nonzero\n"
     ]
    },
    {
     "name": "stderr",
     "output_type": "stream",
     "text": [
      " 60%|██████    | 3/5 [05:46<04:29, 134.91s/it]/export/scratch/inoue019/envs/gpu1/lib/python3.10/site-packages/rpy2/robjects/pandas2ri.py:56: UserWarning: DataFrame contains duplicated elements in the index, which will lead to loss of the row names in the resulting data.frame\n",
      "  warnings.warn('DataFrame contains duplicated elements in the index, '\n"
     ]
    },
    {
     "name": "stdout",
     "output_type": "stream",
     "text": [
      "Read matrix with 4064 cells and 5125 genes\n",
      "Getting nonzeros\n",
      "Randomized SVD\n",
      "Find the 0.001000 quantile of each gene\n",
      "Sweep\n",
      "Scaling all except for 0 columns\n",
      "0.00% of the values became negative in the scaling process and were set to zero\n",
      "The matrix went from 25.67% nonzero to 78.25% nonzero\n"
     ]
    },
    {
     "name": "stderr",
     "output_type": "stream",
     "text": [
      " 80%|████████  | 4/5 [07:50<02:10, 130.65s/it]/export/scratch/inoue019/envs/gpu1/lib/python3.10/site-packages/rpy2/robjects/pandas2ri.py:56: UserWarning: DataFrame contains duplicated elements in the index, which will lead to loss of the row names in the resulting data.frame\n",
      "  warnings.warn('DataFrame contains duplicated elements in the index, '\n"
     ]
    },
    {
     "name": "stdout",
     "output_type": "stream",
     "text": [
      "Read matrix with 1471 cells and 1002 genes\n",
      "Getting nonzeros\n",
      "Randomized SVD\n",
      "Find the 0.001000 quantile of each gene\n",
      "Sweep\n",
      "Scaling all except for 0 columns\n",
      "0.00% of the values became negative in the scaling process and were set to zero\n",
      "The matrix went from 44.83% nonzero to 76.40% nonzero\n"
     ]
    },
    {
     "name": "stderr",
     "output_type": "stream",
     "text": [
      "100%|██████████| 5/5 [08:49<00:00, 105.84s/it]\n"
     ]
    }
   ],
   "source": [
    "import time\n",
    "\n",
    "res = []\n",
    "dir_list = ['baron', 'brosens', 'carey', 'hcabm40k', 'chang']\n",
    "for i in tqdm(dir_list):\n",
    "    X_norm, labels = get_data(i)\n",
    "    start_time = time.time()\n",
    "    r.assign(\"A\", X_norm)\n",
    "    r('''\n",
    "        A = as.matrix(A)\n",
    "    ''')\n",
    "    r('''\n",
    "        # Library and log normalize the data\n",
    "        A_norm <- normalize_data(A)\n",
    "        # Choose k. \n",
    "        k_choice <- choose_k(A_norm)\n",
    "    ''')\n",
    "    pred = r('''\n",
    "        A_norm_completed <- alra(A_norm,k=k_choice$k)[[3]]\n",
    "    ''')\n",
    "\n",
    "    end_time = time.time()\n",
    "    res.append(end_time - start_time)"
   ]
  },
  {
   "cell_type": "code",
   "execution_count": 4,
   "id": "f6b2c618",
   "metadata": {},
   "outputs": [
    {
     "data": {
      "text/plain": [
       "[38.12728714942932,\n",
       " 62.40417408943176,\n",
       " 131.48075437545776,\n",
       " 38.40599274635315,\n",
       " 5.904771566390991]"
      ]
     },
     "execution_count": 4,
     "metadata": {},
     "output_type": "execute_result"
    }
   ],
   "source": [
    "res"
   ]
  },
  {
   "cell_type": "code",
   "execution_count": null,
   "id": "997b0a2e",
   "metadata": {},
   "outputs": [],
   "source": []
  },
  {
   "cell_type": "code",
   "execution_count": null,
   "id": "6ef37fdc",
   "metadata": {},
   "outputs": [],
   "source": []
  },
  {
   "cell_type": "code",
   "execution_count": null,
   "id": "c621d382",
   "metadata": {},
   "outputs": [],
   "source": []
  },
  {
   "cell_type": "code",
   "execution_count": null,
   "id": "832fdf8e",
   "metadata": {},
   "outputs": [],
   "source": []
  },
  {
   "cell_type": "code",
   "execution_count": null,
   "id": "1a1025fe",
   "metadata": {},
   "outputs": [],
   "source": []
  }
 ],
 "metadata": {
  "kernelspec": {
   "display_name": "gpu1",
   "language": "python",
   "name": "gpu1"
  },
  "language_info": {
   "codemirror_mode": {
    "name": "ipython",
    "version": 3
   },
   "file_extension": ".py",
   "mimetype": "text/x-python",
   "name": "python",
   "nbconvert_exporter": "python",
   "pygments_lexer": "ipython3",
   "version": "3.10.11"
  }
 },
 "nbformat": 4,
 "nbformat_minor": 5
}
