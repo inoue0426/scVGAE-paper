{
 "cells": [
  {
   "cell_type": "code",
   "execution_count": 1,
   "id": "b63f0401",
   "metadata": {},
   "outputs": [],
   "source": [
    "import numpy as np\n",
    "import pandas as pd\n",
    "\n",
    "from sklearn.metrics import adjusted_rand_score, adjusted_mutual_info_score, normalized_mutual_info_score\n",
    "from sklearn.cluster import KMeans, SpectralClustering\n",
    "from sklearn.cluster import SpectralClustering\n",
    "\n",
    "from sklearn.decomposition import PCA, SparsePCA, KernelPCA\n",
    "from sklearn.manifold import TSNE\n",
    "\n",
    "from rpy2.robjects import r, pandas2ri\n",
    "from rpy2.robjects.vectors import StrVector\n",
    "\n",
    "pandas2ri.activate()\n",
    "\n",
    "import magic\n",
    "import scprep\n",
    "\n",
    "%matplotlib inline\n",
    "\n",
    "# from sklearnex import patch_sklearn\n",
    "# patch_sklearn()\n",
    "\n",
    "import warnings\n",
    "\n",
    "from sklearn.cluster import KMeans\n",
    "from tqdm import tqdm\n",
    "\n",
    "# r('''library(Seurat)''')"
   ]
  },
  {
   "cell_type": "code",
   "execution_count": 3,
   "id": "b943a651",
   "metadata": {},
   "outputs": [],
   "source": [
    "def get_data(i):\n",
    "    df = pd.read_csv('../data/{}/data.csv.gz'.format(i), index_col=0)\n",
    "    tmp = np.sign(df)\n",
    "    cols = (np.sum(tmp) > int((df.shape[0])*0.05))\n",
    "    rows = (np.sum(tmp, axis=1) > int((df.shape[1])*0.05))\n",
    "    df = np.log(df.loc[rows, cols] + 1)\n",
    "    df_norm = df.copy()\n",
    "    df_norm = scprep.normalize.library_size_normalize(df_norm)    \n",
    "    df_norm = scprep.transform.sqrt(df_norm)\n",
    "    X_norm = pd.DataFrame(df_norm, columns=df.columns)\n",
    "    labels = df.index\n",
    "    return X_norm, labels"
   ]
  },
  {
   "cell_type": "code",
   "execution_count": 4,
   "id": "08270852",
   "metadata": {},
   "outputs": [],
   "source": []
  },
  {
   "cell_type": "code",
   "execution_count": 6,
   "id": "43ca3b56",
   "metadata": {
    "scrolled": true
   },
   "outputs": [
    {
     "name": "stderr",
     "output_type": "stream",
     "text": [
      "\r",
      "  0%|          | 0/5 [00:00<?, ?it/s]"
     ]
    },
    {
     "name": "stdout",
     "output_type": "stream",
     "text": [
      "Calculating MAGIC...\n",
      "  Running MAGIC on 1791 cells and 8669 genes.\n",
      "  Calculating graph and diffusion operator...\n",
      "    Calculating PCA...\n",
      "    Calculated PCA in 3.13 seconds.\n",
      "    Calculating KNN search...\n",
      "    Calculated KNN search in 0.39 seconds.\n",
      "    Calculating affinities...\n",
      "    Calculated affinities in 0.35 seconds.\n",
      "  Calculated graph and diffusion operator in 3.90 seconds.\n",
      "  Running MAGIC with `solver='exact'` on 8669-dimensional data may take a long time. Consider denoising specific genes with `genes=<list-like>` or using `solver='approximate'`.\n",
      "  Calculating imputation...\n",
      "  Calculated imputation in 0.19 seconds.\n",
      "Calculated MAGIC in 4.15 seconds.\n"
     ]
    },
    {
     "name": "stderr",
     "output_type": "stream",
     "text": [
      "\r",
      " 20%|██        | 1/5 [00:12<00:51, 12.76s/it]"
     ]
    },
    {
     "name": "stdout",
     "output_type": "stream",
     "text": [
      "Calculating MAGIC...\n",
      "  Running MAGIC on 3567 cells and 8102 genes.\n",
      "  Calculating graph and diffusion operator...\n",
      "    Calculating PCA...\n",
      "    Calculated PCA in 2.74 seconds.\n",
      "    Calculating KNN search...\n",
      "    Calculated KNN search in 1.31 seconds.\n",
      "    Calculating affinities...\n",
      "    Calculated affinities in 1.29 seconds.\n",
      "  Calculated graph and diffusion operator in 5.39 seconds.\n",
      "  Running MAGIC with `solver='exact'` on 8102-dimensional data may take a long time. Consider denoising specific genes with `genes=<list-like>` or using `solver='approximate'`.\n",
      "  Calculating imputation...\n",
      "  Calculated imputation in 0.60 seconds.\n",
      "Calculated MAGIC in 6.05 seconds.\n"
     ]
    },
    {
     "name": "stderr",
     "output_type": "stream",
     "text": [
      "\r",
      " 40%|████      | 2/5 [00:43<01:10, 23.61s/it]"
     ]
    },
    {
     "name": "stdout",
     "output_type": "stream",
     "text": [
      "Calculating MAGIC...\n",
      "  Running MAGIC on 5362 cells and 9582 genes.\n",
      "  Calculating graph and diffusion operator...\n",
      "    Calculating PCA...\n",
      "    Calculated PCA in 5.72 seconds.\n",
      "    Calculating KNN search...\n",
      "    Calculated KNN search in 2.84 seconds.\n",
      "    Calculating affinities...\n",
      "    Calculated affinities in 2.78 seconds.\n",
      "  Calculated graph and diffusion operator in 11.41 seconds.\n",
      "  Running MAGIC with `solver='exact'` on 9582-dimensional data may take a long time. Consider denoising specific genes with `genes=<list-like>` or using `solver='approximate'`.\n",
      "  Calculating imputation...\n",
      "  Calculated imputation in 2.80 seconds.\n",
      "Calculated MAGIC in 14.31 seconds.\n"
     ]
    },
    {
     "name": "stderr",
     "output_type": "stream",
     "text": [
      "\r",
      " 60%|██████    | 3/5 [01:50<01:26, 43.16s/it]"
     ]
    },
    {
     "name": "stdout",
     "output_type": "stream",
     "text": [
      "Calculating MAGIC...\n",
      "  Running MAGIC on 4064 cells and 5125 genes.\n",
      "  Calculating graph and diffusion operator...\n",
      "    Calculating PCA...\n",
      "    Calculated PCA in 6.57 seconds.\n",
      "    Calculating KNN search...\n",
      "    Calculated KNN search in 1.55 seconds.\n",
      "    Calculating affinities...\n",
      "    Calculated affinities in 1.81 seconds.\n",
      "  Calculated graph and diffusion operator in 9.96 seconds.\n",
      "  Calculating imputation...\n",
      "  Calculated imputation in 1.56 seconds.\n",
      "Calculated MAGIC in 11.57 seconds.\n"
     ]
    },
    {
     "name": "stderr",
     "output_type": "stream",
     "text": [
      "\r",
      " 80%|████████  | 4/5 [02:47<00:48, 48.67s/it]"
     ]
    },
    {
     "name": "stdout",
     "output_type": "stream",
     "text": [
      "Calculating MAGIC...\n",
      "  Running MAGIC on 1471 cells and 1002 genes.\n",
      "  Calculating graph and diffusion operator...\n",
      "    Calculating PCA...\n",
      "    Calculated PCA in 5.83 seconds.\n",
      "    Calculating KNN search...\n",
      "    Calculated KNN search in 0.28 seconds.\n",
      "    Calculating affinities...\n",
      "    Calculated affinities in 0.24 seconds.\n",
      "  Calculated graph and diffusion operator in 6.38 seconds.\n",
      "  Calculating imputation...\n",
      "  Calculated imputation in 0.06 seconds.\n",
      "Calculated MAGIC in 6.45 seconds.\n"
     ]
    },
    {
     "name": "stderr",
     "output_type": "stream",
     "text": [
      "100%|██████████| 5/5 [03:24<00:00, 40.83s/it]\n"
     ]
    }
   ],
   "source": [
    "import time\n",
    "\n",
    "res = []\n",
    "dir_list = ['baron', 'brosens', 'carey', 'hcabm40k', 'chang']\n",
    "for i in tqdm(dir_list):\n",
    "    X_norm, labels = get_data(i)\n",
    "    start_time = time.time()\n",
    "    pred = magic.MAGIC().fit_transform(X_norm)\n",
    "    end_time = time.time()\n",
    "    res.append(end_time - start_time)"
   ]
  },
  {
   "cell_type": "code",
   "execution_count": 7,
   "id": "4d57b9d9",
   "metadata": {},
   "outputs": [
    {
     "data": {
      "text/plain": [
       "[4.1548027992248535,\n",
       " 6.057825088500977,\n",
       " 14.315088033676147,\n",
       " 11.572988033294678,\n",
       " 6.4484031200408936]"
      ]
     },
     "execution_count": 7,
     "metadata": {},
     "output_type": "execute_result"
    }
   ],
   "source": [
    "res"
   ]
  },
  {
   "cell_type": "code",
   "execution_count": null,
   "id": "47c7a008",
   "metadata": {},
   "outputs": [],
   "source": []
  },
  {
   "cell_type": "code",
   "execution_count": null,
   "id": "807cc41d",
   "metadata": {},
   "outputs": [],
   "source": []
  },
  {
   "cell_type": "code",
   "execution_count": null,
   "id": "24f5d419",
   "metadata": {},
   "outputs": [],
   "source": []
  },
  {
   "cell_type": "code",
   "execution_count": null,
   "id": "c14b4c3b",
   "metadata": {},
   "outputs": [],
   "source": []
  },
  {
   "cell_type": "code",
   "execution_count": null,
   "id": "dc5495f9",
   "metadata": {},
   "outputs": [],
   "source": []
  }
 ],
 "metadata": {
  "kernelspec": {
   "display_name": "gpu1",
   "language": "python",
   "name": "gpu1"
  },
  "language_info": {
   "codemirror_mode": {
    "name": "ipython",
    "version": 3
   },
   "file_extension": ".py",
   "mimetype": "text/x-python",
   "name": "python",
   "nbconvert_exporter": "python",
   "pygments_lexer": "ipython3",
   "version": "3.10.11"
  }
 },
 "nbformat": 4,
 "nbformat_minor": 5
}
