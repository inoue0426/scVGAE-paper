{
 "cells": [
  {
   "cell_type": "code",
   "execution_count": 1,
   "id": "249be191",
   "metadata": {},
   "outputs": [
    {
     "name": "stderr",
     "output_type": "stream",
     "text": [
      "/export/scratch/inoue019/envs/gnnimpute/lib/python3.6/site-packages/tqdm/auto.py:22: TqdmWarning: IProgress not found. Please update jupyter and ipywidgets. See https://ipywidgets.readthedocs.io/en/stable/user_install.html\n",
      "  from .autonotebook import tqdm as notebook_tqdm\n"
     ]
    }
   ],
   "source": [
    "import sys\n",
    "# ^^^ pyforest auto-imports - don't write above this line\n",
    "import numpy as np\n",
    "import pandas as pd\n",
    "import scanpy as sc\n",
    "\n",
    "from sklearn.metrics import adjusted_rand_score, adjusted_mutual_info_score, normalized_mutual_info_score\n",
    "from sklearn.cluster import KMeans, SpectralClustering\n",
    "from sklearn.cluster import SpectralClustering\n",
    "\n",
    "from sklearn.decomposition import PCA, SparsePCA, KernelPCA\n",
    "from sklearn.manifold import TSNE\n",
    "\n",
    "from rpy2.robjects import r, pandas2ri\n",
    "from rpy2.robjects.vectors import StrVector\n",
    "\n",
    "pandas2ri.activate()\n",
    "\n",
    "# import magic\n",
    "import scprep\n",
    "\n",
    "%matplotlib inline\n",
    "\n",
    "# from sklearnex import patch_sklearn\n",
    "# patch_sklearn()\n",
    "\n",
    "import warnings\n",
    "\n",
    "from sklearn.cluster import KMeans\n",
    "from tqdm import tqdm\n",
    "\n",
    "sys.path.insert(0, '../../imputation2/notebooks/repos/GNNImpute/')\n",
    "from GNNImpute.api import GNNImpute"
   ]
  },
  {
   "cell_type": "code",
   "execution_count": 2,
   "id": "30ec3cad",
   "metadata": {},
   "outputs": [],
   "source": [
    "def get_data(i):\n",
    "    df = pd.read_csv('../data/{}/data.csv.gz'.format(i), index_col=0)\n",
    "    tmp = np.sign(df)\n",
    "    cols = (np.sum(tmp) > int((df.shape[0])*0.05))\n",
    "    rows = (np.sum(tmp, axis=1) > int((df.shape[1])*0.05))\n",
    "    df = np.log(df.loc[rows, cols] + 1)\n",
    "    df_norm = df.copy()\n",
    "    df_norm = scprep.normalize.library_size_normalize(df_norm)    \n",
    "    df_norm = scprep.transform.sqrt(df_norm)\n",
    "    X_norm = pd.DataFrame(df_norm, columns=df.columns)\n",
    "    labels = df.index\n",
    "    return X_norm, labels"
   ]
  },
  {
   "cell_type": "code",
   "execution_count": 3,
   "id": "76180ba9",
   "metadata": {},
   "outputs": [
    {
     "name": "stdout",
     "output_type": "stream",
     "text": [
      "mkdir: cannot create directory ‘/export/scratch/inoue019/gnn_speed/’: File exists\r\n"
     ]
    }
   ],
   "source": [
    "!mkdir /export/scratch/inoue019/gnn_speed/"
   ]
  },
  {
   "cell_type": "code",
   "execution_count": 4,
   "id": "5ca5b0b2",
   "metadata": {
    "scrolled": true
   },
   "outputs": [
    {
     "name": "stderr",
     "output_type": "stream",
     "text": [
      "\r",
      "  0%|          | 0/5 [00:00<?, ?it/s]"
     ]
    },
    {
     "name": "stdout",
     "output_type": "stream",
     "text": [
      "Epoch: 0010 loss_train: 1.0002 loss_val: 0.9957\n",
      "Epoch: 0020 loss_train: 0.9982 loss_val: 0.9948\n",
      "Epoch: 0030 loss_train: 0.9961 loss_val: 0.9937\n",
      "Epoch: 0040 loss_train: 0.9905 loss_val: 0.9906\n",
      "Epoch: 0050 loss_train: 0.9847 loss_val: 0.9871\n",
      "Epoch: 0060 loss_train: 0.9819 loss_val: 0.9848\n",
      "Epoch: 0070 loss_train: 0.9767 loss_val: 0.9811\n",
      "Epoch: 0080 loss_train: 0.9726 loss_val: 0.9785\n",
      "Epoch: 0090 loss_train: 0.9691 loss_val: 0.9740\n",
      "Epoch: 0100 loss_train: 0.9652 loss_val: 0.9689\n",
      "Epoch: 0110 loss_train: 0.9645 loss_val: 0.9682\n",
      "Epoch: 0120 loss_train: 0.9629 loss_val: 0.9674\n",
      "Epoch: 0130 loss_train: 0.9619 loss_val: 0.9662\n",
      "Epoch: 0140 loss_train: 0.9611 loss_val: 0.9649\n",
      "Epoch: 0150 loss_train: 0.9607 loss_val: 0.9650\n",
      "Epoch: 0160 loss_train: 0.9598 loss_val: 0.9643\n",
      "Epoch: 0170 loss_train: 0.9594 loss_val: 0.9646\n",
      "Epoch: 0180 loss_train: 0.9597 loss_val: 0.9641\n",
      "Epoch: 0190 loss_train: 0.9598 loss_val: 0.9643\n",
      "Epoch: 0200 loss_train: 0.9594 loss_val: 0.9640\n",
      "Epoch: 0210 loss_train: 0.9591 loss_val: 0.9638\n",
      "Epoch: 0220 loss_train: 0.9591 loss_val: 0.9635\n",
      "Epoch: 0230 loss_train: 0.9586 loss_val: 0.9631\n",
      "Epoch: 0240 loss_train: 0.9591 loss_val: 0.9627\n",
      "Epoch: 0250 loss_train: 0.9585 loss_val: 0.9629\n",
      "Epoch: 0260 loss_train: 0.9594 loss_val: 0.9626\n",
      "Epoch: 0270 loss_train: 0.9588 loss_val: 0.9625\n",
      "Epoch: 0280 loss_train: 0.9594 loss_val: 0.9630\n",
      "Epoch: 0290 loss_train: 0.9587 loss_val: 0.9627\n",
      "Epoch: 0300 loss_train: 0.9590 loss_val: 0.9627\n",
      "Epoch: 0310 loss_train: 0.9587 loss_val: 0.9629\n",
      "Epoch: 0320 loss_train: 0.9594 loss_val: 0.9629\n",
      "Epoch: 0330 loss_train: 0.9587 loss_val: 0.9635\n",
      "Epoch: 0340 loss_train: 0.9586 loss_val: 0.9632\n",
      "Epoch: 0350 loss_train: 0.9595 loss_val: 0.9627\n",
      "Epoch: 0360 loss_train: 0.9596 loss_val: 0.9639\n",
      "Epoch: 0370 loss_train: 0.9600 loss_val: 0.9631\n",
      "Epoch: 0380 loss_train: 0.9590 loss_val: 0.9638\n",
      "Epoch: 0390 loss_train: 0.9600 loss_val: 0.9635\n",
      "Epoch: 0400 loss_train: 0.9599 loss_val: 0.9633\n",
      "Epoch: 0410 loss_train: 0.9599 loss_val: 0.9635\n",
      "Epoch: 0420 loss_train: 0.9601 loss_val: 0.9636\n",
      "Epoch: 0430 loss_train: 0.9596 loss_val: 0.9632\n",
      "Epoch: 0440 loss_train: 0.9600 loss_val: 0.9637\n",
      "Epoch: 0450 loss_train: 0.9600 loss_val: 0.9638\n",
      "Epoch: 0460 loss_train: 0.9601 loss_val: 0.9632\n",
      "Epoch: 0470 loss_train: 0.9596 loss_val: 0.9641\n",
      "Epoch: 0480 loss_train: 0.9598 loss_val: 0.9643\n",
      "Epoch: 0490 loss_train: 0.9605 loss_val: 0.9642\n",
      "Epoch: 0500 loss_train: 0.9602 loss_val: 0.9639\n",
      "['/export/scratch/inoue019/gnn_speed/55.pkl', '/export/scratch/inoue019/gnn_speed/221.pkl', '/export/scratch/inoue019/gnn_speed/85.pkl', '/export/scratch/inoue019/gnn_speed/52.pkl', '/export/scratch/inoue019/gnn_speed/45.pkl', '/export/scratch/inoue019/gnn_speed/13.pkl', '/export/scratch/inoue019/gnn_speed/58.pkl', '/export/scratch/inoue019/gnn_speed/155.pkl', '/export/scratch/inoue019/gnn_speed/20.pkl', '/export/scratch/inoue019/gnn_speed/14.pkl', '/export/scratch/inoue019/gnn_speed/100.pkl', '/export/scratch/inoue019/gnn_speed/65.pkl', '/export/scratch/inoue019/gnn_speed/159.pkl', '/export/scratch/inoue019/gnn_speed/73.pkl', '/export/scratch/inoue019/gnn_speed/76.pkl', '/export/scratch/inoue019/gnn_speed/90.pkl', '/export/scratch/inoue019/gnn_speed/87.pkl', '/export/scratch/inoue019/gnn_speed/56.pkl', '/export/scratch/inoue019/gnn_speed/227.pkl', '/export/scratch/inoue019/gnn_speed/222.pkl', '/export/scratch/inoue019/gnn_speed/9.pkl', '/export/scratch/inoue019/gnn_speed/274.pkl', '/export/scratch/inoue019/gnn_speed/122.pkl', '/export/scratch/inoue019/gnn_speed/67.pkl', '/export/scratch/inoue019/gnn_speed/133.pkl', '/export/scratch/inoue019/gnn_speed/105.pkl', '/export/scratch/inoue019/gnn_speed/17.pkl', '/export/scratch/inoue019/gnn_speed/22.pkl', '/export/scratch/inoue019/gnn_speed/136.pkl', '/export/scratch/inoue019/gnn_speed/75.pkl', '/export/scratch/inoue019/gnn_speed/103.pkl', '/export/scratch/inoue019/gnn_speed/23.pkl', '/export/scratch/inoue019/gnn_speed/15.pkl', '/export/scratch/inoue019/gnn_speed/89.pkl', '/export/scratch/inoue019/gnn_speed/270.pkl', '/export/scratch/inoue019/gnn_speed/301.pkl', '/export/scratch/inoue019/gnn_speed/60.pkl', '/export/scratch/inoue019/gnn_speed/160.pkl', '/export/scratch/inoue019/gnn_speed/224.pkl', '/export/scratch/inoue019/gnn_speed/61.pkl', '/export/scratch/inoue019/gnn_speed/335.pkl', '/export/scratch/inoue019/gnn_speed/6.pkl', '/export/scratch/inoue019/gnn_speed/157.pkl', '/export/scratch/inoue019/gnn_speed/99.pkl', '/export/scratch/inoue019/gnn_speed/41.pkl', '/export/scratch/inoue019/gnn_speed/34.pkl', '/export/scratch/inoue019/gnn_speed/102.pkl', '/export/scratch/inoue019/gnn_speed/7.pkl', '/export/scratch/inoue019/gnn_speed/44.pkl', '/export/scratch/inoue019/gnn_speed/38.pkl', '/export/scratch/inoue019/gnn_speed/49.pkl', '/export/scratch/inoue019/gnn_speed/59.pkl', '/export/scratch/inoue019/gnn_speed/0.pkl', '/export/scratch/inoue019/gnn_speed/28.pkl', '/export/scratch/inoue019/gnn_speed/74.pkl', '/export/scratch/inoue019/gnn_speed/94.pkl', '/export/scratch/inoue019/gnn_speed/127.pkl', '/export/scratch/inoue019/gnn_speed/163.pkl', '/export/scratch/inoue019/gnn_speed/135.pkl', '/export/scratch/inoue019/gnn_speed/84.pkl', '/export/scratch/inoue019/gnn_speed/165.pkl', '/export/scratch/inoue019/gnn_speed/35.pkl', '/export/scratch/inoue019/gnn_speed/37.pkl', '/export/scratch/inoue019/gnn_speed/115.pkl', '/export/scratch/inoue019/gnn_speed/3.pkl', '/export/scratch/inoue019/gnn_speed/86.pkl', '/export/scratch/inoue019/gnn_speed/262.pkl', '/export/scratch/inoue019/gnn_speed/48.pkl', '/export/scratch/inoue019/gnn_speed/116.pkl', '/export/scratch/inoue019/gnn_speed/47.pkl', '/export/scratch/inoue019/gnn_speed/64.pkl', '/export/scratch/inoue019/gnn_speed/66.pkl', '/export/scratch/inoue019/gnn_speed/27.pkl', '/export/scratch/inoue019/gnn_speed/156.pkl', '/export/scratch/inoue019/gnn_speed/137.pkl', '/export/scratch/inoue019/gnn_speed/96.pkl', '/export/scratch/inoue019/gnn_speed/139.pkl', '/export/scratch/inoue019/gnn_speed/16.pkl', '/export/scratch/inoue019/gnn_speed/92.pkl', '/export/scratch/inoue019/gnn_speed/70.pkl', '/export/scratch/inoue019/gnn_speed/93.pkl', '/export/scratch/inoue019/gnn_speed/68.pkl', '/export/scratch/inoue019/gnn_speed/98.pkl', '/export/scratch/inoue019/gnn_speed/10.pkl', '/export/scratch/inoue019/gnn_speed/202.pkl', '/export/scratch/inoue019/gnn_speed/62.pkl', '/export/scratch/inoue019/gnn_speed/21.pkl', '/export/scratch/inoue019/gnn_speed/164.pkl', '/export/scratch/inoue019/gnn_speed/42.pkl', '/export/scratch/inoue019/gnn_speed/33.pkl', '/export/scratch/inoue019/gnn_speed/25.pkl', '/export/scratch/inoue019/gnn_speed/31.pkl', '/export/scratch/inoue019/gnn_speed/226.pkl', '/export/scratch/inoue019/gnn_speed/88.pkl', '/export/scratch/inoue019/gnn_speed/113.pkl', '/export/scratch/inoue019/gnn_speed/53.pkl', '/export/scratch/inoue019/gnn_speed/240.pkl', '/export/scratch/inoue019/gnn_speed/40.pkl', '/export/scratch/inoue019/gnn_speed/158.pkl', '/export/scratch/inoue019/gnn_speed/26.pkl', '/export/scratch/inoue019/gnn_speed/138.pkl', '/export/scratch/inoue019/gnn_speed/24.pkl', '/export/scratch/inoue019/gnn_speed/83.pkl', '/export/scratch/inoue019/gnn_speed/203.pkl', '/export/scratch/inoue019/gnn_speed/71.pkl', '/export/scratch/inoue019/gnn_speed/126.pkl', '/export/scratch/inoue019/gnn_speed/72.pkl', '/export/scratch/inoue019/gnn_speed/32.pkl', '/export/scratch/inoue019/gnn_speed/30.pkl', '/export/scratch/inoue019/gnn_speed/124.pkl', '/export/scratch/inoue019/gnn_speed/43.pkl', '/export/scratch/inoue019/gnn_speed/4.pkl', '/export/scratch/inoue019/gnn_speed/36.pkl', '/export/scratch/inoue019/gnn_speed/63.pkl', '/export/scratch/inoue019/gnn_speed/1.pkl', '/export/scratch/inoue019/gnn_speed/50.pkl', '/export/scratch/inoue019/gnn_speed/269.pkl', '/export/scratch/inoue019/gnn_speed/46.pkl', '/export/scratch/inoue019/gnn_speed/223.pkl', '/export/scratch/inoue019/gnn_speed/11.pkl', '/export/scratch/inoue019/gnn_speed/39.pkl', '/export/scratch/inoue019/gnn_speed/19.pkl', '/export/scratch/inoue019/gnn_speed/101.pkl', '/export/scratch/inoue019/gnn_speed/12.pkl', '/export/scratch/inoue019/gnn_speed/204.pkl', '/export/scratch/inoue019/gnn_speed/125.pkl', '/export/scratch/inoue019/gnn_speed/95.pkl', '/export/scratch/inoue019/gnn_speed/5.pkl', '/export/scratch/inoue019/gnn_speed/18.pkl', '/export/scratch/inoue019/gnn_speed/82.pkl', '/export/scratch/inoue019/gnn_speed/69.pkl', '/export/scratch/inoue019/gnn_speed/225.pkl', '/export/scratch/inoue019/gnn_speed/97.pkl', '/export/scratch/inoue019/gnn_speed/29.pkl', '/export/scratch/inoue019/gnn_speed/140.pkl', '/export/scratch/inoue019/gnn_speed/57.pkl', '/export/scratch/inoue019/gnn_speed/2.pkl', '/export/scratch/inoue019/gnn_speed/51.pkl', '/export/scratch/inoue019/gnn_speed/123.pkl', '/export/scratch/inoue019/gnn_speed/77.pkl', '/export/scratch/inoue019/gnn_speed/134.pkl', '/export/scratch/inoue019/gnn_speed/8.pkl', '/export/scratch/inoue019/gnn_speed/213.pkl', '/export/scratch/inoue019/gnn_speed/91.pkl', '/export/scratch/inoue019/gnn_speed/114.pkl']\n"
     ]
    },
    {
     "name": "stderr",
     "output_type": "stream",
     "text": [
      "\r",
      " 20%|██        | 1/5 [00:45<03:00, 45.23s/it]"
     ]
    },
    {
     "name": "stdout",
     "output_type": "stream",
     "text": [
      "Total time elapsed: 29.6530s\n",
      "Epoch: 0010 loss_train: 0.9996 loss_val: 0.9980\n",
      "Epoch: 0020 loss_train: 0.9984 loss_val: 0.9967\n",
      "Epoch: 0030 loss_train: 0.9915 loss_val: 0.9898\n",
      "Epoch: 0040 loss_train: 0.9812 loss_val: 0.9823\n",
      "Epoch: 0050 loss_train: 0.9723 loss_val: 0.9765\n",
      "Epoch: 0060 loss_train: 0.9669 loss_val: 0.9703\n",
      "Epoch: 0070 loss_train: 0.9640 loss_val: 0.9676\n",
      "Epoch: 0080 loss_train: 0.9624 loss_val: 0.9651\n",
      "Epoch: 0090 loss_train: 0.9623 loss_val: 0.9632\n",
      "Epoch: 0100 loss_train: 0.9612 loss_val: 0.9630\n",
      "Epoch: 0110 loss_train: 0.9605 loss_val: 0.9627\n",
      "Epoch: 0120 loss_train: 0.9604 loss_val: 0.9619\n",
      "Epoch: 0130 loss_train: 0.9599 loss_val: 0.9621\n",
      "Epoch: 0140 loss_train: 0.9596 loss_val: 0.9617\n",
      "Epoch: 0150 loss_train: 0.9596 loss_val: 0.9612\n",
      "Epoch: 0160 loss_train: 0.9589 loss_val: 0.9615\n",
      "Epoch: 0170 loss_train: 0.9591 loss_val: 0.9615\n",
      "Epoch: 0180 loss_train: 0.9588 loss_val: 0.9613\n",
      "Epoch: 0190 loss_train: 0.9589 loss_val: 0.9609\n",
      "Epoch: 0200 loss_train: 0.9584 loss_val: 0.9607\n",
      "Epoch: 0210 loss_train: 0.9585 loss_val: 0.9607\n",
      "Epoch: 0220 loss_train: 0.9589 loss_val: 0.9604\n",
      "Epoch: 0230 loss_train: 0.9585 loss_val: 0.9600\n",
      "Epoch: 0240 loss_train: 0.9588 loss_val: 0.9595\n",
      "Epoch: 0250 loss_train: 0.9586 loss_val: 0.9597\n",
      "Epoch: 0260 loss_train: 0.9587 loss_val: 0.9599\n",
      "Epoch: 0270 loss_train: 0.9588 loss_val: 0.9595\n",
      "Epoch: 0280 loss_train: 0.9590 loss_val: 0.9597\n",
      "Epoch: 0290 loss_train: 0.9588 loss_val: 0.9599\n",
      "Epoch: 0300 loss_train: 0.9591 loss_val: 0.9601\n",
      "Epoch: 0310 loss_train: 0.9588 loss_val: 0.9601\n",
      "Epoch: 0320 loss_train: 0.9587 loss_val: 0.9603\n",
      "Epoch: 0330 loss_train: 0.9592 loss_val: 0.9598\n",
      "Epoch: 0340 loss_train: 0.9590 loss_val: 0.9598\n",
      "Epoch: 0350 loss_train: 0.9590 loss_val: 0.9600\n",
      "Epoch: 0360 loss_train: 0.9589 loss_val: 0.9601\n",
      "Epoch: 0370 loss_train: 0.9591 loss_val: 0.9607\n",
      "Epoch: 0380 loss_train: 0.9592 loss_val: 0.9602\n",
      "Epoch: 0390 loss_train: 0.9597 loss_val: 0.9603\n",
      "Epoch: 0400 loss_train: 0.9596 loss_val: 0.9607\n",
      "Epoch: 0410 loss_train: 0.9597 loss_val: 0.9604\n",
      "Epoch: 0420 loss_train: 0.9593 loss_val: 0.9607\n",
      "Epoch: 0430 loss_train: 0.9596 loss_val: 0.9607\n",
      "Epoch: 0440 loss_train: 0.9594 loss_val: 0.9608\n",
      "Epoch: 0450 loss_train: 0.9597 loss_val: 0.9611\n",
      "Epoch: 0460 loss_train: 0.9601 loss_val: 0.9612\n",
      "Epoch: 0470 loss_train: 0.9600 loss_val: 0.9606\n",
      "['/export/scratch/inoue019/gnn_speed/55.pkl', '/export/scratch/inoue019/gnn_speed/85.pkl', '/export/scratch/inoue019/gnn_speed/107.pkl', '/export/scratch/inoue019/gnn_speed/52.pkl', '/export/scratch/inoue019/gnn_speed/45.pkl', '/export/scratch/inoue019/gnn_speed/13.pkl', '/export/scratch/inoue019/gnn_speed/231.pkl', '/export/scratch/inoue019/gnn_speed/58.pkl', '/export/scratch/inoue019/gnn_speed/192.pkl', '/export/scratch/inoue019/gnn_speed/20.pkl', '/export/scratch/inoue019/gnn_speed/117.pkl', '/export/scratch/inoue019/gnn_speed/14.pkl', '/export/scratch/inoue019/gnn_speed/233.pkl', '/export/scratch/inoue019/gnn_speed/100.pkl', '/export/scratch/inoue019/gnn_speed/65.pkl', '/export/scratch/inoue019/gnn_speed/73.pkl', '/export/scratch/inoue019/gnn_speed/76.pkl', '/export/scratch/inoue019/gnn_speed/90.pkl', '/export/scratch/inoue019/gnn_speed/87.pkl', '/export/scratch/inoue019/gnn_speed/56.pkl', '/export/scratch/inoue019/gnn_speed/236.pkl', '/export/scratch/inoue019/gnn_speed/112.pkl', '/export/scratch/inoue019/gnn_speed/222.pkl', '/export/scratch/inoue019/gnn_speed/78.pkl', '/export/scratch/inoue019/gnn_speed/9.pkl', '/export/scratch/inoue019/gnn_speed/67.pkl', '/export/scratch/inoue019/gnn_speed/133.pkl', '/export/scratch/inoue019/gnn_speed/148.pkl', '/export/scratch/inoue019/gnn_speed/17.pkl', '/export/scratch/inoue019/gnn_speed/22.pkl', '/export/scratch/inoue019/gnn_speed/119.pkl', '/export/scratch/inoue019/gnn_speed/230.pkl', '/export/scratch/inoue019/gnn_speed/212.pkl', '/export/scratch/inoue019/gnn_speed/272.pkl', '/export/scratch/inoue019/gnn_speed/75.pkl', '/export/scratch/inoue019/gnn_speed/103.pkl', '/export/scratch/inoue019/gnn_speed/132.pkl', '/export/scratch/inoue019/gnn_speed/23.pkl', '/export/scratch/inoue019/gnn_speed/80.pkl', '/export/scratch/inoue019/gnn_speed/15.pkl', '/export/scratch/inoue019/gnn_speed/89.pkl', '/export/scratch/inoue019/gnn_speed/301.pkl', '/export/scratch/inoue019/gnn_speed/60.pkl', '/export/scratch/inoue019/gnn_speed/61.pkl', '/export/scratch/inoue019/gnn_speed/161.pkl', '/export/scratch/inoue019/gnn_speed/6.pkl', '/export/scratch/inoue019/gnn_speed/54.pkl', '/export/scratch/inoue019/gnn_speed/41.pkl', '/export/scratch/inoue019/gnn_speed/34.pkl', '/export/scratch/inoue019/gnn_speed/7.pkl', '/export/scratch/inoue019/gnn_speed/44.pkl', '/export/scratch/inoue019/gnn_speed/38.pkl', '/export/scratch/inoue019/gnn_speed/49.pkl', '/export/scratch/inoue019/gnn_speed/59.pkl', '/export/scratch/inoue019/gnn_speed/0.pkl', '/export/scratch/inoue019/gnn_speed/28.pkl', '/export/scratch/inoue019/gnn_speed/74.pkl', '/export/scratch/inoue019/gnn_speed/84.pkl', '/export/scratch/inoue019/gnn_speed/149.pkl', '/export/scratch/inoue019/gnn_speed/35.pkl', '/export/scratch/inoue019/gnn_speed/37.pkl', '/export/scratch/inoue019/gnn_speed/115.pkl', '/export/scratch/inoue019/gnn_speed/3.pkl', '/export/scratch/inoue019/gnn_speed/86.pkl', '/export/scratch/inoue019/gnn_speed/48.pkl', '/export/scratch/inoue019/gnn_speed/162.pkl', '/export/scratch/inoue019/gnn_speed/47.pkl', '/export/scratch/inoue019/gnn_speed/64.pkl', '/export/scratch/inoue019/gnn_speed/66.pkl', '/export/scratch/inoue019/gnn_speed/27.pkl', '/export/scratch/inoue019/gnn_speed/139.pkl', '/export/scratch/inoue019/gnn_speed/16.pkl', '/export/scratch/inoue019/gnn_speed/70.pkl', '/export/scratch/inoue019/gnn_speed/79.pkl', '/export/scratch/inoue019/gnn_speed/68.pkl', '/export/scratch/inoue019/gnn_speed/10.pkl', '/export/scratch/inoue019/gnn_speed/186.pkl', '/export/scratch/inoue019/gnn_speed/211.pkl', '/export/scratch/inoue019/gnn_speed/62.pkl', '/export/scratch/inoue019/gnn_speed/21.pkl', '/export/scratch/inoue019/gnn_speed/147.pkl', '/export/scratch/inoue019/gnn_speed/42.pkl', '/export/scratch/inoue019/gnn_speed/33.pkl', '/export/scratch/inoue019/gnn_speed/25.pkl', '/export/scratch/inoue019/gnn_speed/31.pkl', '/export/scratch/inoue019/gnn_speed/88.pkl', '/export/scratch/inoue019/gnn_speed/113.pkl', '/export/scratch/inoue019/gnn_speed/53.pkl', '/export/scratch/inoue019/gnn_speed/40.pkl', '/export/scratch/inoue019/gnn_speed/26.pkl', '/export/scratch/inoue019/gnn_speed/24.pkl', '/export/scratch/inoue019/gnn_speed/83.pkl', '/export/scratch/inoue019/gnn_speed/203.pkl', '/export/scratch/inoue019/gnn_speed/71.pkl', '/export/scratch/inoue019/gnn_speed/72.pkl', '/export/scratch/inoue019/gnn_speed/32.pkl', '/export/scratch/inoue019/gnn_speed/30.pkl', '/export/scratch/inoue019/gnn_speed/43.pkl', '/export/scratch/inoue019/gnn_speed/4.pkl', '/export/scratch/inoue019/gnn_speed/36.pkl', '/export/scratch/inoue019/gnn_speed/63.pkl', '/export/scratch/inoue019/gnn_speed/118.pkl', '/export/scratch/inoue019/gnn_speed/1.pkl', '/export/scratch/inoue019/gnn_speed/50.pkl', '/export/scratch/inoue019/gnn_speed/81.pkl', '/export/scratch/inoue019/gnn_speed/269.pkl', '/export/scratch/inoue019/gnn_speed/46.pkl', '/export/scratch/inoue019/gnn_speed/223.pkl', '/export/scratch/inoue019/gnn_speed/11.pkl', '/export/scratch/inoue019/gnn_speed/39.pkl', '/export/scratch/inoue019/gnn_speed/19.pkl', '/export/scratch/inoue019/gnn_speed/189.pkl', '/export/scratch/inoue019/gnn_speed/101.pkl', '/export/scratch/inoue019/gnn_speed/12.pkl', '/export/scratch/inoue019/gnn_speed/190.pkl', '/export/scratch/inoue019/gnn_speed/238.pkl', '/export/scratch/inoue019/gnn_speed/237.pkl', '/export/scratch/inoue019/gnn_speed/187.pkl', '/export/scratch/inoue019/gnn_speed/95.pkl', '/export/scratch/inoue019/gnn_speed/131.pkl', '/export/scratch/inoue019/gnn_speed/5.pkl', '/export/scratch/inoue019/gnn_speed/18.pkl', '/export/scratch/inoue019/gnn_speed/82.pkl', '/export/scratch/inoue019/gnn_speed/69.pkl', '/export/scratch/inoue019/gnn_speed/29.pkl', '/export/scratch/inoue019/gnn_speed/140.pkl', '/export/scratch/inoue019/gnn_speed/57.pkl', '/export/scratch/inoue019/gnn_speed/2.pkl', '/export/scratch/inoue019/gnn_speed/51.pkl', '/export/scratch/inoue019/gnn_speed/77.pkl', '/export/scratch/inoue019/gnn_speed/134.pkl', '/export/scratch/inoue019/gnn_speed/8.pkl', '/export/scratch/inoue019/gnn_speed/228.pkl', '/export/scratch/inoue019/gnn_speed/213.pkl', '/export/scratch/inoue019/gnn_speed/191.pkl', '/export/scratch/inoue019/gnn_speed/91.pkl', '/export/scratch/inoue019/gnn_speed/111.pkl', '/export/scratch/inoue019/gnn_speed/114.pkl']\n"
     ]
    },
    {
     "name": "stderr",
     "output_type": "stream",
     "text": [
      "\r",
      " 40%|████      | 2/5 [02:10<03:25, 68.64s/it]"
     ]
    },
    {
     "name": "stdout",
     "output_type": "stream",
     "text": [
      "Total time elapsed: 48.7694s\n",
      "Epoch: 0010 loss_train: 0.9997 loss_val: 0.9994\n",
      "Epoch: 0020 loss_train: 0.9982 loss_val: 0.9983\n",
      "Epoch: 0030 loss_train: 0.9931 loss_val: 0.9945\n",
      "Epoch: 0040 loss_train: 0.9805 loss_val: 0.9828\n",
      "Epoch: 0050 loss_train: 0.9704 loss_val: 0.9749\n",
      "Epoch: 0060 loss_train: 0.9627 loss_val: 0.9689\n",
      "Epoch: 0070 loss_train: 0.9573 loss_val: 0.9610\n",
      "Epoch: 0080 loss_train: 0.9536 loss_val: 0.9571\n",
      "Epoch: 0090 loss_train: 0.9518 loss_val: 0.9548\n",
      "Epoch: 0100 loss_train: 0.9507 loss_val: 0.9520\n",
      "Epoch: 0110 loss_train: 0.9493 loss_val: 0.9502\n",
      "Epoch: 0120 loss_train: 0.9483 loss_val: 0.9498\n",
      "Epoch: 0130 loss_train: 0.9481 loss_val: 0.9492\n",
      "Epoch: 0140 loss_train: 0.9479 loss_val: 0.9492\n",
      "Epoch: 0150 loss_train: 0.9474 loss_val: 0.9489\n",
      "Epoch: 0160 loss_train: 0.9472 loss_val: 0.9496\n",
      "Epoch: 0170 loss_train: 0.9468 loss_val: 0.9490\n",
      "Epoch: 0180 loss_train: 0.9466 loss_val: 0.9488\n",
      "Epoch: 0190 loss_train: 0.9462 loss_val: 0.9486\n",
      "Epoch: 0200 loss_train: 0.9462 loss_val: 0.9475\n",
      "Epoch: 0210 loss_train: 0.9459 loss_val: 0.9474\n",
      "Epoch: 0220 loss_train: 0.9461 loss_val: 0.9460\n",
      "Epoch: 0230 loss_train: 0.9461 loss_val: 0.9458\n",
      "Epoch: 0240 loss_train: 0.9461 loss_val: 0.9458\n",
      "Epoch: 0250 loss_train: 0.9457 loss_val: 0.9455\n",
      "Epoch: 0260 loss_train: 0.9463 loss_val: 0.9459\n",
      "Epoch: 0270 loss_train: 0.9462 loss_val: 0.9456\n",
      "Epoch: 0280 loss_train: 0.9460 loss_val: 0.9456\n",
      "Epoch: 0290 loss_train: 0.9460 loss_val: 0.9458\n",
      "Epoch: 0300 loss_train: 0.9460 loss_val: 0.9460\n",
      "Epoch: 0310 loss_train: 0.9465 loss_val: 0.9461\n",
      "Epoch: 0320 loss_train: 0.9462 loss_val: 0.9457\n",
      "Epoch: 0330 loss_train: 0.9464 loss_val: 0.9464\n",
      "Epoch: 0340 loss_train: 0.9465 loss_val: 0.9468\n",
      "Epoch: 0350 loss_train: 0.9469 loss_val: 0.9457\n",
      "Epoch: 0360 loss_train: 0.9468 loss_val: 0.9468\n",
      "Epoch: 0370 loss_train: 0.9470 loss_val: 0.9464\n",
      "Epoch: 0380 loss_train: 0.9466 loss_val: 0.9463\n",
      "Epoch: 0390 loss_train: 0.9470 loss_val: 0.9469\n",
      "Epoch: 0400 loss_train: 0.9476 loss_val: 0.9468\n",
      "Epoch: 0410 loss_train: 0.9475 loss_val: 0.9468\n",
      "Epoch: 0420 loss_train: 0.9475 loss_val: 0.9466\n",
      "Epoch: 0430 loss_train: 0.9476 loss_val: 0.9472\n",
      "Epoch: 0440 loss_train: 0.9478 loss_val: 0.9468\n",
      "Epoch: 0450 loss_train: 0.9475 loss_val: 0.9476\n",
      "Epoch: 0460 loss_train: 0.9478 loss_val: 0.9474\n",
      "Epoch: 0470 loss_train: 0.9477 loss_val: 0.9479\n",
      "Epoch: 0480 loss_train: 0.9479 loss_val: 0.9479\n",
      "Epoch: 0490 loss_train: 0.9480 loss_val: 0.9474\n",
      "Epoch: 0500 loss_train: 0.9481 loss_val: 0.9479\n",
      "['/export/scratch/inoue019/gnn_speed/55.pkl', '/export/scratch/inoue019/gnn_speed/85.pkl', '/export/scratch/inoue019/gnn_speed/172.pkl', '/export/scratch/inoue019/gnn_speed/107.pkl', '/export/scratch/inoue019/gnn_speed/52.pkl', '/export/scratch/inoue019/gnn_speed/45.pkl', '/export/scratch/inoue019/gnn_speed/13.pkl', '/export/scratch/inoue019/gnn_speed/58.pkl', '/export/scratch/inoue019/gnn_speed/192.pkl', '/export/scratch/inoue019/gnn_speed/194.pkl', '/export/scratch/inoue019/gnn_speed/183.pkl', '/export/scratch/inoue019/gnn_speed/20.pkl', '/export/scratch/inoue019/gnn_speed/129.pkl', '/export/scratch/inoue019/gnn_speed/14.pkl', '/export/scratch/inoue019/gnn_speed/100.pkl', '/export/scratch/inoue019/gnn_speed/65.pkl', '/export/scratch/inoue019/gnn_speed/73.pkl', '/export/scratch/inoue019/gnn_speed/76.pkl', '/export/scratch/inoue019/gnn_speed/90.pkl', '/export/scratch/inoue019/gnn_speed/87.pkl', '/export/scratch/inoue019/gnn_speed/56.pkl', '/export/scratch/inoue019/gnn_speed/236.pkl', '/export/scratch/inoue019/gnn_speed/78.pkl', '/export/scratch/inoue019/gnn_speed/9.pkl', '/export/scratch/inoue019/gnn_speed/171.pkl', '/export/scratch/inoue019/gnn_speed/122.pkl', '/export/scratch/inoue019/gnn_speed/67.pkl', '/export/scratch/inoue019/gnn_speed/109.pkl', '/export/scratch/inoue019/gnn_speed/105.pkl', '/export/scratch/inoue019/gnn_speed/108.pkl', '/export/scratch/inoue019/gnn_speed/17.pkl', '/export/scratch/inoue019/gnn_speed/22.pkl', '/export/scratch/inoue019/gnn_speed/210.pkl', '/export/scratch/inoue019/gnn_speed/136.pkl', '/export/scratch/inoue019/gnn_speed/235.pkl', '/export/scratch/inoue019/gnn_speed/272.pkl', '/export/scratch/inoue019/gnn_speed/75.pkl', '/export/scratch/inoue019/gnn_speed/103.pkl', '/export/scratch/inoue019/gnn_speed/132.pkl', '/export/scratch/inoue019/gnn_speed/23.pkl', '/export/scratch/inoue019/gnn_speed/80.pkl', '/export/scratch/inoue019/gnn_speed/15.pkl', '/export/scratch/inoue019/gnn_speed/89.pkl', '/export/scratch/inoue019/gnn_speed/60.pkl', '/export/scratch/inoue019/gnn_speed/61.pkl', '/export/scratch/inoue019/gnn_speed/6.pkl', '/export/scratch/inoue019/gnn_speed/54.pkl', '/export/scratch/inoue019/gnn_speed/99.pkl', '/export/scratch/inoue019/gnn_speed/41.pkl', '/export/scratch/inoue019/gnn_speed/220.pkl', '/export/scratch/inoue019/gnn_speed/206.pkl', '/export/scratch/inoue019/gnn_speed/34.pkl', '/export/scratch/inoue019/gnn_speed/242.pkl', '/export/scratch/inoue019/gnn_speed/102.pkl', '/export/scratch/inoue019/gnn_speed/7.pkl', '/export/scratch/inoue019/gnn_speed/44.pkl', '/export/scratch/inoue019/gnn_speed/38.pkl', '/export/scratch/inoue019/gnn_speed/49.pkl', '/export/scratch/inoue019/gnn_speed/59.pkl', '/export/scratch/inoue019/gnn_speed/0.pkl', '/export/scratch/inoue019/gnn_speed/28.pkl', '/export/scratch/inoue019/gnn_speed/74.pkl', '/export/scratch/inoue019/gnn_speed/94.pkl', '/export/scratch/inoue019/gnn_speed/127.pkl', '/export/scratch/inoue019/gnn_speed/135.pkl', '/export/scratch/inoue019/gnn_speed/84.pkl', '/export/scratch/inoue019/gnn_speed/185.pkl', '/export/scratch/inoue019/gnn_speed/35.pkl', '/export/scratch/inoue019/gnn_speed/37.pkl', '/export/scratch/inoue019/gnn_speed/115.pkl', '/export/scratch/inoue019/gnn_speed/3.pkl', '/export/scratch/inoue019/gnn_speed/86.pkl', '/export/scratch/inoue019/gnn_speed/48.pkl', '/export/scratch/inoue019/gnn_speed/47.pkl', '/export/scratch/inoue019/gnn_speed/64.pkl', '/export/scratch/inoue019/gnn_speed/66.pkl', '/export/scratch/inoue019/gnn_speed/27.pkl', '/export/scratch/inoue019/gnn_speed/141.pkl', '/export/scratch/inoue019/gnn_speed/219.pkl', '/export/scratch/inoue019/gnn_speed/96.pkl', '/export/scratch/inoue019/gnn_speed/16.pkl', '/export/scratch/inoue019/gnn_speed/92.pkl', '/export/scratch/inoue019/gnn_speed/145.pkl', '/export/scratch/inoue019/gnn_speed/130.pkl', '/export/scratch/inoue019/gnn_speed/70.pkl', '/export/scratch/inoue019/gnn_speed/93.pkl', '/export/scratch/inoue019/gnn_speed/143.pkl', '/export/scratch/inoue019/gnn_speed/110.pkl', '/export/scratch/inoue019/gnn_speed/79.pkl', '/export/scratch/inoue019/gnn_speed/104.pkl', '/export/scratch/inoue019/gnn_speed/68.pkl', '/export/scratch/inoue019/gnn_speed/98.pkl', '/export/scratch/inoue019/gnn_speed/10.pkl', '/export/scratch/inoue019/gnn_speed/202.pkl', '/export/scratch/inoue019/gnn_speed/211.pkl', '/export/scratch/inoue019/gnn_speed/62.pkl', '/export/scratch/inoue019/gnn_speed/21.pkl', '/export/scratch/inoue019/gnn_speed/147.pkl', '/export/scratch/inoue019/gnn_speed/42.pkl', '/export/scratch/inoue019/gnn_speed/33.pkl', '/export/scratch/inoue019/gnn_speed/25.pkl', '/export/scratch/inoue019/gnn_speed/31.pkl', '/export/scratch/inoue019/gnn_speed/88.pkl', '/export/scratch/inoue019/gnn_speed/113.pkl', '/export/scratch/inoue019/gnn_speed/53.pkl', '/export/scratch/inoue019/gnn_speed/40.pkl', '/export/scratch/inoue019/gnn_speed/106.pkl', '/export/scratch/inoue019/gnn_speed/26.pkl', '/export/scratch/inoue019/gnn_speed/24.pkl', '/export/scratch/inoue019/gnn_speed/83.pkl', '/export/scratch/inoue019/gnn_speed/71.pkl', '/export/scratch/inoue019/gnn_speed/72.pkl', '/export/scratch/inoue019/gnn_speed/32.pkl', '/export/scratch/inoue019/gnn_speed/30.pkl', '/export/scratch/inoue019/gnn_speed/124.pkl', '/export/scratch/inoue019/gnn_speed/43.pkl', '/export/scratch/inoue019/gnn_speed/4.pkl', '/export/scratch/inoue019/gnn_speed/36.pkl', '/export/scratch/inoue019/gnn_speed/63.pkl', '/export/scratch/inoue019/gnn_speed/118.pkl', '/export/scratch/inoue019/gnn_speed/1.pkl', '/export/scratch/inoue019/gnn_speed/50.pkl', '/export/scratch/inoue019/gnn_speed/81.pkl', '/export/scratch/inoue019/gnn_speed/46.pkl', '/export/scratch/inoue019/gnn_speed/146.pkl', '/export/scratch/inoue019/gnn_speed/11.pkl', '/export/scratch/inoue019/gnn_speed/39.pkl', '/export/scratch/inoue019/gnn_speed/128.pkl', '/export/scratch/inoue019/gnn_speed/19.pkl', '/export/scratch/inoue019/gnn_speed/101.pkl', '/export/scratch/inoue019/gnn_speed/12.pkl', '/export/scratch/inoue019/gnn_speed/190.pkl', '/export/scratch/inoue019/gnn_speed/200.pkl', '/export/scratch/inoue019/gnn_speed/193.pkl', '/export/scratch/inoue019/gnn_speed/237.pkl', '/export/scratch/inoue019/gnn_speed/95.pkl', '/export/scratch/inoue019/gnn_speed/247.pkl', '/export/scratch/inoue019/gnn_speed/131.pkl', '/export/scratch/inoue019/gnn_speed/144.pkl', '/export/scratch/inoue019/gnn_speed/5.pkl', '/export/scratch/inoue019/gnn_speed/18.pkl', '/export/scratch/inoue019/gnn_speed/82.pkl', '/export/scratch/inoue019/gnn_speed/69.pkl', '/export/scratch/inoue019/gnn_speed/97.pkl', '/export/scratch/inoue019/gnn_speed/29.pkl', '/export/scratch/inoue019/gnn_speed/302.pkl', '/export/scratch/inoue019/gnn_speed/57.pkl', '/export/scratch/inoue019/gnn_speed/2.pkl', '/export/scratch/inoue019/gnn_speed/184.pkl', '/export/scratch/inoue019/gnn_speed/51.pkl', '/export/scratch/inoue019/gnn_speed/123.pkl', '/export/scratch/inoue019/gnn_speed/245.pkl', '/export/scratch/inoue019/gnn_speed/77.pkl', '/export/scratch/inoue019/gnn_speed/201.pkl', '/export/scratch/inoue019/gnn_speed/8.pkl', '/export/scratch/inoue019/gnn_speed/228.pkl', '/export/scratch/inoue019/gnn_speed/213.pkl', '/export/scratch/inoue019/gnn_speed/191.pkl', '/export/scratch/inoue019/gnn_speed/91.pkl', '/export/scratch/inoue019/gnn_speed/114.pkl']\n"
     ]
    },
    {
     "name": "stderr",
     "output_type": "stream",
     "text": [
      "\r",
      " 60%|██████    | 3/5 [04:57<03:46, 113.45s/it]"
     ]
    },
    {
     "name": "stdout",
     "output_type": "stream",
     "text": [
      "Total time elapsed: 93.3781s\n",
      "Epoch: 0010 loss_train: 0.9960 loss_val: 0.9986\n",
      "Epoch: 0020 loss_train: 0.9886 loss_val: 0.9908\n",
      "Epoch: 0030 loss_train: 0.9775 loss_val: 0.9842\n",
      "Epoch: 0040 loss_train: 0.9657 loss_val: 0.9764\n",
      "Epoch: 0050 loss_train: 0.9542 loss_val: 0.9666\n",
      "Epoch: 0060 loss_train: 0.9443 loss_val: 0.9565\n",
      "Epoch: 0070 loss_train: 0.9377 loss_val: 0.9497\n",
      "Epoch: 0080 loss_train: 0.9330 loss_val: 0.9456\n",
      "Epoch: 0090 loss_train: 0.9301 loss_val: 0.9426\n",
      "Epoch: 0100 loss_train: 0.9277 loss_val: 0.9397\n",
      "Epoch: 0110 loss_train: 0.9263 loss_val: 0.9377\n",
      "Epoch: 0120 loss_train: 0.9256 loss_val: 0.9367\n",
      "Epoch: 0130 loss_train: 0.9249 loss_val: 0.9363\n",
      "Epoch: 0140 loss_train: 0.9243 loss_val: 0.9361\n",
      "Epoch: 0150 loss_train: 0.9239 loss_val: 0.9353\n",
      "Epoch: 0160 loss_train: 0.9236 loss_val: 0.9352\n",
      "Epoch: 0170 loss_train: 0.9236 loss_val: 0.9347\n",
      "Epoch: 0180 loss_train: 0.9233 loss_val: 0.9351\n",
      "Epoch: 0190 loss_train: 0.9233 loss_val: 0.9354\n",
      "Epoch: 0200 loss_train: 0.9230 loss_val: 0.9347\n",
      "Epoch: 0210 loss_train: 0.9227 loss_val: 0.9347\n",
      "Epoch: 0220 loss_train: 0.9234 loss_val: 0.9340\n",
      "Epoch: 0230 loss_train: 0.9229 loss_val: 0.9337\n",
      "Epoch: 0240 loss_train: 0.9229 loss_val: 0.9336\n",
      "Epoch: 0250 loss_train: 0.9224 loss_val: 0.9331\n",
      "Epoch: 0260 loss_train: 0.9227 loss_val: 0.9333\n",
      "Epoch: 0270 loss_train: 0.9228 loss_val: 0.9329\n",
      "Epoch: 0280 loss_train: 0.9229 loss_val: 0.9336\n",
      "Epoch: 0290 loss_train: 0.9229 loss_val: 0.9334\n",
      "Epoch: 0300 loss_train: 0.9232 loss_val: 0.9331\n",
      "Epoch: 0310 loss_train: 0.9235 loss_val: 0.9329\n",
      "Epoch: 0320 loss_train: 0.9230 loss_val: 0.9335\n",
      "Epoch: 0330 loss_train: 0.9228 loss_val: 0.9335\n",
      "Epoch: 0340 loss_train: 0.9229 loss_val: 0.9340\n",
      "Epoch: 0350 loss_train: 0.9230 loss_val: 0.9339\n",
      "Epoch: 0360 loss_train: 0.9231 loss_val: 0.9341\n",
      "Epoch: 0370 loss_train: 0.9235 loss_val: 0.9338\n",
      "Epoch: 0380 loss_train: 0.9235 loss_val: 0.9341\n",
      "Epoch: 0390 loss_train: 0.9233 loss_val: 0.9343\n",
      "Epoch: 0400 loss_train: 0.9233 loss_val: 0.9336\n",
      "Epoch: 0410 loss_train: 0.9235 loss_val: 0.9338\n",
      "Epoch: 0420 loss_train: 0.9233 loss_val: 0.9339\n",
      "Epoch: 0430 loss_train: 0.9235 loss_val: 0.9344\n",
      "Epoch: 0440 loss_train: 0.9242 loss_val: 0.9340\n",
      "['/export/scratch/inoue019/gnn_speed/55.pkl', '/export/scratch/inoue019/gnn_speed/85.pkl', '/export/scratch/inoue019/gnn_speed/169.pkl', '/export/scratch/inoue019/gnn_speed/52.pkl', '/export/scratch/inoue019/gnn_speed/45.pkl', '/export/scratch/inoue019/gnn_speed/13.pkl', '/export/scratch/inoue019/gnn_speed/58.pkl', '/export/scratch/inoue019/gnn_speed/192.pkl', '/export/scratch/inoue019/gnn_speed/195.pkl', '/export/scratch/inoue019/gnn_speed/20.pkl', '/export/scratch/inoue019/gnn_speed/129.pkl', '/export/scratch/inoue019/gnn_speed/14.pkl', '/export/scratch/inoue019/gnn_speed/100.pkl', '/export/scratch/inoue019/gnn_speed/65.pkl', '/export/scratch/inoue019/gnn_speed/159.pkl', '/export/scratch/inoue019/gnn_speed/73.pkl', '/export/scratch/inoue019/gnn_speed/76.pkl', '/export/scratch/inoue019/gnn_speed/90.pkl', '/export/scratch/inoue019/gnn_speed/87.pkl', '/export/scratch/inoue019/gnn_speed/56.pkl', '/export/scratch/inoue019/gnn_speed/112.pkl', '/export/scratch/inoue019/gnn_speed/78.pkl', '/export/scratch/inoue019/gnn_speed/9.pkl', '/export/scratch/inoue019/gnn_speed/67.pkl', '/export/scratch/inoue019/gnn_speed/109.pkl', '/export/scratch/inoue019/gnn_speed/105.pkl', '/export/scratch/inoue019/gnn_speed/108.pkl', '/export/scratch/inoue019/gnn_speed/148.pkl', '/export/scratch/inoue019/gnn_speed/17.pkl', '/export/scratch/inoue019/gnn_speed/22.pkl', '/export/scratch/inoue019/gnn_speed/119.pkl', '/export/scratch/inoue019/gnn_speed/212.pkl', '/export/scratch/inoue019/gnn_speed/75.pkl', '/export/scratch/inoue019/gnn_speed/103.pkl', '/export/scratch/inoue019/gnn_speed/23.pkl', '/export/scratch/inoue019/gnn_speed/80.pkl', '/export/scratch/inoue019/gnn_speed/15.pkl', '/export/scratch/inoue019/gnn_speed/89.pkl', '/export/scratch/inoue019/gnn_speed/60.pkl', '/export/scratch/inoue019/gnn_speed/61.pkl', '/export/scratch/inoue019/gnn_speed/161.pkl', '/export/scratch/inoue019/gnn_speed/6.pkl', '/export/scratch/inoue019/gnn_speed/54.pkl', '/export/scratch/inoue019/gnn_speed/99.pkl', '/export/scratch/inoue019/gnn_speed/41.pkl', '/export/scratch/inoue019/gnn_speed/34.pkl', '/export/scratch/inoue019/gnn_speed/102.pkl', '/export/scratch/inoue019/gnn_speed/7.pkl', '/export/scratch/inoue019/gnn_speed/44.pkl', '/export/scratch/inoue019/gnn_speed/38.pkl', '/export/scratch/inoue019/gnn_speed/49.pkl', '/export/scratch/inoue019/gnn_speed/59.pkl', '/export/scratch/inoue019/gnn_speed/0.pkl', '/export/scratch/inoue019/gnn_speed/28.pkl', '/export/scratch/inoue019/gnn_speed/74.pkl', '/export/scratch/inoue019/gnn_speed/94.pkl', '/export/scratch/inoue019/gnn_speed/84.pkl', '/export/scratch/inoue019/gnn_speed/149.pkl', '/export/scratch/inoue019/gnn_speed/35.pkl', '/export/scratch/inoue019/gnn_speed/37.pkl', '/export/scratch/inoue019/gnn_speed/3.pkl', '/export/scratch/inoue019/gnn_speed/86.pkl', '/export/scratch/inoue019/gnn_speed/48.pkl', '/export/scratch/inoue019/gnn_speed/47.pkl', '/export/scratch/inoue019/gnn_speed/64.pkl', '/export/scratch/inoue019/gnn_speed/66.pkl', '/export/scratch/inoue019/gnn_speed/167.pkl', '/export/scratch/inoue019/gnn_speed/27.pkl', '/export/scratch/inoue019/gnn_speed/141.pkl', '/export/scratch/inoue019/gnn_speed/96.pkl', '/export/scratch/inoue019/gnn_speed/139.pkl', '/export/scratch/inoue019/gnn_speed/16.pkl', '/export/scratch/inoue019/gnn_speed/92.pkl', '/export/scratch/inoue019/gnn_speed/70.pkl', '/export/scratch/inoue019/gnn_speed/93.pkl', '/export/scratch/inoue019/gnn_speed/143.pkl', '/export/scratch/inoue019/gnn_speed/110.pkl', '/export/scratch/inoue019/gnn_speed/79.pkl', '/export/scratch/inoue019/gnn_speed/104.pkl', '/export/scratch/inoue019/gnn_speed/68.pkl', '/export/scratch/inoue019/gnn_speed/98.pkl', '/export/scratch/inoue019/gnn_speed/10.pkl', '/export/scratch/inoue019/gnn_speed/62.pkl', '/export/scratch/inoue019/gnn_speed/142.pkl', '/export/scratch/inoue019/gnn_speed/21.pkl', '/export/scratch/inoue019/gnn_speed/42.pkl', '/export/scratch/inoue019/gnn_speed/33.pkl', '/export/scratch/inoue019/gnn_speed/25.pkl', '/export/scratch/inoue019/gnn_speed/31.pkl', '/export/scratch/inoue019/gnn_speed/88.pkl', '/export/scratch/inoue019/gnn_speed/113.pkl', '/export/scratch/inoue019/gnn_speed/53.pkl', '/export/scratch/inoue019/gnn_speed/240.pkl', '/export/scratch/inoue019/gnn_speed/40.pkl', '/export/scratch/inoue019/gnn_speed/106.pkl', '/export/scratch/inoue019/gnn_speed/26.pkl', '/export/scratch/inoue019/gnn_speed/138.pkl', '/export/scratch/inoue019/gnn_speed/24.pkl', '/export/scratch/inoue019/gnn_speed/83.pkl', '/export/scratch/inoue019/gnn_speed/71.pkl', '/export/scratch/inoue019/gnn_speed/72.pkl', '/export/scratch/inoue019/gnn_speed/32.pkl', '/export/scratch/inoue019/gnn_speed/30.pkl', '/export/scratch/inoue019/gnn_speed/43.pkl', '/export/scratch/inoue019/gnn_speed/4.pkl', '/export/scratch/inoue019/gnn_speed/36.pkl', '/export/scratch/inoue019/gnn_speed/63.pkl', '/export/scratch/inoue019/gnn_speed/168.pkl', '/export/scratch/inoue019/gnn_speed/118.pkl', '/export/scratch/inoue019/gnn_speed/1.pkl', '/export/scratch/inoue019/gnn_speed/50.pkl', '/export/scratch/inoue019/gnn_speed/81.pkl', '/export/scratch/inoue019/gnn_speed/46.pkl', '/export/scratch/inoue019/gnn_speed/246.pkl', '/export/scratch/inoue019/gnn_speed/11.pkl', '/export/scratch/inoue019/gnn_speed/39.pkl', '/export/scratch/inoue019/gnn_speed/128.pkl', '/export/scratch/inoue019/gnn_speed/19.pkl', '/export/scratch/inoue019/gnn_speed/101.pkl', '/export/scratch/inoue019/gnn_speed/12.pkl', '/export/scratch/inoue019/gnn_speed/204.pkl', '/export/scratch/inoue019/gnn_speed/95.pkl', '/export/scratch/inoue019/gnn_speed/247.pkl', '/export/scratch/inoue019/gnn_speed/5.pkl', '/export/scratch/inoue019/gnn_speed/18.pkl', '/export/scratch/inoue019/gnn_speed/82.pkl', '/export/scratch/inoue019/gnn_speed/69.pkl', '/export/scratch/inoue019/gnn_speed/97.pkl', '/export/scratch/inoue019/gnn_speed/29.pkl', '/export/scratch/inoue019/gnn_speed/302.pkl', '/export/scratch/inoue019/gnn_speed/140.pkl', '/export/scratch/inoue019/gnn_speed/57.pkl', '/export/scratch/inoue019/gnn_speed/2.pkl', '/export/scratch/inoue019/gnn_speed/51.pkl', '/export/scratch/inoue019/gnn_speed/245.pkl', '/export/scratch/inoue019/gnn_speed/248.pkl', '/export/scratch/inoue019/gnn_speed/77.pkl', '/export/scratch/inoue019/gnn_speed/8.pkl', '/export/scratch/inoue019/gnn_speed/213.pkl', '/export/scratch/inoue019/gnn_speed/191.pkl', '/export/scratch/inoue019/gnn_speed/91.pkl', '/export/scratch/inoue019/gnn_speed/111.pkl', '/export/scratch/inoue019/gnn_speed/114.pkl']\n"
     ]
    },
    {
     "name": "stderr",
     "output_type": "stream",
     "text": [
      "\r",
      " 80%|████████  | 4/5 [06:40<01:49, 109.39s/it]"
     ]
    },
    {
     "name": "stdout",
     "output_type": "stream",
     "text": [
      "Total time elapsed: 44.5032s\n",
      "Epoch: 0010 loss_train: 0.9956 loss_val: 1.0136\n",
      "Epoch: 0020 loss_train: 0.9934 loss_val: 1.0111\n",
      "Epoch: 0030 loss_train: 0.9874 loss_val: 1.0047\n",
      "Epoch: 0040 loss_train: 0.9775 loss_val: 0.9965\n",
      "Epoch: 0050 loss_train: 0.9629 loss_val: 0.9834\n",
      "Epoch: 0060 loss_train: 0.9467 loss_val: 0.9669\n",
      "Epoch: 0070 loss_train: 0.9315 loss_val: 0.9519\n",
      "Epoch: 0080 loss_train: 0.9174 loss_val: 0.9391\n",
      "Epoch: 0090 loss_train: 0.9075 loss_val: 0.9284\n",
      "Epoch: 0100 loss_train: 0.8977 loss_val: 0.9207\n",
      "Epoch: 0110 loss_train: 0.8890 loss_val: 0.9111\n",
      "Epoch: 0120 loss_train: 0.8825 loss_val: 0.9042\n",
      "Epoch: 0130 loss_train: 0.8773 loss_val: 0.9007\n",
      "Epoch: 0140 loss_train: 0.8740 loss_val: 0.8973\n",
      "Epoch: 0150 loss_train: 0.8704 loss_val: 0.8950\n",
      "Epoch: 0160 loss_train: 0.8677 loss_val: 0.8925\n",
      "Epoch: 0170 loss_train: 0.8641 loss_val: 0.8890\n",
      "Epoch: 0180 loss_train: 0.8648 loss_val: 0.8883\n",
      "Epoch: 0190 loss_train: 0.8607 loss_val: 0.8856\n",
      "Epoch: 0200 loss_train: 0.8604 loss_val: 0.8845\n",
      "Epoch: 0210 loss_train: 0.8574 loss_val: 0.8837\n",
      "Epoch: 0220 loss_train: 0.8561 loss_val: 0.8837\n",
      "Epoch: 0230 loss_train: 0.8564 loss_val: 0.8813\n",
      "Epoch: 0240 loss_train: 0.8550 loss_val: 0.8803\n",
      "Epoch: 0250 loss_train: 0.8554 loss_val: 0.8806\n",
      "Epoch: 0260 loss_train: 0.8549 loss_val: 0.8797\n",
      "Epoch: 0270 loss_train: 0.8525 loss_val: 0.8790\n",
      "Epoch: 0280 loss_train: 0.8529 loss_val: 0.8792\n",
      "Epoch: 0290 loss_train: 0.8534 loss_val: 0.8791\n",
      "Epoch: 0300 loss_train: 0.8534 loss_val: 0.8791\n",
      "Epoch: 0310 loss_train: 0.8521 loss_val: 0.8785\n",
      "Epoch: 0320 loss_train: 0.8517 loss_val: 0.8793\n",
      "Epoch: 0330 loss_train: 0.8515 loss_val: 0.8780\n",
      "Epoch: 0340 loss_train: 0.8523 loss_val: 0.8789\n",
      "Epoch: 0350 loss_train: 0.8530 loss_val: 0.8797\n",
      "Epoch: 0360 loss_train: 0.8529 loss_val: 0.8785\n",
      "Epoch: 0370 loss_train: 0.8507 loss_val: 0.8793\n",
      "Epoch: 0380 loss_train: 0.8515 loss_val: 0.8787\n",
      "Epoch: 0390 loss_train: 0.8531 loss_val: 0.8788\n",
      "Epoch: 0400 loss_train: 0.8521 loss_val: 0.8778\n",
      "Epoch: 0410 loss_train: 0.8532 loss_val: 0.8780\n",
      "Epoch: 0420 loss_train: 0.8515 loss_val: 0.8783\n",
      "Epoch: 0430 loss_train: 0.8535 loss_val: 0.8783\n",
      "Epoch: 0440 loss_train: 0.8525 loss_val: 0.8779\n",
      "Epoch: 0450 loss_train: 0.8517 loss_val: 0.8781\n",
      "Epoch: 0460 loss_train: 0.8510 loss_val: 0.8784\n",
      "Epoch: 0470 loss_train: 0.8535 loss_val: 0.8785\n",
      "Epoch: 0480 loss_train: 0.8537 loss_val: 0.8778\n",
      "Epoch: 0490 loss_train: 0.8524 loss_val: 0.8779\n",
      "Epoch: 0500 loss_train: 0.8519 loss_val: 0.8786\n",
      "Epoch: 0510 loss_train: 0.8507 loss_val: 0.8780\n",
      "Epoch: 0520 loss_train: 0.8514 loss_val: 0.8792\n",
      "Epoch: 0530 loss_train: 0.8534 loss_val: 0.8791\n",
      "Epoch: 0540 loss_train: 0.8547 loss_val: 0.8791\n",
      "Epoch: 0550 loss_train: 0.8522 loss_val: 0.8783\n",
      "Epoch: 0560 loss_train: 0.8557 loss_val: 0.8789\n",
      "['/export/scratch/inoue019/gnn_speed/55.pkl', '/export/scratch/inoue019/gnn_speed/180.pkl', '/export/scratch/inoue019/gnn_speed/229.pkl', '/export/scratch/inoue019/gnn_speed/85.pkl', '/export/scratch/inoue019/gnn_speed/169.pkl', '/export/scratch/inoue019/gnn_speed/266.pkl', '/export/scratch/inoue019/gnn_speed/107.pkl', '/export/scratch/inoue019/gnn_speed/52.pkl', '/export/scratch/inoue019/gnn_speed/45.pkl', '/export/scratch/inoue019/gnn_speed/13.pkl', '/export/scratch/inoue019/gnn_speed/58.pkl', '/export/scratch/inoue019/gnn_speed/192.pkl', '/export/scratch/inoue019/gnn_speed/155.pkl', '/export/scratch/inoue019/gnn_speed/183.pkl', '/export/scratch/inoue019/gnn_speed/20.pkl', '/export/scratch/inoue019/gnn_speed/117.pkl', '/export/scratch/inoue019/gnn_speed/129.pkl', '/export/scratch/inoue019/gnn_speed/14.pkl', '/export/scratch/inoue019/gnn_speed/100.pkl', '/export/scratch/inoue019/gnn_speed/65.pkl', '/export/scratch/inoue019/gnn_speed/73.pkl', '/export/scratch/inoue019/gnn_speed/76.pkl', '/export/scratch/inoue019/gnn_speed/170.pkl', '/export/scratch/inoue019/gnn_speed/90.pkl', '/export/scratch/inoue019/gnn_speed/87.pkl', '/export/scratch/inoue019/gnn_speed/188.pkl', '/export/scratch/inoue019/gnn_speed/253.pkl', '/export/scratch/inoue019/gnn_speed/56.pkl', '/export/scratch/inoue019/gnn_speed/227.pkl', '/export/scratch/inoue019/gnn_speed/236.pkl', '/export/scratch/inoue019/gnn_speed/342.pkl', '/export/scratch/inoue019/gnn_speed/112.pkl', '/export/scratch/inoue019/gnn_speed/258.pkl', '/export/scratch/inoue019/gnn_speed/78.pkl', '/export/scratch/inoue019/gnn_speed/9.pkl', '/export/scratch/inoue019/gnn_speed/171.pkl', '/export/scratch/inoue019/gnn_speed/122.pkl', '/export/scratch/inoue019/gnn_speed/67.pkl', '/export/scratch/inoue019/gnn_speed/109.pkl', '/export/scratch/inoue019/gnn_speed/133.pkl', '/export/scratch/inoue019/gnn_speed/199.pkl', '/export/scratch/inoue019/gnn_speed/363.pkl', '/export/scratch/inoue019/gnn_speed/105.pkl', '/export/scratch/inoue019/gnn_speed/108.pkl', '/export/scratch/inoue019/gnn_speed/148.pkl', '/export/scratch/inoue019/gnn_speed/17.pkl', '/export/scratch/inoue019/gnn_speed/22.pkl', '/export/scratch/inoue019/gnn_speed/152.pkl', '/export/scratch/inoue019/gnn_speed/207.pkl', '/export/scratch/inoue019/gnn_speed/364.pkl', '/export/scratch/inoue019/gnn_speed/119.pkl', '/export/scratch/inoue019/gnn_speed/210.pkl', '/export/scratch/inoue019/gnn_speed/136.pkl', '/export/scratch/inoue019/gnn_speed/235.pkl', '/export/scratch/inoue019/gnn_speed/75.pkl', '/export/scratch/inoue019/gnn_speed/103.pkl', '/export/scratch/inoue019/gnn_speed/268.pkl', '/export/scratch/inoue019/gnn_speed/132.pkl', '/export/scratch/inoue019/gnn_speed/343.pkl', '/export/scratch/inoue019/gnn_speed/23.pkl', '/export/scratch/inoue019/gnn_speed/80.pkl', '/export/scratch/inoue019/gnn_speed/15.pkl', '/export/scratch/inoue019/gnn_speed/89.pkl', '/export/scratch/inoue019/gnn_speed/60.pkl', '/export/scratch/inoue019/gnn_speed/160.pkl', '/export/scratch/inoue019/gnn_speed/224.pkl', '/export/scratch/inoue019/gnn_speed/61.pkl', '/export/scratch/inoue019/gnn_speed/161.pkl', '/export/scratch/inoue019/gnn_speed/6.pkl', '/export/scratch/inoue019/gnn_speed/54.pkl', '/export/scratch/inoue019/gnn_speed/365.pkl', '/export/scratch/inoue019/gnn_speed/182.pkl', '/export/scratch/inoue019/gnn_speed/99.pkl', '/export/scratch/inoue019/gnn_speed/41.pkl', '/export/scratch/inoue019/gnn_speed/206.pkl', '/export/scratch/inoue019/gnn_speed/34.pkl', '/export/scratch/inoue019/gnn_speed/102.pkl', '/export/scratch/inoue019/gnn_speed/7.pkl', '/export/scratch/inoue019/gnn_speed/44.pkl', '/export/scratch/inoue019/gnn_speed/38.pkl', '/export/scratch/inoue019/gnn_speed/49.pkl', '/export/scratch/inoue019/gnn_speed/59.pkl', '/export/scratch/inoue019/gnn_speed/0.pkl', '/export/scratch/inoue019/gnn_speed/362.pkl', '/export/scratch/inoue019/gnn_speed/28.pkl', '/export/scratch/inoue019/gnn_speed/74.pkl', '/export/scratch/inoue019/gnn_speed/94.pkl', '/export/scratch/inoue019/gnn_speed/127.pkl', '/export/scratch/inoue019/gnn_speed/163.pkl', '/export/scratch/inoue019/gnn_speed/135.pkl', '/export/scratch/inoue019/gnn_speed/84.pkl', '/export/scratch/inoue019/gnn_speed/149.pkl', '/export/scratch/inoue019/gnn_speed/165.pkl', '/export/scratch/inoue019/gnn_speed/35.pkl', '/export/scratch/inoue019/gnn_speed/37.pkl', '/export/scratch/inoue019/gnn_speed/115.pkl', '/export/scratch/inoue019/gnn_speed/3.pkl', '/export/scratch/inoue019/gnn_speed/86.pkl', '/export/scratch/inoue019/gnn_speed/209.pkl', '/export/scratch/inoue019/gnn_speed/48.pkl', '/export/scratch/inoue019/gnn_speed/162.pkl', '/export/scratch/inoue019/gnn_speed/116.pkl', '/export/scratch/inoue019/gnn_speed/47.pkl', '/export/scratch/inoue019/gnn_speed/64.pkl', '/export/scratch/inoue019/gnn_speed/66.pkl', '/export/scratch/inoue019/gnn_speed/27.pkl', '/export/scratch/inoue019/gnn_speed/156.pkl', '/export/scratch/inoue019/gnn_speed/141.pkl', '/export/scratch/inoue019/gnn_speed/96.pkl', '/export/scratch/inoue019/gnn_speed/139.pkl', '/export/scratch/inoue019/gnn_speed/153.pkl', '/export/scratch/inoue019/gnn_speed/16.pkl', '/export/scratch/inoue019/gnn_speed/92.pkl', '/export/scratch/inoue019/gnn_speed/145.pkl', '/export/scratch/inoue019/gnn_speed/130.pkl', '/export/scratch/inoue019/gnn_speed/70.pkl', '/export/scratch/inoue019/gnn_speed/93.pkl', '/export/scratch/inoue019/gnn_speed/120.pkl', '/export/scratch/inoue019/gnn_speed/143.pkl', '/export/scratch/inoue019/gnn_speed/110.pkl', '/export/scratch/inoue019/gnn_speed/79.pkl', '/export/scratch/inoue019/gnn_speed/104.pkl', '/export/scratch/inoue019/gnn_speed/68.pkl', '/export/scratch/inoue019/gnn_speed/98.pkl', '/export/scratch/inoue019/gnn_speed/176.pkl', '/export/scratch/inoue019/gnn_speed/10.pkl', '/export/scratch/inoue019/gnn_speed/211.pkl', '/export/scratch/inoue019/gnn_speed/150.pkl', '/export/scratch/inoue019/gnn_speed/62.pkl', '/export/scratch/inoue019/gnn_speed/142.pkl', '/export/scratch/inoue019/gnn_speed/21.pkl', '/export/scratch/inoue019/gnn_speed/164.pkl', '/export/scratch/inoue019/gnn_speed/260.pkl', '/export/scratch/inoue019/gnn_speed/42.pkl', '/export/scratch/inoue019/gnn_speed/33.pkl', '/export/scratch/inoue019/gnn_speed/25.pkl', '/export/scratch/inoue019/gnn_speed/31.pkl', '/export/scratch/inoue019/gnn_speed/226.pkl', '/export/scratch/inoue019/gnn_speed/88.pkl', '/export/scratch/inoue019/gnn_speed/113.pkl', '/export/scratch/inoue019/gnn_speed/53.pkl', '/export/scratch/inoue019/gnn_speed/40.pkl', '/export/scratch/inoue019/gnn_speed/283.pkl', '/export/scratch/inoue019/gnn_speed/106.pkl', '/export/scratch/inoue019/gnn_speed/26.pkl', '/export/scratch/inoue019/gnn_speed/24.pkl', '/export/scratch/inoue019/gnn_speed/83.pkl', '/export/scratch/inoue019/gnn_speed/71.pkl', '/export/scratch/inoue019/gnn_speed/126.pkl', '/export/scratch/inoue019/gnn_speed/72.pkl', '/export/scratch/inoue019/gnn_speed/32.pkl', '/export/scratch/inoue019/gnn_speed/30.pkl', '/export/scratch/inoue019/gnn_speed/124.pkl', '/export/scratch/inoue019/gnn_speed/43.pkl', '/export/scratch/inoue019/gnn_speed/179.pkl', '/export/scratch/inoue019/gnn_speed/177.pkl', '/export/scratch/inoue019/gnn_speed/4.pkl', '/export/scratch/inoue019/gnn_speed/36.pkl', '/export/scratch/inoue019/gnn_speed/63.pkl', '/export/scratch/inoue019/gnn_speed/168.pkl', '/export/scratch/inoue019/gnn_speed/118.pkl', '/export/scratch/inoue019/gnn_speed/1.pkl', '/export/scratch/inoue019/gnn_speed/50.pkl', '/export/scratch/inoue019/gnn_speed/81.pkl', '/export/scratch/inoue019/gnn_speed/46.pkl', '/export/scratch/inoue019/gnn_speed/267.pkl', '/export/scratch/inoue019/gnn_speed/146.pkl', '/export/scratch/inoue019/gnn_speed/11.pkl', '/export/scratch/inoue019/gnn_speed/39.pkl', '/export/scratch/inoue019/gnn_speed/128.pkl', '/export/scratch/inoue019/gnn_speed/19.pkl', '/export/scratch/inoue019/gnn_speed/189.pkl', '/export/scratch/inoue019/gnn_speed/101.pkl', '/export/scratch/inoue019/gnn_speed/12.pkl', '/export/scratch/inoue019/gnn_speed/238.pkl', '/export/scratch/inoue019/gnn_speed/284.pkl', '/export/scratch/inoue019/gnn_speed/256.pkl', '/export/scratch/inoue019/gnn_speed/200.pkl', '/export/scratch/inoue019/gnn_speed/328.pkl', '/export/scratch/inoue019/gnn_speed/178.pkl', '/export/scratch/inoue019/gnn_speed/125.pkl', '/export/scratch/inoue019/gnn_speed/237.pkl', '/export/scratch/inoue019/gnn_speed/187.pkl', '/export/scratch/inoue019/gnn_speed/95.pkl', '/export/scratch/inoue019/gnn_speed/292.pkl', '/export/scratch/inoue019/gnn_speed/151.pkl', '/export/scratch/inoue019/gnn_speed/131.pkl', '/export/scratch/inoue019/gnn_speed/144.pkl', '/export/scratch/inoue019/gnn_speed/5.pkl', '/export/scratch/inoue019/gnn_speed/18.pkl', '/export/scratch/inoue019/gnn_speed/181.pkl', '/export/scratch/inoue019/gnn_speed/82.pkl', '/export/scratch/inoue019/gnn_speed/69.pkl', '/export/scratch/inoue019/gnn_speed/225.pkl', '/export/scratch/inoue019/gnn_speed/97.pkl', '/export/scratch/inoue019/gnn_speed/29.pkl', '/export/scratch/inoue019/gnn_speed/140.pkl', '/export/scratch/inoue019/gnn_speed/57.pkl', '/export/scratch/inoue019/gnn_speed/2.pkl', '/export/scratch/inoue019/gnn_speed/51.pkl', '/export/scratch/inoue019/gnn_speed/261.pkl', '/export/scratch/inoue019/gnn_speed/123.pkl', '/export/scratch/inoue019/gnn_speed/121.pkl', '/export/scratch/inoue019/gnn_speed/259.pkl', '/export/scratch/inoue019/gnn_speed/282.pkl', '/export/scratch/inoue019/gnn_speed/248.pkl', '/export/scratch/inoue019/gnn_speed/77.pkl', '/export/scratch/inoue019/gnn_speed/134.pkl', '/export/scratch/inoue019/gnn_speed/201.pkl', '/export/scratch/inoue019/gnn_speed/8.pkl', '/export/scratch/inoue019/gnn_speed/228.pkl', '/export/scratch/inoue019/gnn_speed/294.pkl', '/export/scratch/inoue019/gnn_speed/213.pkl', '/export/scratch/inoue019/gnn_speed/154.pkl', '/export/scratch/inoue019/gnn_speed/91.pkl', '/export/scratch/inoue019/gnn_speed/111.pkl', '/export/scratch/inoue019/gnn_speed/166.pkl', '/export/scratch/inoue019/gnn_speed/114.pkl']\n"
     ]
    },
    {
     "name": "stderr",
     "output_type": "stream",
     "text": [
      "100%|██████████| 5/5 [07:31<00:00, 90.33s/it] "
     ]
    },
    {
     "name": "stdout",
     "output_type": "stream",
     "text": [
      "Total time elapsed: 12.0114s\n"
     ]
    },
    {
     "name": "stderr",
     "output_type": "stream",
     "text": [
      "\n"
     ]
    }
   ],
   "source": [
    "import time\n",
    "\n",
    "res = []\n",
    "dir_list = ['baron', 'brosens', 'carey', 'hcabm40k', 'chang']\n",
    "for i in tqdm(dir_list):\n",
    "    X_norm, labels = get_data(i)\n",
    "    start_time = time.time()\n",
    "    adata = sc.AnnData(X_norm.values)\n",
    "    adata = GNNImpute(\n",
    "        adata=adata, layer='GATConv',\n",
    "        no_cuda=False,\n",
    "        d = '/export/scratch/inoue019/gnn_speed/',\n",
    "        epochs=3000, \n",
    "        lr=0.001, weight_decay=0.0005,\n",
    "        hidden=50, patience=200,\n",
    "        fastmode=False, heads=3,\n",
    "        use_raw=False,\n",
    "        verbose=True\n",
    "    )\n",
    "    end_time = time.time()\n",
    "    res.append(end_time - start_time)"
   ]
  },
  {
   "cell_type": "code",
   "execution_count": 5,
   "id": "6a26d088",
   "metadata": {},
   "outputs": [
    {
     "data": {
      "text/html": [
       "<div>\n",
       "<style scoped>\n",
       "    .dataframe tbody tr th:only-of-type {\n",
       "        vertical-align: middle;\n",
       "    }\n",
       "\n",
       "    .dataframe tbody tr th {\n",
       "        vertical-align: top;\n",
       "    }\n",
       "\n",
       "    .dataframe thead th {\n",
       "        text-align: right;\n",
       "    }\n",
       "</style>\n",
       "<table border=\"1\" class=\"dataframe\">\n",
       "  <thead>\n",
       "    <tr style=\"text-align: right;\">\n",
       "      <th></th>\n",
       "      <th>0</th>\n",
       "    </tr>\n",
       "  </thead>\n",
       "  <tbody>\n",
       "    <tr>\n",
       "      <th>0</th>\n",
       "      <td>33.375801</td>\n",
       "    </tr>\n",
       "    <tr>\n",
       "      <th>1</th>\n",
       "      <td>50.337179</td>\n",
       "    </tr>\n",
       "    <tr>\n",
       "      <th>2</th>\n",
       "      <td>96.288406</td>\n",
       "    </tr>\n",
       "    <tr>\n",
       "      <th>3</th>\n",
       "      <td>45.904006</td>\n",
       "    </tr>\n",
       "    <tr>\n",
       "      <th>4</th>\n",
       "      <td>12.467141</td>\n",
       "    </tr>\n",
       "  </tbody>\n",
       "</table>\n",
       "</div>"
      ],
      "text/plain": [
       "           0\n",
       "0  33.375801\n",
       "1  50.337179\n",
       "2  96.288406\n",
       "3  45.904006\n",
       "4  12.467141"
      ]
     },
     "execution_count": 5,
     "metadata": {},
     "output_type": "execute_result"
    }
   ],
   "source": [
    "pd.DataFrame(res)"
   ]
  },
  {
   "cell_type": "code",
   "execution_count": null,
   "id": "f6b2c618",
   "metadata": {},
   "outputs": [],
   "source": []
  },
  {
   "cell_type": "code",
   "execution_count": null,
   "id": "997b0a2e",
   "metadata": {},
   "outputs": [],
   "source": []
  },
  {
   "cell_type": "code",
   "execution_count": null,
   "id": "6ef37fdc",
   "metadata": {},
   "outputs": [],
   "source": []
  },
  {
   "cell_type": "code",
   "execution_count": null,
   "id": "c621d382",
   "metadata": {},
   "outputs": [],
   "source": []
  },
  {
   "cell_type": "code",
   "execution_count": null,
   "id": "832fdf8e",
   "metadata": {},
   "outputs": [],
   "source": []
  },
  {
   "cell_type": "code",
   "execution_count": null,
   "id": "1a1025fe",
   "metadata": {},
   "outputs": [],
   "source": []
  }
 ],
 "metadata": {
  "kernelspec": {
   "display_name": "gnnimpute",
   "language": "python",
   "name": "gnnimpute"
  },
  "language_info": {
   "codemirror_mode": {
    "name": "ipython",
    "version": 3
   },
   "file_extension": ".py",
   "mimetype": "text/x-python",
   "name": "python",
   "nbconvert_exporter": "python",
   "pygments_lexer": "ipython3",
   "version": "3.6.13"
  }
 },
 "nbformat": 4,
 "nbformat_minor": 5
}
