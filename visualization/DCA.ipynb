{
 "cells": [
  {
   "cell_type": "code",
   "execution_count": 1,
   "id": "f0767afb",
   "metadata": {},
   "outputs": [
    {
     "name": "stderr",
     "output_type": "stream",
     "text": [
      "/export/scratch/inoue019/envs/dca/lib/python3.6/site-packages/kopt/config.py:60: YAMLLoadWarning: calling yaml.load() without Loader=... is deprecated, as the default Loader is unsafe. Please read https://msg.pyyaml.org/load for full details.\n",
      "  _config = yaml.load(open(_config_path))\n"
     ]
    }
   ],
   "source": [
    "import numpy as np\n",
    "import pandas as pd\n",
    "import scanpy as sc\n",
    "\n",
    "from sklearn.metrics import adjusted_rand_score, adjusted_mutual_info_score, normalized_mutual_info_score\n",
    "from sklearn.cluster import KMeans, SpectralClustering\n",
    "from sklearn.cluster import SpectralClustering\n",
    "\n",
    "from sklearn.decomposition import PCA, SparsePCA, KernelPCA\n",
    "from sklearn.manifold import TSNE\n",
    "\n",
    "from rpy2.robjects import r, pandas2ri\n",
    "from rpy2.robjects.vectors import StrVector\n",
    "\n",
    "pandas2ri.activate()\n",
    "\n",
    "import scprep\n",
    "\n",
    "%matplotlib inline\n",
    "\n",
    "import warnings\n",
    "\n",
    "from sklearn.cluster import KMeans\n",
    "from tqdm import tqdm\n",
    "\n",
    "# r('''library(Seurat)''')\n",
    "\n",
    "from dca.api import dca"
   ]
  },
  {
   "cell_type": "code",
   "execution_count": 2,
   "id": "796d8acf",
   "metadata": {},
   "outputs": [],
   "source": [
    "def get_data(i):\n",
    "    df = pd.read_csv('../data/{}/data.csv.gz'.format(i), index_col=0)\n",
    "    tmp = np.sign(df)\n",
    "    cols = (np.sum(tmp) > int((df.shape[0])*0.05))\n",
    "    rows = (np.sum(tmp, axis=1) > int((df.shape[1])*0.05))\n",
    "    df = df.loc[rows, cols]\n",
    "    X = df.reset_index(drop=True)\n",
    "    labels = df.index\n",
    "    return X, labels"
   ]
  },
  {
   "cell_type": "code",
   "execution_count": 3,
   "id": "3e24087b",
   "metadata": {
    "scrolled": true
   },
   "outputs": [
    {
     "name": "stderr",
     "output_type": "stream",
     "text": [
      "/export/scratch/inoue019/envs/dca/lib/python3.6/site-packages/anndata/_core/anndata.py:120: ImplicitModificationWarning: Transforming to str index.\n",
      "  warnings.warn(\"Transforming to str index.\", ImplicitModificationWarning)\n"
     ]
    },
    {
     "name": "stdout",
     "output_type": "stream",
     "text": [
      "dca: Successfully preprocessed 8102 genes and 3567 cells.\n",
      "WARNING:tensorflow:From /export/scratch/inoue019/envs/dca/lib/python3.6/site-packages/dca/train.py:41: The name tf.keras.backend.set_session is deprecated. Please use tf.compat.v1.keras.backend.set_session instead.\n",
      "\n"
     ]
    },
    {
     "name": "stderr",
     "output_type": "stream",
     "text": [
      "2023-10-11 23:43:03,810 [WARNING] From /export/scratch/inoue019/envs/dca/lib/python3.6/site-packages/dca/train.py:41: The name tf.keras.backend.set_session is deprecated. Please use tf.compat.v1.keras.backend.set_session instead.\n",
      "\n",
      "/export/scratch/inoue019/envs/dca/lib/python3.6/site-packages/tensorflow/python/keras/engine/training.py:2323: UserWarning: `Model.state_updates` will be removed in a future version. This property should not be used in TensorFlow 2.0, as `updates` are applied automatically.\n",
      "  warnings.warn('`Model.state_updates` will be removed in a future version. '\n"
     ]
    },
    {
     "name": "stdout",
     "output_type": "stream",
     "text": [
      "dca: Calculating reconstructions...\n"
     ]
    }
   ],
   "source": [
    "X_norm, labels = get_data('brosens')\n",
    "adata = sc.AnnData(X_norm)\n",
    "dca(adata, verbose=False)\n",
    "pred = adata.X"
   ]
  },
  {
   "cell_type": "code",
   "execution_count": 4,
   "id": "1f73b81e",
   "metadata": {},
   "outputs": [],
   "source": [
    "pd.DataFrame(pred, ).to_csv('result/dca.csv')"
   ]
  },
  {
   "cell_type": "code",
   "execution_count": null,
   "id": "bf7a4094",
   "metadata": {},
   "outputs": [],
   "source": []
  },
  {
   "cell_type": "code",
   "execution_count": null,
   "id": "7b2133c9",
   "metadata": {},
   "outputs": [],
   "source": []
  },
  {
   "cell_type": "code",
   "execution_count": null,
   "id": "7672c0d8",
   "metadata": {},
   "outputs": [],
   "source": []
  },
  {
   "cell_type": "code",
   "execution_count": null,
   "id": "f7d6fb3b",
   "metadata": {},
   "outputs": [],
   "source": []
  },
  {
   "cell_type": "code",
   "execution_count": null,
   "id": "5b4b5d49",
   "metadata": {},
   "outputs": [],
   "source": []
  },
  {
   "cell_type": "code",
   "execution_count": null,
   "id": "314295a4",
   "metadata": {},
   "outputs": [],
   "source": []
  }
 ],
 "metadata": {
  "kernelspec": {
   "display_name": "dca",
   "language": "python",
   "name": "dca"
  },
  "language_info": {
   "codemirror_mode": {
    "name": "ipython",
    "version": 3
   },
   "file_extension": ".py",
   "mimetype": "text/x-python",
   "name": "python",
   "nbconvert_exporter": "python",
   "pygments_lexer": "ipython3",
   "version": "3.6.13"
  }
 },
 "nbformat": 4,
 "nbformat_minor": 5
}
